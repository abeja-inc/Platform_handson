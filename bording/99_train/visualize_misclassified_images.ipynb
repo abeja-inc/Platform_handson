{
 "cells": [
  {
   "cell_type": "markdown",
   "metadata": {},
   "source": [
    "## Visualize misclassified images"
   ]
  },
  {
   "cell_type": "code",
   "execution_count": null,
   "metadata": {},
   "outputs": [],
   "source": [
    "from keras.models import load_model\n",
    "img_rows, img_cols = 224, 224\n",
    "\n",
    "# set job id\n",
    "JOB_ID = 'XXXXXXXXXXXXX'\n",
    "\n",
    "model = load_model('/mnt/training_jobs/{}/model.h5'.format(JOB_ID))\n",
    "model.summary()"
   ]
  },
  {
   "cell_type": "code",
   "execution_count": null,
   "metadata": {},
   "outputs": [],
   "source": [
    "import io\n",
    "from keras.preprocessing.image import load_img\n",
    "from keras.preprocessing.image import img_to_array\n",
    "from keras.applications.imagenet_utils import preprocess_input\n",
    "from abeja.datasets import Client\n",
    "\n",
    "def load_dataset_from_api(dataset_id):\n",
    "    client = Client()\n",
    "    dataset = client.get_dataset(dataset_id)\n",
    "\n",
    "    for item in dataset.dataset_items.list(prefetch=True):\n",
    "        file_content = item.source_data[0].get_content()\n",
    "        label = item.attributes['classification'][0]['label_id']\n",
    "        file_like_object = io.BytesIO(file_content)\n",
    "        img = load_img(file_like_object, target_size=(img_rows, img_cols))\n",
    "        yield img, label"
   ]
  },
  {
   "cell_type": "code",
   "execution_count": null,
   "metadata": {},
   "outputs": [],
   "source": [
    "# set dataset id\n",
    "dataset_id = 'XXXXXXXXXXXXX'\n",
    "data = list(load_dataset_from_api(dataset_id))"
   ]
  },
  {
   "cell_type": "code",
   "execution_count": null,
   "metadata": {},
   "outputs": [],
   "source": [
    "import numpy as np\n",
    "x = np.array([img_to_array(_[0]) for _ in data])\n",
    "y = np.array([_[1] for _ in data])"
   ]
  },
  {
   "cell_type": "code",
   "execution_count": null,
   "metadata": {},
   "outputs": [],
   "source": [
    "import keras\n",
    "x_preprocessed = preprocess_input(x, mode='tf')\n",
    "x_preprocessed = x_preprocessed.astype('float32')\n",
    "num_classes = 5"
   ]
  },
  {
   "cell_type": "code",
   "execution_count": null,
   "metadata": {},
   "outputs": [],
   "source": [
    "results = model.predict(x_preprocessed, batch_size=1, verbose=1)"
   ]
  },
  {
   "cell_type": "code",
   "execution_count": null,
   "metadata": {},
   "outputs": [],
   "source": [
    "predicted_classes = results.argmax(axis=-1)"
   ]
  },
  {
   "cell_type": "code",
   "execution_count": null,
   "metadata": {},
   "outputs": [],
   "source": [
    "predicted_classes"
   ]
  },
  {
   "cell_type": "code",
   "execution_count": null,
   "metadata": {},
   "outputs": [],
   "source": [
    "!pip install seaborn\n",
    "from sklearn.metrics import confusion_matrix\n",
    "import seaborn as sn\n",
    "import pandas as pd\n",
    "import matplotlib.pyplot as plt\n",
    "%matplotlib inline\n",
    "\n",
    "class_names = ['compressor', 'fan_motor', 'filter', 'louver_motor', 'thermistor']\n",
    "\n",
    "def print_cmx(y_true, y_pred):\n",
    "    labels = sorted(list(set(y_true)))\n",
    "    cmx_data = confusion_matrix(y_true, y_pred, labels=labels)\n",
    "    \n",
    "    df_cmx = pd.DataFrame(cmx_data, index=class_names, columns=class_names)\n",
    " \n",
    "    plt.figure(figsize = (12,7))\n",
    "    sn.heatmap(df_cmx, annot=True, fmt='g' ,square = True,cmap=\"Blues\",)\n",
    "    plt.show()\n",
    " \n",
    "print_cmx(y, predicted_classes)"
   ]
  },
  {
   "cell_type": "code",
   "execution_count": null,
   "metadata": {},
   "outputs": [],
   "source": [
    "from PIL import Image\n",
    "\n",
    "for i, v in enumerate(predicted_classes):\n",
    "    answer = y[i]\n",
    "    img = data[i][0]\n",
    "    if answer == v:\n",
    "        continue \n",
    "    print('predict:{} answer: {}'.format(class_names[v], class_names[answer]))\n",
    "    display(img)"
   ]
  },
  {
   "cell_type": "code",
   "execution_count": null,
   "metadata": {},
   "outputs": [],
   "source": []
  }
 ],
 "metadata": {
  "kernelspec": {
   "display_name": "Python 3",
   "language": "python",
   "name": "python3"
  },
  "language_info": {
   "codemirror_mode": {
    "name": "ipython",
    "version": 3
   },
   "file_extension": ".py",
   "mimetype": "text/x-python",
   "name": "python",
   "nbconvert_exporter": "python",
   "pygments_lexer": "ipython3",
   "version": "3.6.7"
  }
 },
 "nbformat": 4,
 "nbformat_minor": 4
}

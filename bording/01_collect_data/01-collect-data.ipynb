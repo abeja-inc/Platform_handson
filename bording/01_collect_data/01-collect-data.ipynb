{
 "cells": [
  {
   "cell_type": "markdown",
   "metadata": {},
   "source": [
    "## 01-collect-data"
   ]
  },
  {
   "cell_type": "markdown",
   "metadata": {},
   "source": [
    "### Step 1: Load data"
   ]
  },
  {
   "cell_type": "code",
   "execution_count": null,
   "metadata": {},
   "outputs": [],
   "source": [
    "from glob import glob\n",
    "\n",
    "# load filenames for images\n",
    "file_names = list(glob('./Images/*/*'))\n",
    "dir_names = list(glob('./Images/*'))\n",
    "\n",
    "# print number of images in dataset\n",
    "print('There are %d total images.' % len(file_names))"
   ]
  },
  {
   "cell_type": "code",
   "execution_count": null,
   "metadata": {},
   "outputs": [],
   "source": [
    "# select directories\n",
    "selected_dirnames = [d for d in dir_names]\n",
    "print(selected_dirnames)"
   ]
  },
  {
   "cell_type": "markdown",
   "metadata": {},
   "source": [
    "### Step 2: Upload data to Datalake channel"
   ]
  },
  {
   "cell_type": "code",
   "execution_count": null,
   "metadata": {},
   "outputs": [],
   "source": [
    "# set credential\n",
    "credential = {\n",
    "    'user_id': 'user-XXXXXXXXXXXXX',\n",
    "    'personal_access_token': 'XXXXXXXXXXXXXXXXXXXXXXXXXXXXXXXXXXXXXXXX'\n",
    "}\n",
    "\n",
    "organization_id='XXXXXXXXXXXXX'"
   ]
  },
  {
   "cell_type": "code",
   "execution_count": null,
   "metadata": {},
   "outputs": [],
   "source": [
    "from abeja.datalake import Client as DatalakeClient\n",
    "\n",
    "# set datalake channel_id\n",
    "channel_id = 'XXXXXXXXXXXXX'\n",
    "\n",
    "datalake_client = DatalakeClient(organization_id, credential)\n",
    "channel = datalake_client.get_channel(channel_id)\n",
    "\n",
    "import os\n",
    "from tqdm import tqdm\n",
    "\n",
    "# upload directory data to datalake\n",
    "for d in tqdm(selected_dirnames):\n",
    "    # convert to uppercase and remove numbers\n",
    "    label_name = os.path.basename(d).upper()[10:]\n",
    "    metadata = {'label': label_name}\n",
    "    channel.upload_dir(d, metadata=metadata)"
   ]
  },
  {
   "cell_type": "markdown",
   "metadata": {},
   "source": [
    "### Step 4: Create dataset label"
   ]
  },
  {
   "cell_type": "code",
   "execution_count": null,
   "metadata": {},
   "outputs": [],
   "source": [
    "import json\n",
    "\n",
    "labels = sorted([os.path.basename(d).upper()[10:] for d in selected_dirnames])\n",
    "labels_and_id = []\n",
    "label_to_id = {}\n",
    "\n",
    "for i, name in enumerate(labels):\n",
    "    label_to_id[name] = i\n",
    "    labels_and_id.append({'label_id': i,\n",
    "                   'label': name})\n",
    "    \n",
    "# define category name\n",
    "category_name = 'bull-classificaiton'\n",
    "\n",
    "# create dataset label\n",
    "category = {\n",
    "    'category_id': 0,\n",
    "    'name': category_name,\n",
    "    'labels': labels_and_id}\n",
    "\n",
    "props = {'categories': [category]}\n",
    "json.dumps(props)"
   ]
  },
  {
   "cell_type": "markdown",
   "metadata": {},
   "source": [
    "### Step 5: Create Dataset from Datalake channel"
   ]
  },
  {
   "cell_type": "code",
   "execution_count": null,
   "metadata": {},
   "outputs": [],
   "source": [
    "# create dataset by importing datalake files\n",
    "from abeja.datasets import Client as DatasetClient\n",
    "\n",
    "dataset_client = DatasetClient(organization_id, credential)\n",
    "\n",
    "# define dataset id\n",
    "dataset_id = 'XXXXXXXXXXXXX'\n",
    "\n",
    "dataset = dataset_client.get_dataset(dataset_id)\n",
    "\n",
    "for f in tqdm(channel.list_files()):\n",
    "    data_uri = f.uri\n",
    "    filename = f.metadata['filename']\n",
    "    label = f.metadata['label']\n",
    "    label_id = label_to_id[label]\n",
    "    \n",
    "    if os.path.splitext(filename)[1].lower() == '.jpg' or \\\n",
    "    os.path.splitext(filename)[1].lower() == '.jpeg':\n",
    "        content_type = 'image/jpeg'\n",
    "    elif os.path.splitext(filename)[1].lower() == '.png':\n",
    "        content_type = 'image/png'\n",
    "    else:\n",
    "        print('{} is invalid file type.'.format(filename))\n",
    "        continue\n",
    "    \n",
    "    source_data = [{'data_uri': data_uri, 'data_type': content_type}]\n",
    "    attributes = {'classification': [{'category_id': 0, 'label_id': label_id, 'label': label}]}\n",
    "    dataset.dataset_items.create(source_data, attributes)"
   ]
  }
 ],
 "metadata": {
  "kernelspec": {
   "display_name": "Python 3",
   "language": "python",
   "name": "python3"
  },
  "language_info": {
   "codemirror_mode": {
    "name": "ipython",
    "version": 3
   },
   "file_extension": ".py",
   "mimetype": "text/x-python",
   "name": "python",
   "nbconvert_exporter": "python",
   "pygments_lexer": "ipython3",
   "version": "3.7.2"
  }
 },
 "nbformat": 4,
 "nbformat_minor": 2
}

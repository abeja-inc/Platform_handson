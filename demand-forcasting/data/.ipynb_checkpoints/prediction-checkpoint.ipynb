{
 "cells": [
  {
   "cell_type": "markdown",
   "metadata": {},
   "source": [
    "## Prediction"
   ]
  },
  {
   "cell_type": "code",
   "execution_count": null,
   "metadata": {},
   "outputs": [],
   "source": [
    "import http\n",
    "import os\n",
    "import traceback\n",
    "from io import BytesIO\n",
    "import json\n",
    "from pathlib import Path\n",
    "\n",
    "import pandas as pd\n",
    "import numpy as np\n",
    "import lightgbm as lgb"
   ]
  },
  {
   "cell_type": "code",
   "execution_count": null,
   "metadata": {},
   "outputs": [],
   "source": [
    "# set training job id\n",
    "TRAINING_JOB = 'XXXXXX'"
   ]
  },
  {
   "cell_type": "code",
   "execution_count": null,
   "metadata": {},
   "outputs": [],
   "source": [
    "ABEJA_TRAINING_RESULT_DIR = '/mnt/training_jobs/{}'.format(TRAINING_JOB)\n",
    "\n",
    "with open(os.path.join(ABEJA_TRAINING_RESULT_DIR, 'lgb_env.json')) as f:\n",
    "    lgb_env = json.load(f)\n",
    "    NFOLD = lgb_env.get('NFOLD')\n",
    "    cols_train = lgb_env.get('cols_train')\n",
    "    OBJECTIVE = lgb_env.get('OBJECTIVE')\n",
    "    IS_MULTI = OBJECTIVE.startswith(\"multi\")\n",
    "    NUM_CLASS = lgb_env.get('NUM_CLASS', 1)\n",
    "\n",
    "models = []\n",
    "for i in range(NFOLD):\n",
    "    model = lgb.Booster(model_file=os.path.join(ABEJA_TRAINING_RESULT_DIR, f'model_{i}.txt'))\n",
    "    models.append(model)"
   ]
  },
  {
   "cell_type": "code",
   "execution_count": null,
   "metadata": {},
   "outputs": [],
   "source": [
    "# read test data\n",
    "csvfile = 'data_test.csv'"
   ]
  },
  {
   "cell_type": "code",
   "execution_count": null,
   "metadata": {},
   "outputs": [],
   "source": [
    "# prediction\n",
    "X_test = pd.read_csv(csvfile, usecols=cols_train)[cols_train]\n",
    "Y_test = pd.read_csv(csvfile)['num_orders_log']\n",
    "\n",
    "if IS_MULTI:\n",
    "    pred = np.zeros((len(X_test), NUM_CLASS))\n",
    "else:\n",
    "    pred = np.zeros(len(X_test))\n",
    "for model in models:\n",
    "    pred += model.predict(X_test)\n",
    "pred /= len(models)\n",
    "\n",
    "if OBJECTIVE == 'binary':\n",
    "    pred[pred >= 0.5] = 1\n",
    "    pred[pred < 0.5] = 0\n",
    "elif IS_MULTI:\n",
    "    pred = np.argmax(pred, axis=1)\n",
    "\n",
    "print(pred)\n",
    "X_test['pred'] = pred"
   ]
  },
  {
   "cell_type": "code",
   "execution_count": null,
   "metadata": {},
   "outputs": [],
   "source": [
    "X_test['pred'].head()"
   ]
  },
  {
   "cell_type": "code",
   "execution_count": null,
   "metadata": {},
   "outputs": [],
   "source": [
    "Y_test.head()"
   ]
  },
  {
   "cell_type": "code",
   "execution_count": null,
   "metadata": {},
   "outputs": [],
   "source": [
    "from sklearn.metrics import mean_squared_error\n",
    "rmsle = np.sqrt(mean_squared_error(X_test['pred'], Y_test))\n",
    "print('rsmle is {}'.format(rmsle))"
   ]
  },
  {
   "cell_type": "code",
   "execution_count": null,
   "metadata": {},
   "outputs": [],
   "source": [
    "import seaborn as sns\n",
    "import matplotlib.pyplot as plt\n",
    "%matplotlib inline\n",
    "\n",
    "yvalues = np.concatenate([Y_test, X_test['pred']])\n",
    "ymin, ymax, yrange = np.amin(yvalues), np.amax(yvalues), np.ptp(yvalues)\n",
    "ymin, ymax, yrange = np.amin(yvalues), np.amax(yvalues), np.ptp(yvalues)\n",
    "fig = plt.figure(figsize=(8, 8))\n",
    "sns.scatterplot(Y_test, X_test['pred'])\n",
    "plt.plot([ymin - yrange * 0.01, ymax + yrange * 0.01], [ymin - yrange * 0.01, ymax + yrange * 0.01])\n",
    "plt.xlim(ymin - yrange * 0.01, ymax + yrange * 0.01)\n",
    "plt.ylim(ymin - yrange * 0.01, ymax + yrange * 0.01)\n",
    "plt.xlabel('y_observed', fontsize=24)\n",
    "plt.ylabel('y_predicted', fontsize=24)\n",
    "plt.title('Observed-Predicted Plot', fontsize=24)\n",
    "plt.tick_params(labelsize=16)"
   ]
  },
  {
   "cell_type": "code",
   "execution_count": null,
   "metadata": {},
   "outputs": [],
   "source": []
  }
 ],
 "metadata": {
  "kernelspec": {
   "display_name": "Python 3",
   "language": "python",
   "name": "python3"
  },
  "language_info": {
   "codemirror_mode": {
    "name": "ipython",
    "version": 3
   },
   "file_extension": ".py",
   "mimetype": "text/x-python",
   "name": "python",
   "nbconvert_exporter": "python",
   "pygments_lexer": "ipython3",
   "version": "3.6.8"
  }
 },
 "nbformat": 4,
 "nbformat_minor": 4
}

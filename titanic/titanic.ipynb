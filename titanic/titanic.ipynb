{
 "cells": [
  {
   "cell_type": "markdown",
   "metadata": {},
   "source": [
    "# タイタニックの生存予測\n",
    "\n",
    "kaggleで有名な[タイタニックの生存データ](https://www.kaggle.com/c/titanic)にて、EDA・モデル作成・評価を行う。\n",
    "\n",
    "![kaggle](https://storage.googleapis.com/kaggle-media/welcome/screen1.png)\n",
    "\n",
    "タイタニックのカラムの意味は以下。\n",
    "\n",
    "- pclass： 旅客クラス（等級）\n",
    "- name： 乗客の名前\n",
    "- sex： 性別\n",
    "    - male: 男性\n",
    "    - female: 女性\n",
    "- age： 年齢\n",
    "- sibsp： タイタニック号に同乗している兄弟や配偶者の数\n",
    "- parch： タイタニック号に同乗している親や子供の数\n",
    "- ticket： チケット番号\n",
    "- fare： 旅客運賃\n",
    "- cabin： 客室番号\n",
    "- embarked： 出港地\n",
    "    - C: Cherbourg：シェルブール\n",
    "    - Q: Queenstown：クイーンズタウン\n",
    "    - S: Southampton：サウサンプトン\n",
    "- boat： 救命ボート番号\n",
    "- body： 遺体収容時の識別番号\n",
    "- home.dest： 自宅または目的地\n",
    "- survived：生存状況\n",
    "    - 0: 死亡\n",
    "    - 1: 生存"
   ]
  },
  {
   "cell_type": "markdown",
   "metadata": {},
   "source": [
    "# 準備"
   ]
  },
  {
   "cell_type": "markdown",
   "metadata": {},
   "source": [
    "## パッケージの読み込み・インストール"
   ]
  },
  {
   "cell_type": "code",
   "execution_count": 1,
   "metadata": {},
   "outputs": [
    {
     "name": "stdout",
     "output_type": "stream",
     "text": [
      "Looking in indexes: https://pypi.org/simple, https://packagecloud.io/abeja/platform-public/pypi/simple\n",
      "Requirement already satisfied: seaborn in /Users/kyo.hattori/.pyenv/versions/3.8.2/lib/python3.8/site-packages (0.10.1)\n",
      "Requirement already satisfied: lightgbm in /Users/kyo.hattori/.pyenv/versions/3.8.2/lib/python3.8/site-packages (3.3.2)\n",
      "Requirement already satisfied: scipy>=1.0.1 in /Users/kyo.hattori/.pyenv/versions/3.8.2/lib/python3.8/site-packages (from seaborn) (1.4.1)\n",
      "Requirement already satisfied: numpy>=1.13.3 in /Users/kyo.hattori/.pyenv/versions/3.8.2/lib/python3.8/site-packages (from seaborn) (1.18.4)\n",
      "Requirement already satisfied: matplotlib>=2.1.2 in /Users/kyo.hattori/.pyenv/versions/3.8.2/lib/python3.8/site-packages (from seaborn) (3.2.1)\n",
      "Requirement already satisfied: pandas>=0.22.0 in /Users/kyo.hattori/.pyenv/versions/3.8.2/lib/python3.8/site-packages (from seaborn) (1.3.1)\n",
      "Requirement already satisfied: scikit-learn!=0.22.0 in /Users/kyo.hattori/.pyenv/versions/3.8.2/lib/python3.8/site-packages (from lightgbm) (1.0rc1)\n",
      "Requirement already satisfied: wheel in /Users/kyo.hattori/.pyenv/versions/3.8.2/lib/python3.8/site-packages (from lightgbm) (0.34.2)\n",
      "Requirement already satisfied: kiwisolver>=1.0.1 in /Users/kyo.hattori/.pyenv/versions/3.8.2/lib/python3.8/site-packages (from matplotlib>=2.1.2->seaborn) (1.2.0)\n",
      "Requirement already satisfied: cycler>=0.10 in /Users/kyo.hattori/.pyenv/versions/3.8.2/lib/python3.8/site-packages (from matplotlib>=2.1.2->seaborn) (0.10.0)\n",
      "Requirement already satisfied: pyparsing!=2.0.4,!=2.1.2,!=2.1.6,>=2.0.1 in /Users/kyo.hattori/.pyenv/versions/3.8.2/lib/python3.8/site-packages (from matplotlib>=2.1.2->seaborn) (2.4.7)\n",
      "Requirement already satisfied: python-dateutil>=2.1 in /Users/kyo.hattori/.pyenv/versions/3.8.2/lib/python3.8/site-packages (from matplotlib>=2.1.2->seaborn) (2.8.2)\n",
      "Requirement already satisfied: pytz>=2017.3 in /Users/kyo.hattori/.pyenv/versions/3.8.2/lib/python3.8/site-packages (from pandas>=0.22.0->seaborn) (2021.1)\n",
      "Requirement already satisfied: joblib>=0.11 in /Users/kyo.hattori/.pyenv/versions/3.8.2/lib/python3.8/site-packages (from scikit-learn!=0.22.0->lightgbm) (0.14.1)\n",
      "Requirement already satisfied: threadpoolctl>=2.0.0 in /Users/kyo.hattori/.pyenv/versions/3.8.2/lib/python3.8/site-packages (from scikit-learn!=0.22.0->lightgbm) (2.0.0)\n",
      "Requirement already satisfied: six in /Users/kyo.hattori/.pyenv/versions/3.8.2/lib/python3.8/site-packages (from cycler>=0.10->matplotlib>=2.1.2->seaborn) (1.14.0)\n"
     ]
    }
   ],
   "source": [
    "!pip install seaborn lightgbm"
   ]
  },
  {
   "cell_type": "code",
   "execution_count": 2,
   "metadata": {},
   "outputs": [],
   "source": [
    "import csv\n",
    "import itertools\n",
    "\n",
    "import numpy as np\n",
    "import pandas as pd\n",
    "import matplotlib.pyplot as plt\n",
    "import seaborn as sns\n",
    "import lightgbm as lgb\n",
    "from sklearn.preprocessing import MultiLabelBinarizer, OrdinalEncoder\n",
    "from sklearn.model_selection import StratifiedKFold\n",
    "from sklearn.metrics import roc_auc_score, roc_curve, confusion_matrix\n",
    "\n",
    "from abeja.datalake import Client as DatalakeClient\n",
    "%matplotlib inline\n",
    "\n",
    "sns.set_style(\"darkgrid\")"
   ]
  },
  {
   "cell_type": "markdown",
   "metadata": {},
   "source": [
    "## データの読み込み"
   ]
  },
  {
   "cell_type": "code",
   "execution_count": 3,
   "metadata": {},
   "outputs": [],
   "source": [
    "DATALAKE_CHANNEL_ID = '2412575017107'\n",
    "TRAIN_DATALAKE_FILE_ID = '20210516T143337-15a92bf2-ecfc-4a40-9c4e-67a7cff783ed'\n",
    "TEST_DATALAKE_FILE_ID = '20210516T143337-12766e06-8284-4e31-8de8-6da988820e28'"
   ]
  },
  {
   "cell_type": "code",
   "execution_count": 4,
   "metadata": {},
   "outputs": [],
   "source": [
    "datalake_client = DatalakeClient()\n",
    "channel = datalake_client.get_channel(DATALAKE_CHANNEL_ID)\n",
    "train_file = channel.get_file(TRAIN_DATALAKE_FILE_ID)\n",
    "test_file = channel.get_file(TEST_DATALAKE_FILE_ID)"
   ]
  },
  {
   "cell_type": "code",
   "execution_count": 5,
   "metadata": {},
   "outputs": [
    {
     "data": {
      "text/html": [
       "<div>\n",
       "<style scoped>\n",
       "    .dataframe tbody tr th:only-of-type {\n",
       "        vertical-align: middle;\n",
       "    }\n",
       "\n",
       "    .dataframe tbody tr th {\n",
       "        vertical-align: top;\n",
       "    }\n",
       "\n",
       "    .dataframe thead th {\n",
       "        text-align: right;\n",
       "    }\n",
       "</style>\n",
       "<table border=\"1\" class=\"dataframe\">\n",
       "  <thead>\n",
       "    <tr style=\"text-align: right;\">\n",
       "      <th></th>\n",
       "      <th>PassengerId</th>\n",
       "      <th>Survived</th>\n",
       "      <th>Pclass</th>\n",
       "      <th>Name</th>\n",
       "      <th>Sex</th>\n",
       "      <th>Age</th>\n",
       "      <th>SibSp</th>\n",
       "      <th>Parch</th>\n",
       "      <th>Ticket</th>\n",
       "      <th>Fare</th>\n",
       "      <th>Cabin</th>\n",
       "      <th>Embarked</th>\n",
       "    </tr>\n",
       "  </thead>\n",
       "  <tbody>\n",
       "    <tr>\n",
       "      <th>0</th>\n",
       "      <td>1</td>\n",
       "      <td>0</td>\n",
       "      <td>3</td>\n",
       "      <td>Braund, Mr. Owen Harris</td>\n",
       "      <td>male</td>\n",
       "      <td>22.0</td>\n",
       "      <td>1</td>\n",
       "      <td>0</td>\n",
       "      <td>A/5 21171</td>\n",
       "      <td>7.2500</td>\n",
       "      <td>NaN</td>\n",
       "      <td>S</td>\n",
       "    </tr>\n",
       "    <tr>\n",
       "      <th>1</th>\n",
       "      <td>2</td>\n",
       "      <td>1</td>\n",
       "      <td>1</td>\n",
       "      <td>Cumings, Mrs. John Bradley (Florence Briggs Th...</td>\n",
       "      <td>female</td>\n",
       "      <td>38.0</td>\n",
       "      <td>1</td>\n",
       "      <td>0</td>\n",
       "      <td>PC 17599</td>\n",
       "      <td>71.2833</td>\n",
       "      <td>C85</td>\n",
       "      <td>C</td>\n",
       "    </tr>\n",
       "    <tr>\n",
       "      <th>2</th>\n",
       "      <td>3</td>\n",
       "      <td>1</td>\n",
       "      <td>3</td>\n",
       "      <td>Heikkinen, Miss. Laina</td>\n",
       "      <td>female</td>\n",
       "      <td>26.0</td>\n",
       "      <td>0</td>\n",
       "      <td>0</td>\n",
       "      <td>STON/O2. 3101282</td>\n",
       "      <td>7.9250</td>\n",
       "      <td>NaN</td>\n",
       "      <td>S</td>\n",
       "    </tr>\n",
       "    <tr>\n",
       "      <th>3</th>\n",
       "      <td>4</td>\n",
       "      <td>1</td>\n",
       "      <td>1</td>\n",
       "      <td>Futrelle, Mrs. Jacques Heath (Lily May Peel)</td>\n",
       "      <td>female</td>\n",
       "      <td>35.0</td>\n",
       "      <td>1</td>\n",
       "      <td>0</td>\n",
       "      <td>113803</td>\n",
       "      <td>53.1000</td>\n",
       "      <td>C123</td>\n",
       "      <td>S</td>\n",
       "    </tr>\n",
       "    <tr>\n",
       "      <th>4</th>\n",
       "      <td>5</td>\n",
       "      <td>0</td>\n",
       "      <td>3</td>\n",
       "      <td>Allen, Mr. William Henry</td>\n",
       "      <td>male</td>\n",
       "      <td>35.0</td>\n",
       "      <td>0</td>\n",
       "      <td>0</td>\n",
       "      <td>373450</td>\n",
       "      <td>8.0500</td>\n",
       "      <td>NaN</td>\n",
       "      <td>S</td>\n",
       "    </tr>\n",
       "    <tr>\n",
       "      <th>...</th>\n",
       "      <td>...</td>\n",
       "      <td>...</td>\n",
       "      <td>...</td>\n",
       "      <td>...</td>\n",
       "      <td>...</td>\n",
       "      <td>...</td>\n",
       "      <td>...</td>\n",
       "      <td>...</td>\n",
       "      <td>...</td>\n",
       "      <td>...</td>\n",
       "      <td>...</td>\n",
       "      <td>...</td>\n",
       "    </tr>\n",
       "    <tr>\n",
       "      <th>886</th>\n",
       "      <td>887</td>\n",
       "      <td>0</td>\n",
       "      <td>2</td>\n",
       "      <td>Montvila, Rev. Juozas</td>\n",
       "      <td>male</td>\n",
       "      <td>27.0</td>\n",
       "      <td>0</td>\n",
       "      <td>0</td>\n",
       "      <td>211536</td>\n",
       "      <td>13.0000</td>\n",
       "      <td>NaN</td>\n",
       "      <td>S</td>\n",
       "    </tr>\n",
       "    <tr>\n",
       "      <th>887</th>\n",
       "      <td>888</td>\n",
       "      <td>1</td>\n",
       "      <td>1</td>\n",
       "      <td>Graham, Miss. Margaret Edith</td>\n",
       "      <td>female</td>\n",
       "      <td>19.0</td>\n",
       "      <td>0</td>\n",
       "      <td>0</td>\n",
       "      <td>112053</td>\n",
       "      <td>30.0000</td>\n",
       "      <td>B42</td>\n",
       "      <td>S</td>\n",
       "    </tr>\n",
       "    <tr>\n",
       "      <th>888</th>\n",
       "      <td>889</td>\n",
       "      <td>0</td>\n",
       "      <td>3</td>\n",
       "      <td>Johnston, Miss. Catherine Helen \"Carrie\"</td>\n",
       "      <td>female</td>\n",
       "      <td>NaN</td>\n",
       "      <td>1</td>\n",
       "      <td>2</td>\n",
       "      <td>W./C. 6607</td>\n",
       "      <td>23.4500</td>\n",
       "      <td>NaN</td>\n",
       "      <td>S</td>\n",
       "    </tr>\n",
       "    <tr>\n",
       "      <th>889</th>\n",
       "      <td>890</td>\n",
       "      <td>1</td>\n",
       "      <td>1</td>\n",
       "      <td>Behr, Mr. Karl Howell</td>\n",
       "      <td>male</td>\n",
       "      <td>26.0</td>\n",
       "      <td>0</td>\n",
       "      <td>0</td>\n",
       "      <td>111369</td>\n",
       "      <td>30.0000</td>\n",
       "      <td>C148</td>\n",
       "      <td>C</td>\n",
       "    </tr>\n",
       "    <tr>\n",
       "      <th>890</th>\n",
       "      <td>891</td>\n",
       "      <td>0</td>\n",
       "      <td>3</td>\n",
       "      <td>Dooley, Mr. Patrick</td>\n",
       "      <td>male</td>\n",
       "      <td>32.0</td>\n",
       "      <td>0</td>\n",
       "      <td>0</td>\n",
       "      <td>370376</td>\n",
       "      <td>7.7500</td>\n",
       "      <td>NaN</td>\n",
       "      <td>Q</td>\n",
       "    </tr>\n",
       "  </tbody>\n",
       "</table>\n",
       "<p>891 rows × 12 columns</p>\n",
       "</div>"
      ],
      "text/plain": [
       "     PassengerId  Survived  Pclass  \\\n",
       "0              1         0       3   \n",
       "1              2         1       1   \n",
       "2              3         1       3   \n",
       "3              4         1       1   \n",
       "4              5         0       3   \n",
       "..           ...       ...     ...   \n",
       "886          887         0       2   \n",
       "887          888         1       1   \n",
       "888          889         0       3   \n",
       "889          890         1       1   \n",
       "890          891         0       3   \n",
       "\n",
       "                                                  Name     Sex   Age  SibSp  \\\n",
       "0                              Braund, Mr. Owen Harris    male  22.0      1   \n",
       "1    Cumings, Mrs. John Bradley (Florence Briggs Th...  female  38.0      1   \n",
       "2                               Heikkinen, Miss. Laina  female  26.0      0   \n",
       "3         Futrelle, Mrs. Jacques Heath (Lily May Peel)  female  35.0      1   \n",
       "4                             Allen, Mr. William Henry    male  35.0      0   \n",
       "..                                                 ...     ...   ...    ...   \n",
       "886                              Montvila, Rev. Juozas    male  27.0      0   \n",
       "887                       Graham, Miss. Margaret Edith  female  19.0      0   \n",
       "888           Johnston, Miss. Catherine Helen \"Carrie\"  female   NaN      1   \n",
       "889                              Behr, Mr. Karl Howell    male  26.0      0   \n",
       "890                                Dooley, Mr. Patrick    male  32.0      0   \n",
       "\n",
       "     Parch            Ticket     Fare Cabin Embarked  \n",
       "0        0         A/5 21171   7.2500   NaN        S  \n",
       "1        0          PC 17599  71.2833   C85        C  \n",
       "2        0  STON/O2. 3101282   7.9250   NaN        S  \n",
       "3        0            113803  53.1000  C123        S  \n",
       "4        0            373450   8.0500   NaN        S  \n",
       "..     ...               ...      ...   ...      ...  \n",
       "886      0            211536  13.0000   NaN        S  \n",
       "887      0            112053  30.0000   B42        S  \n",
       "888      2        W./C. 6607  23.4500   NaN        S  \n",
       "889      0            111369  30.0000  C148        C  \n",
       "890      0            370376   7.7500   NaN        Q  \n",
       "\n",
       "[891 rows x 12 columns]"
      ]
     },
     "execution_count": 5,
     "metadata": {},
     "output_type": "execute_result"
    }
   ],
   "source": [
    "train_df = pd.read_csv(train_file.download_uri)\n",
    "test_df = pd.read_csv(test_file.download_uri)\n",
    "train_df"
   ]
  },
  {
   "cell_type": "markdown",
   "metadata": {},
   "source": [
    "# EDA"
   ]
  },
  {
   "cell_type": "markdown",
   "metadata": {},
   "source": [
    "## データの全体像を使む"
   ]
  },
  {
   "cell_type": "code",
   "execution_count": 6,
   "metadata": {},
   "outputs": [
    {
     "name": "stdout",
     "output_type": "stream",
     "text": [
      "<class 'pandas.core.frame.DataFrame'>\n",
      "RangeIndex: 891 entries, 0 to 890\n",
      "Data columns (total 12 columns):\n",
      " #   Column       Non-Null Count  Dtype  \n",
      "---  ------       --------------  -----  \n",
      " 0   PassengerId  891 non-null    int64  \n",
      " 1   Survived     891 non-null    int64  \n",
      " 2   Pclass       891 non-null    int64  \n",
      " 3   Name         891 non-null    object \n",
      " 4   Sex          891 non-null    object \n",
      " 5   Age          714 non-null    float64\n",
      " 6   SibSp        891 non-null    int64  \n",
      " 7   Parch        891 non-null    int64  \n",
      " 8   Ticket       891 non-null    object \n",
      " 9   Fare         891 non-null    float64\n",
      " 10  Cabin        204 non-null    object \n",
      " 11  Embarked     889 non-null    object \n",
      "dtypes: float64(2), int64(5), object(5)\n",
      "memory usage: 83.7+ KB\n"
     ]
    }
   ],
   "source": [
    "train_df.info()"
   ]
  },
  {
   "cell_type": "code",
   "execution_count": 7,
   "metadata": {},
   "outputs": [
    {
     "name": "stdout",
     "output_type": "stream",
     "text": [
      "<class 'pandas.core.frame.DataFrame'>\n",
      "RangeIndex: 418 entries, 0 to 417\n",
      "Data columns (total 11 columns):\n",
      " #   Column       Non-Null Count  Dtype  \n",
      "---  ------       --------------  -----  \n",
      " 0   PassengerId  418 non-null    int64  \n",
      " 1   Pclass       418 non-null    int64  \n",
      " 2   Name         418 non-null    object \n",
      " 3   Sex          418 non-null    object \n",
      " 4   Age          332 non-null    float64\n",
      " 5   SibSp        418 non-null    int64  \n",
      " 6   Parch        418 non-null    int64  \n",
      " 7   Ticket       418 non-null    object \n",
      " 8   Fare         417 non-null    float64\n",
      " 9   Cabin        91 non-null     object \n",
      " 10  Embarked     418 non-null    object \n",
      "dtypes: float64(2), int64(4), object(5)\n",
      "memory usage: 36.0+ KB\n"
     ]
    }
   ],
   "source": [
    "test_df.info()"
   ]
  },
  {
   "cell_type": "markdown",
   "metadata": {},
   "source": [
    "- trainは800件、testは400件程度で少なめのデータ\n",
    "- カラム数は目的変数である`Survived`を除くと10個\n",
    "- objectタイプ（文字列など）のカラムがあるため、データの前処理が必要そう（後で詳しく見ていく"
   ]
  },
  {
   "cell_type": "markdown",
   "metadata": {},
   "source": [
    "## 欠損値の確認"
   ]
  },
  {
   "cell_type": "code",
   "execution_count": 8,
   "metadata": {},
   "outputs": [
    {
     "data": {
      "text/html": [
       "<div>\n",
       "<style scoped>\n",
       "    .dataframe tbody tr th:only-of-type {\n",
       "        vertical-align: middle;\n",
       "    }\n",
       "\n",
       "    .dataframe tbody tr th {\n",
       "        vertical-align: top;\n",
       "    }\n",
       "\n",
       "    .dataframe thead th {\n",
       "        text-align: right;\n",
       "    }\n",
       "</style>\n",
       "<table border=\"1\" class=\"dataframe\">\n",
       "  <thead>\n",
       "    <tr style=\"text-align: right;\">\n",
       "      <th></th>\n",
       "      <th>train</th>\n",
       "      <th>test</th>\n",
       "    </tr>\n",
       "  </thead>\n",
       "  <tbody>\n",
       "    <tr>\n",
       "      <th>PassengerId</th>\n",
       "      <td>0.000000</td>\n",
       "      <td>0.000000</td>\n",
       "    </tr>\n",
       "    <tr>\n",
       "      <th>Pclass</th>\n",
       "      <td>0.000000</td>\n",
       "      <td>0.000000</td>\n",
       "    </tr>\n",
       "    <tr>\n",
       "      <th>Name</th>\n",
       "      <td>0.000000</td>\n",
       "      <td>0.000000</td>\n",
       "    </tr>\n",
       "    <tr>\n",
       "      <th>Sex</th>\n",
       "      <td>0.000000</td>\n",
       "      <td>0.000000</td>\n",
       "    </tr>\n",
       "    <tr>\n",
       "      <th>Age</th>\n",
       "      <td>0.198653</td>\n",
       "      <td>0.205742</td>\n",
       "    </tr>\n",
       "    <tr>\n",
       "      <th>SibSp</th>\n",
       "      <td>0.000000</td>\n",
       "      <td>0.000000</td>\n",
       "    </tr>\n",
       "    <tr>\n",
       "      <th>Parch</th>\n",
       "      <td>0.000000</td>\n",
       "      <td>0.000000</td>\n",
       "    </tr>\n",
       "    <tr>\n",
       "      <th>Ticket</th>\n",
       "      <td>0.000000</td>\n",
       "      <td>0.000000</td>\n",
       "    </tr>\n",
       "    <tr>\n",
       "      <th>Fare</th>\n",
       "      <td>0.000000</td>\n",
       "      <td>0.002392</td>\n",
       "    </tr>\n",
       "    <tr>\n",
       "      <th>Cabin</th>\n",
       "      <td>0.771044</td>\n",
       "      <td>0.782297</td>\n",
       "    </tr>\n",
       "    <tr>\n",
       "      <th>Embarked</th>\n",
       "      <td>0.002245</td>\n",
       "      <td>0.000000</td>\n",
       "    </tr>\n",
       "  </tbody>\n",
       "</table>\n",
       "</div>"
      ],
      "text/plain": [
       "                train      test\n",
       "PassengerId  0.000000  0.000000\n",
       "Pclass       0.000000  0.000000\n",
       "Name         0.000000  0.000000\n",
       "Sex          0.000000  0.000000\n",
       "Age          0.198653  0.205742\n",
       "SibSp        0.000000  0.000000\n",
       "Parch        0.000000  0.000000\n",
       "Ticket       0.000000  0.000000\n",
       "Fare         0.000000  0.002392\n",
       "Cabin        0.771044  0.782297\n",
       "Embarked     0.002245  0.000000"
      ]
     },
     "execution_count": 8,
     "metadata": {},
     "output_type": "execute_result"
    }
   ],
   "source": [
    "pd.concat([\n",
    "    train_df.drop(\"Survived\", axis=1).isna().mean(),\n",
    "    test_df.isna().mean()\n",
    "], axis=1).rename(columns={0: \"train\", 1: \"test\"})"
   ]
  },
  {
   "cell_type": "markdown",
   "metadata": {},
   "source": [
    "- CabinとAgeが主に欠損している\n",
    "- Embarkedはtrainのみ少量だが欠損しているのに注意"
   ]
  },
  {
   "cell_type": "markdown",
   "metadata": {},
   "source": [
    "## 各カラムのデータを確認"
   ]
  },
  {
   "cell_type": "markdown",
   "metadata": {},
   "source": [
    "- カラムのサンプルデータと分布や最頻値などをまとめて確認\n",
    "- 各カラムがどういうデータであるかをまず確認する目的\n",
    "- 数値や文字列などで分布の出し方は場合分け"
   ]
  },
  {
   "cell_type": "code",
   "execution_count": 9,
   "metadata": {},
   "outputs": [],
   "source": [
    "def check_column(df, column):\n",
    "    print(\"\\n\" + \"=\"*30)\n",
    "    print(f\"Column: {column}\")\n",
    "    print(\"=\"*30)\n",
    "    print(\"-\"*8 + \"5sample\" + \"-\"*8)\n",
    "    srs = df[column]\n",
    "    \n",
    "    # head\n",
    "    display(srs.head())\n",
    "    \n",
    "    # unique num\n",
    "    nunique = srs.nunique()\n",
    "\n",
    "    print(\"-\"*20)\n",
    "    col_type = srs.dtype\n",
    "    if col_type == \"object\":\n",
    "        # string data\n",
    "        print(srs.value_counts(dropna=False))\n",
    "    else:\n",
    "        # numerical data\n",
    "        if nunique < 10:\n",
    "            srs.value_counts().sort_index().plot.bar()\n",
    "            plt.show()\n",
    "        else:\n",
    "            srs.hist(bins=30).plot()\n",
    "            plt.show()"
   ]
  },
  {
   "cell_type": "code",
   "execution_count": 10,
   "metadata": {},
   "outputs": [
    {
     "name": "stdout",
     "output_type": "stream",
     "text": [
      "\n",
      "==============================\n",
      "Column: PassengerId\n",
      "==============================\n",
      "--------5sample--------\n"
     ]
    },
    {
     "data": {
      "text/plain": [
       "0    1\n",
       "1    2\n",
       "2    3\n",
       "3    4\n",
       "4    5\n",
       "Name: PassengerId, dtype: int64"
      ]
     },
     "metadata": {},
     "output_type": "display_data"
    },
    {
     "name": "stdout",
     "output_type": "stream",
     "text": [
      "--------------------\n"
     ]
    },
    {
     "data": {
      "image/png": "[encoded data removed]",
      "text/plain": [
       "<Figure size 432x288 with 1 Axes>"
      ]
     },
     "metadata": {},
     "output_type": "display_data"
    },
    {
     "name": "stdout",
     "output_type": "stream",
     "text": [
      "\n",
      "==============================\n",
      "Column: Survived\n",
      "==============================\n",
      "--------5sample--------\n"
     ]
    },
    {
     "data": {
      "text/plain": [
       "0    0\n",
       "1    1\n",
       "2    1\n",
       "3    1\n",
       "4    0\n",
       "Name: Survived, dtype: int64"
      ]
     },
     "metadata": {},
     "output_type": "display_data"
    },
    {
     "name": "stdout",
     "output_type": "stream",
     "text": [
      "--------------------\n"
     ]
    },
    {
     "data": {
      "image/png": "[encoded data removed]",
      "text/plain": [
       "<Figure size 432x288 with 1 Axes>"
      ]
     },
     "metadata": {},
     "output_type": "display_data"
    },
    {
     "name": "stdout",
     "output_type": "stream",
     "text": [
      "\n",
      "==============================\n",
      "Column: Pclass\n",
      "==============================\n",
      "--------5sample--------\n"
     ]
    },
    {
     "data": {
      "text/plain": [
       "0    3\n",
       "1    1\n",
       "2    3\n",
       "3    1\n",
       "4    3\n",
       "Name: Pclass, dtype: int64"
      ]
     },
     "metadata": {},
     "output_type": "display_data"
    },
    {
     "name": "stdout",
     "output_type": "stream",
     "text": [
      "--------------------\n"
     ]
    },
    {
     "data": {
      "image/png": "[encoded data removed]",
      "text/plain": [
       "<Figure size 432x288 with 1 Axes>"
      ]
     },
     "metadata": {},
     "output_type": "display_data"
    },
    {
     "name": "stdout",
     "output_type": "stream",
     "text": [
      "\n",
      "==============================\n",
      "Column: Name\n",
      "==============================\n",
      "--------5sample--------\n"
     ]
    },
    {
     "data": {
      "text/plain": [
       "0                              Braund, Mr. Owen Harris\n",
       "1    Cumings, Mrs. John Bradley (Florence Briggs Th...\n",
       "2                               Heikkinen, Miss. Laina\n",
       "3         Futrelle, Mrs. Jacques Heath (Lily May Peel)\n",
       "4                             Allen, Mr. William Henry\n",
       "Name: Name, dtype: object"
      ]
     },
     "metadata": {},
     "output_type": "display_data"
    },
    {
     "name": "stdout",
     "output_type": "stream",
     "text": [
      "--------------------\n",
      "Braund, Mr. Owen Harris                     1\n",
      "Boulos, Mr. Hanna                           1\n",
      "Frolicher-Stehli, Mr. Maxmillian            1\n",
      "Gilinski, Mr. Eliezer                       1\n",
      "Murdlin, Mr. Joseph                         1\n",
      "                                           ..\n",
      "Kelly, Miss. Anna Katherine \"Annie Kate\"    1\n",
      "McCoy, Mr. Bernard                          1\n",
      "Johnson, Mr. William Cahoone Jr             1\n",
      "Keane, Miss. Nora A                         1\n",
      "Dooley, Mr. Patrick                         1\n",
      "Name: Name, Length: 891, dtype: int64\n",
      "\n",
      "==============================\n",
      "Column: Sex\n",
      "==============================\n",
      "--------5sample--------\n"
     ]
    },
    {
     "data": {
      "text/plain": [
       "0      male\n",
       "1    female\n",
       "2    female\n",
       "3    female\n",
       "4      male\n",
       "Name: Sex, dtype: object"
      ]
     },
     "metadata": {},
     "output_type": "display_data"
    },
    {
     "name": "stdout",
     "output_type": "stream",
     "text": [
      "--------------------\n",
      "male      577\n",
      "female    314\n",
      "Name: Sex, dtype: int64\n",
      "\n",
      "==============================\n",
      "Column: Age\n",
      "==============================\n",
      "--------5sample--------\n"
     ]
    },
    {
     "data": {
      "text/plain": [
       "0    22.0\n",
       "1    38.0\n",
       "2    26.0\n",
       "3    35.0\n",
       "4    35.0\n",
       "Name: Age, dtype: float64"
      ]
     },
     "metadata": {},
     "output_type": "display_data"
    },
    {
     "name": "stdout",
     "output_type": "stream",
     "text": [
      "--------------------\n"
     ]
    },
    {
     "data": {
      "image/png": "[encoded data removed]",
      "text/plain": [
       "<Figure size 432x288 with 1 Axes>"
      ]
     },
     "metadata": {},
     "output_type": "display_data"
    },
    {
     "name": "stdout",
     "output_type": "stream",
     "text": [
      "\n",
      "==============================\n",
      "Column: SibSp\n",
      "==============================\n",
      "--------5sample--------\n"
     ]
    },
    {
     "data": {
      "text/plain": [
       "0    1\n",
       "1    1\n",
       "2    0\n",
       "3    1\n",
       "4    0\n",
       "Name: SibSp, dtype: int64"
      ]
     },
     "metadata": {},
     "output_type": "display_data"
    },
    {
     "name": "stdout",
     "output_type": "stream",
     "text": [
      "--------------------\n"
     ]
    },
    {
     "data": {
      "image/png": "[encoded data removed]",
      "text/plain": [
       "<Figure size 432x288 with 1 Axes>"
      ]
     },
     "metadata": {},
     "output_type": "display_data"
    },
    {
     "name": "stdout",
     "output_type": "stream",
     "text": [
      "\n",
      "==============================\n",
      "Column: Parch\n",
      "==============================\n",
      "--------5sample--------\n"
     ]
    },
    {
     "data": {
      "text/plain": [
       "0    0\n",
       "1    0\n",
       "2    0\n",
       "3    0\n",
       "4    0\n",
       "Name: Parch, dtype: int64"
      ]
     },
     "metadata": {},
     "output_type": "display_data"
    },
    {
     "name": "stdout",
     "output_type": "stream",
     "text": [
      "--------------------\n"
     ]
    },
    {
     "data": {
      "image/png": "[encoded data removed]",
      "text/plain": [
       "<Figure size 432x288 with 1 Axes>"
      ]
     },
     "metadata": {},
     "output_type": "display_data"
    },
    {
     "name": "stdout",
     "output_type": "stream",
     "text": [
      "\n",
      "==============================\n",
      "Column: Ticket\n",
      "==============================\n",
      "--------5sample--------\n"
     ]
    },
    {
     "data": {
      "text/plain": [
       "0           A/5 21171\n",
       "1            PC 17599\n",
       "2    STON/O2. 3101282\n",
       "3              113803\n",
       "4              373450\n",
       "Name: Ticket, dtype: object"
      ]
     },
     "metadata": {},
     "output_type": "display_data"
    },
    {
     "name": "stdout",
     "output_type": "stream",
     "text": [
      "--------------------\n",
      "347082      7\n",
      "CA. 2343    7\n",
      "1601        7\n",
      "3101295     6\n",
      "CA 2144     6\n",
      "           ..\n",
      "9234        1\n",
      "19988       1\n",
      "2693        1\n",
      "PC 17612    1\n",
      "370376      1\n",
      "Name: Ticket, Length: 681, dtype: int64\n",
      "\n",
      "==============================\n",
      "Column: Fare\n",
      "==============================\n",
      "--------5sample--------\n"
     ]
    },
    {
     "data": {
      "text/plain": [
       "0     7.2500\n",
       "1    71.2833\n",
       "2     7.9250\n",
       "3    53.1000\n",
       "4     8.0500\n",
       "Name: Fare, dtype: float64"
      ]
     },
     "metadata": {},
     "output_type": "display_data"
    },
    {
     "name": "stdout",
     "output_type": "stream",
     "text": [
      "--------------------\n"
     ]
    },
    {
     "data": {
      "image/png": "[encoded data removed]",
      "text/plain": [
       "<Figure size 432x288 with 1 Axes>"
      ]
     },
     "metadata": {},
     "output_type": "display_data"
    },
    {
     "name": "stdout",
     "output_type": "stream",
     "text": [
      "\n",
      "==============================\n",
      "Column: Cabin\n",
      "==============================\n",
      "--------5sample--------\n"
     ]
    },
    {
     "data": {
      "text/plain": [
       "0     NaN\n",
       "1     C85\n",
       "2     NaN\n",
       "3    C123\n",
       "4     NaN\n",
       "Name: Cabin, dtype: object"
      ]
     },
     "metadata": {},
     "output_type": "display_data"
    },
    {
     "name": "stdout",
     "output_type": "stream",
     "text": [
      "--------------------\n",
      "NaN            687\n",
      "C23 C25 C27      4\n",
      "G6               4\n",
      "B96 B98          4\n",
      "C22 C26          3\n",
      "              ... \n",
      "E34              1\n",
      "C7               1\n",
      "C54              1\n",
      "E36              1\n",
      "C148             1\n",
      "Name: Cabin, Length: 148, dtype: int64\n",
      "\n",
      "==============================\n",
      "Column: Embarked\n",
      "==============================\n",
      "--------5sample--------\n"
     ]
    },
    {
     "data": {
      "text/plain": [
       "0    S\n",
       "1    C\n",
       "2    S\n",
       "3    S\n",
       "4    S\n",
       "Name: Embarked, dtype: object"
      ]
     },
     "metadata": {},
     "output_type": "display_data"
    },
    {
     "name": "stdout",
     "output_type": "stream",
     "text": [
      "--------------------\n",
      "S      644\n",
      "C      168\n",
      "Q       77\n",
      "NaN      2\n",
      "Name: Embarked, dtype: int64\n"
     ]
    }
   ],
   "source": [
    "for col in train_df.columns:\n",
    "    check_column(train_df, col)"
   ]
  },
  {
   "cell_type": "markdown",
   "metadata": {},
   "source": [
    "- PassengerId\n",
    "  - 連番のユニークIDと思って間違いない\n",
    "- Survived(目的変数)\n",
    "  - 少し不均衡で1が少ないが極端ではない\n",
    "- Pclass\n",
    "  - 3クラス目あって、3つ目の人が多い\n",
    "- Name\n",
    "  - 名前がそのまま入っている。テキスト処理が必要そう\n",
    "- Sex\n",
    "  - 男女どちらか\n",
    "  - 男性の方が多い\n",
    "- Age\n",
    "  - 一般的な年齢分布に近い\n",
    "  - 不明データが-1になっている等、明らかに変なデータはなさそう\n",
    "- SibSp\n",
    "  - ほとんどが0人、時々1人、それ以上はまれに存在\n",
    "- Parch\n",
    "  - ほとんどが0人、1人以上は時々\n",
    "- Ticket\n",
    "  - 文字列と数値が含まれている\n",
    "  - どういう規則性があるのかを見たほうが良さそう\n",
    "- Fare\n",
    "  - 小数点以下まで存在\n",
    "  - 値のばらつきが大きい\n",
    "- Cabin\n",
    "  - 複数の値が半角スペースで区切られている\n",
    "  - テキスト処理が必要そう\n",
    "- Embarked\n",
    "  - ほとんどが３つのどれか\n",
    "  - テキストなので、何らか数値にする処理が必要"
   ]
  },
  {
   "cell_type": "markdown",
   "metadata": {},
   "source": [
    "## 各カラムの目的変数の関係性"
   ]
  },
  {
   "cell_type": "code",
   "execution_count": 11,
   "metadata": {},
   "outputs": [
    {
     "data": {
      "text/plain": [
       "['Pclass',\n",
       " 'Name',\n",
       " 'Sex',\n",
       " 'Age',\n",
       " 'SibSp',\n",
       " 'Parch',\n",
       " 'Ticket',\n",
       " 'Fare',\n",
       " 'Cabin',\n",
       " 'Embarked']"
      ]
     },
     "execution_count": 11,
     "metadata": {},
     "output_type": "execute_result"
    }
   ],
   "source": [
    "feature_cols = [c for c in train_df.columns if c not in [\"PassengerId\", \"Survived\"]]\n",
    "feature_cols"
   ]
  },
  {
   "cell_type": "markdown",
   "metadata": {},
   "source": [
    "比較しやすいカラムだけまず見る"
   ]
  },
  {
   "cell_type": "markdown",
   "metadata": {},
   "source": [
    "### Pclass"
   ]
  },
  {
   "cell_type": "code",
   "execution_count": 12,
   "metadata": {},
   "outputs": [
    {
     "data": {
      "text/plain": [
       "<seaborn.axisgrid.FacetGrid at 0x12fb90a90>"
      ]
     },
     "execution_count": 12,
     "metadata": {},
     "output_type": "execute_result"
    },
    {
     "data": {
      "image/png": "[encoded data removed]",
      "text/plain": [
       "<Figure size 720x360 with 2 Axes>"
      ]
     },
     "metadata": {},
     "output_type": "display_data"
    }
   ],
   "source": [
    "col = \"Pclass\"\n",
    "sns.catplot(x=col, col=\"Survived\", kind='count', data=train_df)"
   ]
  },
  {
   "cell_type": "markdown",
   "metadata": {},
   "source": [
    "Pclassが小さいほど生存率がかなり上がっている"
   ]
  },
  {
   "cell_type": "markdown",
   "metadata": {},
   "source": [
    "### Sex"
   ]
  },
  {
   "cell_type": "code",
   "execution_count": 13,
   "metadata": {},
   "outputs": [
    {
     "data": {
      "text/plain": [
       "<seaborn.axisgrid.FacetGrid at 0x12fac7340>"
      ]
     },
     "execution_count": 13,
     "metadata": {},
     "output_type": "execute_result"
    },
    {
     "data": {
      "image/png": "[encoded data removed]",
      "text/plain": [
       "<Figure size 720x360 with 2 Axes>"
      ]
     },
     "metadata": {},
     "output_type": "display_data"
    }
   ],
   "source": [
    "col = \"Sex\"\n",
    "sns.catplot(x=col, col=\"Survived\", kind='count', data=train_df)"
   ]
  },
  {
   "cell_type": "markdown",
   "metadata": {},
   "source": [
    "- 女性の方が生存率がたかい"
   ]
  },
  {
   "cell_type": "markdown",
   "metadata": {},
   "source": [
    "### SibSp"
   ]
  },
  {
   "cell_type": "code",
   "execution_count": 14,
   "metadata": {},
   "outputs": [
    {
     "data": {
      "text/plain": [
       "<seaborn.axisgrid.FacetGrid at 0x12fccb850>"
      ]
     },
     "execution_count": 14,
     "metadata": {},
     "output_type": "execute_result"
    },
    {
     "data": {
      "image/png": "[encoded data removed]",
      "text/plain": [
       "<Figure size 720x360 with 2 Axes>"
      ]
     },
     "metadata": {},
     "output_type": "display_data"
    }
   ],
   "source": [
    "col = \"SibSp\"\n",
    "sns.catplot(x=col, col=\"Survived\", kind='count', data=train_df)"
   ]
  },
  {
   "cell_type": "markdown",
   "metadata": {},
   "source": [
    "値が大きい人ほど生存率がたかい"
   ]
  },
  {
   "cell_type": "markdown",
   "metadata": {},
   "source": [
    "### Parch"
   ]
  },
  {
   "cell_type": "code",
   "execution_count": 15,
   "metadata": {},
   "outputs": [
    {
     "data": {
      "text/plain": [
       "<seaborn.axisgrid.FacetGrid at 0x12fd2fd30>"
      ]
     },
     "execution_count": 15,
     "metadata": {},
     "output_type": "execute_result"
    },
    {
     "data": {
      "image/png": "[encoded data removed]",
      "text/plain": [
       "<Figure size 720x360 with 2 Axes>"
      ]
     },
     "metadata": {},
     "output_type": "display_data"
    }
   ],
   "source": [
    "col = \"Parch\"\n",
    "sns.catplot(x=col, col=\"Survived\", kind='count', data=train_df)"
   ]
  },
  {
   "cell_type": "markdown",
   "metadata": {},
   "source": [
    "SibSp同様に値が大きい人ほど生存率がたかい"
   ]
  },
  {
   "cell_type": "markdown",
   "metadata": {},
   "source": [
    "### Embarked"
   ]
  },
  {
   "cell_type": "code",
   "execution_count": 16,
   "metadata": {},
   "outputs": [
    {
     "data": {
      "text/plain": [
       "S    644\n",
       "C    168\n",
       "Q     77\n",
       "Name: Embarked, dtype: int64"
      ]
     },
     "execution_count": 16,
     "metadata": {},
     "output_type": "execute_result"
    }
   ],
   "source": [
    "train_df[\"Embarked\"].value_counts()"
   ]
  },
  {
   "cell_type": "code",
   "execution_count": 17,
   "metadata": {},
   "outputs": [
    {
     "data": {
      "text/plain": [
       "<seaborn.axisgrid.FacetGrid at 0x12fc87df0>"
      ]
     },
     "execution_count": 17,
     "metadata": {},
     "output_type": "execute_result"
    },
    {
     "data": {
      "image/png": "[encoded data removed]",
      "text/plain": [
       "<Figure size 720x360 with 2 Axes>"
      ]
     },
     "metadata": {},
     "output_type": "display_data"
    }
   ],
   "source": [
    "col = \"Embarked\"\n",
    "sns.catplot(x=col, col=\"Survived\", kind='count', data=train_df)"
   ]
  },
  {
   "cell_type": "markdown",
   "metadata": {},
   "source": [
    "### Age"
   ]
  },
  {
   "cell_type": "code",
   "execution_count": 18,
   "metadata": {},
   "outputs": [
    {
     "data": {
      "text/plain": [
       "<matplotlib.legend.Legend at 0x12fabccd0>"
      ]
     },
     "execution_count": 18,
     "metadata": {},
     "output_type": "execute_result"
    },
    {
     "data": {
      "image/png": "[encoded data removed]",
      "text/plain": [
       "<Figure size 432x288 with 1 Axes>"
      ]
     },
     "metadata": {},
     "output_type": "display_data"
    }
   ],
   "source": [
    "col = \"Age\"\n",
    "sns.distplot(train_df.loc[train_df[\"Survived\"] == 0, col], kde=True, bins=20, label=\"Survived = 0\")\n",
    "sns.distplot(train_df.loc[train_df[\"Survived\"] == 1, col], kde=True, bins=20, label=\"Survived = 1\")\n",
    "plt.legend()"
   ]
  },
  {
   "cell_type": "markdown",
   "metadata": {},
   "source": [
    "未成年の生存率が高い傾向がある"
   ]
  },
  {
   "cell_type": "markdown",
   "metadata": {},
   "source": [
    "### Fare"
   ]
  },
  {
   "cell_type": "code",
   "execution_count": 19,
   "metadata": {},
   "outputs": [
    {
     "data": {
      "text/plain": [
       "<matplotlib.legend.Legend at 0x12d584c10>"
      ]
     },
     "execution_count": 19,
     "metadata": {},
     "output_type": "execute_result"
    },
    {
     "data": {
      "image/png": "[encoded data removed]",
      "text/plain": [
       "<Figure size 432x288 with 1 Axes>"
      ]
     },
     "metadata": {},
     "output_type": "display_data"
    }
   ],
   "source": [
    "col = \"Fare\"\n",
    "sns.distplot(train_df.loc[train_df[\"Survived\"] == 0, col], kde=True, bins=20, label=\"Survived = 0\")\n",
    "sns.distplot(train_df.loc[train_df[\"Survived\"] == 1, col], kde=True, bins=20, label=\"Survived = 1\")\n",
    "plt.legend()"
   ]
  },
  {
   "cell_type": "markdown",
   "metadata": {},
   "source": [
    "## テキストが含まれるデータの分析"
   ]
  },
  {
   "cell_type": "markdown",
   "metadata": {},
   "source": [
    "### Ticket"
   ]
  },
  {
   "cell_type": "code",
   "execution_count": 20,
   "metadata": {},
   "outputs": [
    {
     "data": {
      "text/plain": [
       "0           A/5 21171\n",
       "1            PC 17599\n",
       "2    STON/O2. 3101282\n",
       "3              113803\n",
       "4              373450\n",
       "5              330877\n",
       "6               17463\n",
       "7              349909\n",
       "8              347742\n",
       "9              237736\n",
       "Name: Ticket, dtype: object"
      ]
     },
     "execution_count": 20,
     "metadata": {},
     "output_type": "execute_result"
    }
   ],
   "source": [
    "train_df[\"Ticket\"].head(10)"
   ]
  },
  {
   "cell_type": "code",
   "execution_count": 21,
   "metadata": {},
   "outputs": [],
   "source": [
    "def is_int(s):\n",
    "    try:\n",
    "        val = int(s)\n",
    "        return True\n",
    "    except:\n",
    "        return False"
   ]
  },
  {
   "cell_type": "markdown",
   "metadata": {},
   "source": [
    "#### 文字列が含まれる（数値変換できない）データを確認"
   ]
  },
  {
   "cell_type": "code",
   "execution_count": 22,
   "metadata": {},
   "outputs": [
    {
     "name": "stdout",
     "output_type": "stream",
     "text": [
      "文字列が含まれる割合: 0.25814\n"
     ]
    },
    {
     "data": {
      "text/plain": [
       "CA. 2343              7\n",
       "CA 2144               6\n",
       "S.O.C. 14879          5\n",
       "PC 17757              4\n",
       "LINE                  4\n",
       "                     ..\n",
       "F.C.C. 13528          1\n",
       "SOTON/O.Q. 3101311    1\n",
       "A/5 3540              1\n",
       "PC 17610              1\n",
       "SOTON/OQ 392076       1\n",
       "Name: Ticket, Length: 167, dtype: int64"
      ]
     },
     "metadata": {},
     "output_type": "display_data"
    }
   ],
   "source": [
    "cond_int_ticket = train_df[\"Ticket\"].map(is_int)\n",
    "print(f\"文字列が含まれる割合: {(~cond_int_ticket).mean():.5f}\")\n",
    "display(train_df.loc[~cond_int_ticket, \"Ticket\"].value_counts())"
   ]
  },
  {
   "cell_type": "markdown",
   "metadata": {},
   "source": [
    "「文字列 + 半角スペース + 数値」のパターンが多そう？"
   ]
  },
  {
   "cell_type": "markdown",
   "metadata": {},
   "source": [
    "#### 半角スペースで区切って最初の英数字を抽出"
   ]
  },
  {
   "cell_type": "code",
   "execution_count": 23,
   "metadata": {},
   "outputs": [
    {
     "data": {
      "text/plain": [
       "PC            60\n",
       "C.A.          27\n",
       "STON/O        12\n",
       "A/5           10\n",
       "W./C.          9\n",
       "CA.            8\n",
       "SOTON/O.Q.     8\n",
       "A/5.           7\n",
       "SOTON/OQ       7\n",
       "STON/O2.       6\n",
       "CA             6\n",
       "F.C.C.         5\n",
       "C              5\n",
       "SC/PARIS       5\n",
       "S.O.C.         5\n",
       "SC/Paris       4\n",
       "LINE           4\n",
       "A/4            3\n",
       "PP             3\n",
       "A/4.           3\n",
       "S.O./P.P.      3\n",
       "SC/AH          3\n",
       "A.5.           2\n",
       "A./5.          2\n",
       "P/PP           2\n",
       "WE/P           2\n",
       "SOTON/O2       2\n",
       "S.C./PARIS     2\n",
       "S.W./PP        1\n",
       "F.C.           1\n",
       "A/S            1\n",
       "SO/C           1\n",
       "W/C            1\n",
       "SC             1\n",
       "SCO/W          1\n",
       "SW/PP          1\n",
       "Fa             1\n",
       "S.O.P.         1\n",
       "S.C./A.4.      1\n",
       "A4.            1\n",
       "S.P.           1\n",
       "W.E.P.         1\n",
       "C.A./SOTON     1\n",
       "Name: Ticket, dtype: int64"
      ]
     },
     "execution_count": 23,
     "metadata": {},
     "output_type": "execute_result"
    }
   ],
   "source": [
    "train_df.loc[~cond_int_ticket, \"Ticket\"].map(lambda x: x.split()[0]).value_counts()"
   ]
  },
  {
   "cell_type": "markdown",
   "metadata": {},
   "source": [
    "- いくつかのパターンが存在\n",
    "- \"C.A.\"や\"CA.\"、\"CA\"などは同じ可能性がある。名寄せしたほうがいいかもしれない\n",
    "- 数値部分と文字列部分に分けて特徴量を作ると良いかもしれない"
   ]
  },
  {
   "cell_type": "markdown",
   "metadata": {},
   "source": [
    "#### 文字列を半角スペースで区切った２つ目のパートが全て数値なのか、文字列が含まれるかを確認"
   ]
  },
  {
   "cell_type": "code",
   "execution_count": 24,
   "metadata": {},
   "outputs": [
    {
     "data": {
      "text/plain": [
       "2.       12\n",
       "Basle     1\n",
       "Name: Ticket, dtype: int64"
      ]
     },
     "execution_count": 24,
     "metadata": {},
     "output_type": "execute_result"
    }
   ],
   "source": [
    "train_df.loc[~cond_int_ticket, \"Ticket\"].map(\n",
    "    lambda x: x.split()[1] if len(x.split()) > 1 and not is_int(x.split()[1]) else np.nan\n",
    ").value_counts()"
   ]
  },
  {
   "cell_type": "markdown",
   "metadata": {},
   "source": [
    "- Basleというものだけ例外そう\n",
    "- \"2.\"は\".\"を除けば良さそう"
   ]
  },
  {
   "cell_type": "markdown",
   "metadata": {},
   "source": [
    "#### 数字について重複はある？（ユニークな数字なのかどうか）"
   ]
  },
  {
   "cell_type": "code",
   "execution_count": 25,
   "metadata": {},
   "outputs": [
    {
     "data": {
      "text/plain": [
       "1601       7\n",
       "347082     7\n",
       "3101295    6\n",
       "347088     6\n",
       "382652     5\n",
       "          ..\n",
       "3101267    1\n",
       "11765      1\n",
       "14313      1\n",
       "2626       1\n",
       "370376     1\n",
       "Name: Ticket, Length: 514, dtype: int64"
      ]
     },
     "execution_count": 25,
     "metadata": {},
     "output_type": "execute_result"
    }
   ],
   "source": [
    "train_df[cond_int_ticket][\"Ticket\"].value_counts()"
   ]
  },
  {
   "cell_type": "markdown",
   "metadata": {},
   "source": [
    "ところどころ重複は見られる"
   ]
  },
  {
   "cell_type": "markdown",
   "metadata": {},
   "source": [
    "#### 数字の連番を確認"
   ]
  },
  {
   "cell_type": "code",
   "execution_count": 26,
   "metadata": {},
   "outputs": [
    {
     "data": {
      "text/html": [
       "<div>\n",
       "<style scoped>\n",
       "    .dataframe tbody tr th:only-of-type {\n",
       "        vertical-align: middle;\n",
       "    }\n",
       "\n",
       "    .dataframe tbody tr th {\n",
       "        vertical-align: top;\n",
       "    }\n",
       "\n",
       "    .dataframe thead th {\n",
       "        text-align: right;\n",
       "    }\n",
       "</style>\n",
       "<table border=\"1\" class=\"dataframe\">\n",
       "  <thead>\n",
       "    <tr style=\"text-align: right;\">\n",
       "      <th></th>\n",
       "      <th>Ticket</th>\n",
       "      <th>Cabin</th>\n",
       "      <th>Fare</th>\n",
       "      <th>Name</th>\n",
       "    </tr>\n",
       "  </thead>\n",
       "  <tbody>\n",
       "    <tr>\n",
       "      <th>504</th>\n",
       "      <td>110152</td>\n",
       "      <td>B79</td>\n",
       "      <td>86.5000</td>\n",
       "      <td>Maioni, Miss. Roberta</td>\n",
       "    </tr>\n",
       "    <tr>\n",
       "      <th>257</th>\n",
       "      <td>110152</td>\n",
       "      <td>B77</td>\n",
       "      <td>86.5000</td>\n",
       "      <td>Cherry, Miss. Gladys</td>\n",
       "    </tr>\n",
       "    <tr>\n",
       "      <th>759</th>\n",
       "      <td>110152</td>\n",
       "      <td>B77</td>\n",
       "      <td>86.5000</td>\n",
       "      <td>Rothes, the Countess. of (Lucy Noel Martha Dye...</td>\n",
       "    </tr>\n",
       "    <tr>\n",
       "      <th>262</th>\n",
       "      <td>110413</td>\n",
       "      <td>E67</td>\n",
       "      <td>79.6500</td>\n",
       "      <td>Taussig, Mr. Emil</td>\n",
       "    </tr>\n",
       "    <tr>\n",
       "      <th>558</th>\n",
       "      <td>110413</td>\n",
       "      <td>E67</td>\n",
       "      <td>79.6500</td>\n",
       "      <td>Taussig, Mrs. Emil (Tillie Mandelbaum)</td>\n",
       "    </tr>\n",
       "    <tr>\n",
       "      <th>585</th>\n",
       "      <td>110413</td>\n",
       "      <td>E68</td>\n",
       "      <td>79.6500</td>\n",
       "      <td>Taussig, Miss. Ruth</td>\n",
       "    </tr>\n",
       "    <tr>\n",
       "      <th>110</th>\n",
       "      <td>110465</td>\n",
       "      <td>C110</td>\n",
       "      <td>52.0000</td>\n",
       "      <td>Porter, Mr. Walter Chamberlain</td>\n",
       "    </tr>\n",
       "    <tr>\n",
       "      <th>475</th>\n",
       "      <td>110465</td>\n",
       "      <td>A14</td>\n",
       "      <td>52.0000</td>\n",
       "      <td>Clifford, Mr. George Quincy</td>\n",
       "    </tr>\n",
       "    <tr>\n",
       "      <th>430</th>\n",
       "      <td>110564</td>\n",
       "      <td>C52</td>\n",
       "      <td>26.5500</td>\n",
       "      <td>Bjornstrom-Steffansson, Mr. Mauritz Hakan</td>\n",
       "    </tr>\n",
       "    <tr>\n",
       "      <th>366</th>\n",
       "      <td>110813</td>\n",
       "      <td>D37</td>\n",
       "      <td>75.2500</td>\n",
       "      <td>Warren, Mrs. Frank Manley (Anna Sophia Atkinson)</td>\n",
       "    </tr>\n",
       "    <tr>\n",
       "      <th>170</th>\n",
       "      <td>111240</td>\n",
       "      <td>B19</td>\n",
       "      <td>33.5000</td>\n",
       "      <td>Van der hoef, Mr. Wyckoff</td>\n",
       "    </tr>\n",
       "    <tr>\n",
       "      <th>462</th>\n",
       "      <td>111320</td>\n",
       "      <td>E63</td>\n",
       "      <td>38.5000</td>\n",
       "      <td>Gee, Mr. Arthur H</td>\n",
       "    </tr>\n",
       "    <tr>\n",
       "      <th>523</th>\n",
       "      <td>111361</td>\n",
       "      <td>B18</td>\n",
       "      <td>57.9792</td>\n",
       "      <td>Hippach, Mrs. Louis Albert (Ida Sophia Fischer)</td>\n",
       "    </tr>\n",
       "    <tr>\n",
       "      <th>329</th>\n",
       "      <td>111361</td>\n",
       "      <td>B18</td>\n",
       "      <td>57.9792</td>\n",
       "      <td>Hippach, Miss. Jean Gertrude</td>\n",
       "    </tr>\n",
       "    <tr>\n",
       "      <th>889</th>\n",
       "      <td>111369</td>\n",
       "      <td>C148</td>\n",
       "      <td>30.0000</td>\n",
       "      <td>Behr, Mr. Karl Howell</td>\n",
       "    </tr>\n",
       "    <tr>\n",
       "      <th>604</th>\n",
       "      <td>111426</td>\n",
       "      <td>NaN</td>\n",
       "      <td>26.5500</td>\n",
       "      <td>Homer, Mr. Harry (\"Mr E Haven\")</td>\n",
       "    </tr>\n",
       "    <tr>\n",
       "      <th>507</th>\n",
       "      <td>111427</td>\n",
       "      <td>NaN</td>\n",
       "      <td>26.5500</td>\n",
       "      <td>Bradley, Mr. George (\"George Arthur Brayton\")</td>\n",
       "    </tr>\n",
       "    <tr>\n",
       "      <th>187</th>\n",
       "      <td>111428</td>\n",
       "      <td>NaN</td>\n",
       "      <td>26.5500</td>\n",
       "      <td>Romaine, Mr. Charles Hallace (\"Mr C Rolmane\")</td>\n",
       "    </tr>\n",
       "    <tr>\n",
       "      <th>806</th>\n",
       "      <td>112050</td>\n",
       "      <td>A36</td>\n",
       "      <td>0.0000</td>\n",
       "      <td>Andrews, Mr. Thomas Jr</td>\n",
       "    </tr>\n",
       "    <tr>\n",
       "      <th>633</th>\n",
       "      <td>112052</td>\n",
       "      <td>NaN</td>\n",
       "      <td>0.0000</td>\n",
       "      <td>Parr, Mr. William Henry Marsh</td>\n",
       "    </tr>\n",
       "    <tr>\n",
       "      <th>887</th>\n",
       "      <td>112053</td>\n",
       "      <td>B42</td>\n",
       "      <td>30.0000</td>\n",
       "      <td>Graham, Miss. Margaret Edith</td>\n",
       "    </tr>\n",
       "    <tr>\n",
       "      <th>815</th>\n",
       "      <td>112058</td>\n",
       "      <td>B102</td>\n",
       "      <td>0.0000</td>\n",
       "      <td>Fry, Mr. Richard</td>\n",
       "    </tr>\n",
       "    <tr>\n",
       "      <th>263</th>\n",
       "      <td>112059</td>\n",
       "      <td>B94</td>\n",
       "      <td>0.0000</td>\n",
       "      <td>Harrison, Mr. William</td>\n",
       "    </tr>\n",
       "    <tr>\n",
       "      <th>209</th>\n",
       "      <td>112277</td>\n",
       "      <td>A31</td>\n",
       "      <td>31.0000</td>\n",
       "      <td>Blank, Mr. Henry</td>\n",
       "    </tr>\n",
       "    <tr>\n",
       "      <th>766</th>\n",
       "      <td>112379</td>\n",
       "      <td>NaN</td>\n",
       "      <td>39.6000</td>\n",
       "      <td>Brewe, Dr. Arthur Jackson</td>\n",
       "    </tr>\n",
       "    <tr>\n",
       "      <th>711</th>\n",
       "      <td>113028</td>\n",
       "      <td>C124</td>\n",
       "      <td>26.5500</td>\n",
       "      <td>Klaber, Mr. Herman</td>\n",
       "    </tr>\n",
       "    <tr>\n",
       "      <th>331</th>\n",
       "      <td>113043</td>\n",
       "      <td>C124</td>\n",
       "      <td>28.5000</td>\n",
       "      <td>Partner, Mr. Austen</td>\n",
       "    </tr>\n",
       "    <tr>\n",
       "      <th>536</th>\n",
       "      <td>113050</td>\n",
       "      <td>B38</td>\n",
       "      <td>26.5500</td>\n",
       "      <td>Butt, Major. Archibald Willingham</td>\n",
       "    </tr>\n",
       "    <tr>\n",
       "      <th>452</th>\n",
       "      <td>113051</td>\n",
       "      <td>C111</td>\n",
       "      <td>27.7500</td>\n",
       "      <td>Foreman, Mr. Benjamin Laventall</td>\n",
       "    </tr>\n",
       "    <tr>\n",
       "      <th>857</th>\n",
       "      <td>113055</td>\n",
       "      <td>E17</td>\n",
       "      <td>26.5500</td>\n",
       "      <td>Daly, Mr. Peter Denis</td>\n",
       "    </tr>\n",
       "  </tbody>\n",
       "</table>\n",
       "</div>"
      ],
      "text/plain": [
       "     Ticket Cabin     Fare                                               Name\n",
       "504  110152   B79  86.5000                              Maioni, Miss. Roberta\n",
       "257  110152   B77  86.5000                               Cherry, Miss. Gladys\n",
       "759  110152   B77  86.5000  Rothes, the Countess. of (Lucy Noel Martha Dye...\n",
       "262  110413   E67  79.6500                                  Taussig, Mr. Emil\n",
       "558  110413   E67  79.6500             Taussig, Mrs. Emil (Tillie Mandelbaum)\n",
       "585  110413   E68  79.6500                                Taussig, Miss. Ruth\n",
       "110  110465  C110  52.0000                     Porter, Mr. Walter Chamberlain\n",
       "475  110465   A14  52.0000                        Clifford, Mr. George Quincy\n",
       "430  110564   C52  26.5500          Bjornstrom-Steffansson, Mr. Mauritz Hakan\n",
       "366  110813   D37  75.2500   Warren, Mrs. Frank Manley (Anna Sophia Atkinson)\n",
       "170  111240   B19  33.5000                          Van der hoef, Mr. Wyckoff\n",
       "462  111320   E63  38.5000                                  Gee, Mr. Arthur H\n",
       "523  111361   B18  57.9792    Hippach, Mrs. Louis Albert (Ida Sophia Fischer)\n",
       "329  111361   B18  57.9792                       Hippach, Miss. Jean Gertrude\n",
       "889  111369  C148  30.0000                              Behr, Mr. Karl Howell\n",
       "604  111426   NaN  26.5500                    Homer, Mr. Harry (\"Mr E Haven\")\n",
       "507  111427   NaN  26.5500      Bradley, Mr. George (\"George Arthur Brayton\")\n",
       "187  111428   NaN  26.5500      Romaine, Mr. Charles Hallace (\"Mr C Rolmane\")\n",
       "806  112050   A36   0.0000                             Andrews, Mr. Thomas Jr\n",
       "633  112052   NaN   0.0000                      Parr, Mr. William Henry Marsh\n",
       "887  112053   B42  30.0000                       Graham, Miss. Margaret Edith\n",
       "815  112058  B102   0.0000                                   Fry, Mr. Richard\n",
       "263  112059   B94   0.0000                              Harrison, Mr. William\n",
       "209  112277   A31  31.0000                                   Blank, Mr. Henry\n",
       "766  112379   NaN  39.6000                          Brewe, Dr. Arthur Jackson\n",
       "711  113028  C124  26.5500                                 Klaber, Mr. Herman\n",
       "331  113043  C124  28.5000                                Partner, Mr. Austen\n",
       "536  113050   B38  26.5500                  Butt, Major. Archibald Willingham\n",
       "452  113051  C111  27.7500                    Foreman, Mr. Benjamin Laventall\n",
       "857  113055   E17  26.5500                             Daly, Mr. Peter Denis "
      ]
     },
     "execution_count": 26,
     "metadata": {},
     "output_type": "execute_result"
    }
   ],
   "source": [
    "train_df.sort_values(\"Ticket\").iloc[:30][[\"Ticket\", \"Cabin\", \"Fare\", \"Name\"]]"
   ]
  },
  {
   "cell_type": "markdown",
   "metadata": {},
   "source": [
    "- Ticketが同じものや連番のケースは、同一料金だったり、名前的に同じ家族のヒトのケースが見受けられる\n",
    "- Ticketの発行の方法によって、同一のTicket番号になることもあれば、連番になることもあるのかもしれない"
   ]
  },
  {
   "cell_type": "markdown",
   "metadata": {},
   "source": [
    "#### 同一チケット内の料金を確認"
   ]
  },
  {
   "cell_type": "code",
   "execution_count": 27,
   "metadata": {},
   "outputs": [
    {
     "data": {
      "text/plain": [
       "1    680\n",
       "2      1\n",
       "Name: Fare, dtype: int64"
      ]
     },
     "execution_count": 27,
     "metadata": {},
     "output_type": "execute_result"
    }
   ],
   "source": [
    "ticket_fare_nunique = train_df.groupby(\"Ticket\")[\"Fare\"].nunique()\n",
    "ticket_fare_nunique.value_counts()"
   ]
  },
  {
   "cell_type": "code",
   "execution_count": 28,
   "metadata": {},
   "outputs": [
    {
     "data": {
      "text/plain": [
       "Ticket\n",
       "7534    2\n",
       "Name: Fare, dtype: int64"
      ]
     },
     "execution_count": 28,
     "metadata": {},
     "output_type": "execute_result"
    }
   ],
   "source": [
    "ticket_fare_nunique[ticket_fare_nunique > 1]"
   ]
  },
  {
   "cell_type": "code",
   "execution_count": 29,
   "metadata": {},
   "outputs": [
    {
     "data": {
      "text/html": [
       "<div>\n",
       "<style scoped>\n",
       "    .dataframe tbody tr th:only-of-type {\n",
       "        vertical-align: middle;\n",
       "    }\n",
       "\n",
       "    .dataframe tbody tr th {\n",
       "        vertical-align: top;\n",
       "    }\n",
       "\n",
       "    .dataframe thead th {\n",
       "        text-align: right;\n",
       "    }\n",
       "</style>\n",
       "<table border=\"1\" class=\"dataframe\">\n",
       "  <thead>\n",
       "    <tr style=\"text-align: right;\">\n",
       "      <th></th>\n",
       "      <th>PassengerId</th>\n",
       "      <th>Survived</th>\n",
       "      <th>Pclass</th>\n",
       "      <th>Name</th>\n",
       "      <th>Sex</th>\n",
       "      <th>Age</th>\n",
       "      <th>SibSp</th>\n",
       "      <th>Parch</th>\n",
       "      <th>Ticket</th>\n",
       "      <th>Fare</th>\n",
       "      <th>Cabin</th>\n",
       "      <th>Embarked</th>\n",
       "    </tr>\n",
       "  </thead>\n",
       "  <tbody>\n",
       "    <tr>\n",
       "      <th>138</th>\n",
       "      <td>139</td>\n",
       "      <td>0</td>\n",
       "      <td>3</td>\n",
       "      <td>Osen, Mr. Olaf Elon</td>\n",
       "      <td>male</td>\n",
       "      <td>16.0</td>\n",
       "      <td>0</td>\n",
       "      <td>0</td>\n",
       "      <td>7534</td>\n",
       "      <td>9.2167</td>\n",
       "      <td>NaN</td>\n",
       "      <td>S</td>\n",
       "    </tr>\n",
       "    <tr>\n",
       "      <th>876</th>\n",
       "      <td>877</td>\n",
       "      <td>0</td>\n",
       "      <td>3</td>\n",
       "      <td>Gustafsson, Mr. Alfred Ossian</td>\n",
       "      <td>male</td>\n",
       "      <td>20.0</td>\n",
       "      <td>0</td>\n",
       "      <td>0</td>\n",
       "      <td>7534</td>\n",
       "      <td>9.8458</td>\n",
       "      <td>NaN</td>\n",
       "      <td>S</td>\n",
       "    </tr>\n",
       "  </tbody>\n",
       "</table>\n",
       "</div>"
      ],
      "text/plain": [
       "     PassengerId  Survived  Pclass                           Name   Sex   Age  \\\n",
       "138          139         0       3            Osen, Mr. Olaf Elon  male  16.0   \n",
       "876          877         0       3  Gustafsson, Mr. Alfred Ossian  male  20.0   \n",
       "\n",
       "     SibSp  Parch Ticket    Fare Cabin Embarked  \n",
       "138      0      0   7534  9.2167   NaN        S  \n",
       "876      0      0   7534  9.8458   NaN        S  "
      ]
     },
     "execution_count": 29,
     "metadata": {},
     "output_type": "execute_result"
    }
   ],
   "source": [
    "train_df.query(\"Ticket == '7534'\")"
   ]
  },
  {
   "cell_type": "markdown",
   "metadata": {},
   "source": [
    "ほとんどのケース(7534を除く)で一つのチケットは同一料金である"
   ]
  },
  {
   "cell_type": "markdown",
   "metadata": {},
   "source": [
    "### Cabin"
   ]
  },
  {
   "cell_type": "markdown",
   "metadata": {},
   "source": [
    "#### 同一Cabinのデータがどれくらいあるか？"
   ]
  },
  {
   "cell_type": "code",
   "execution_count": 30,
   "metadata": {},
   "outputs": [
    {
     "data": {
      "text/plain": [
       "B96 B98        4\n",
       "G6             4\n",
       "C23 C25 C27    4\n",
       "C22 C26        3\n",
       "F33            3\n",
       "              ..\n",
       "E34            1\n",
       "C7             1\n",
       "C54            1\n",
       "E36            1\n",
       "C148           1\n",
       "Name: Cabin, Length: 147, dtype: int64"
      ]
     },
     "execution_count": 30,
     "metadata": {},
     "output_type": "execute_result"
    }
   ],
   "source": [
    "train_df[~train_df[\"Cabin\"].isna()][\"Cabin\"].value_counts()"
   ]
  },
  {
   "cell_type": "markdown",
   "metadata": {},
   "source": [
    "せいぜい4つ程度"
   ]
  },
  {
   "cell_type": "markdown",
   "metadata": {},
   "source": [
    "#### 半角スペースで区切ってみる"
   ]
  },
  {
   "cell_type": "code",
   "execution_count": 31,
   "metadata": {},
   "outputs": [],
   "source": [
    "trn_cabin_splits = train_df[\"Cabin\"].map(lambda x: x.split() if x == x else [])"
   ]
  },
  {
   "cell_type": "markdown",
   "metadata": {},
   "source": [
    "#### 区切ったときに何個のデータが１レコードあたりにあるか？"
   ]
  },
  {
   "cell_type": "code",
   "execution_count": 32,
   "metadata": {},
   "outputs": [
    {
     "data": {
      "image/png": "[encoded data removed]",
      "text/plain": [
       "<Figure size 432x288 with 1 Axes>"
      ]
     },
     "metadata": {},
     "output_type": "display_data"
    }
   ],
   "source": [
    "trn_cabin_splits.map(len).value_counts().sort_index().plot.bar();"
   ]
  },
  {
   "cell_type": "markdown",
   "metadata": {},
   "source": [
    "- 0は元から欠損のもの\n",
    "-ほとんどが1つで2, 3 ,4 のものもところどころある"
   ]
  },
  {
   "cell_type": "code",
   "execution_count": 33,
   "metadata": {},
   "outputs": [
    {
     "name": "stdout",
     "output_type": "stream",
     "text": [
      "0 0.29985443959243085\n",
      "1 0.6777777777777778\n",
      "2 0.5625\n",
      "3 0.5\n",
      "4 1.0\n"
     ]
    }
   ],
   "source": [
    "trn_cabin_len = trn_cabin_splits.map(len)\n",
    "for i in range(5):\n",
    "    print(i, train_df.loc[trn_cabin_len == i, \"Survived\"].mean())"
   ]
  },
  {
   "cell_type": "markdown",
   "metadata": {},
   "source": [
    "欠損しているよりはCABINの情報が入っている方が、生存率が高い（2~4は母数が少ないため判断が難しい）"
   ]
  },
  {
   "cell_type": "markdown",
   "metadata": {},
   "source": [
    "#### Cabinのアルファベットについて"
   ]
  },
  {
   "cell_type": "markdown",
   "metadata": {},
   "source": [
    "C85というようにアルファベット+数字でCABIN名がついている。このCのような数字を確認する"
   ]
  },
  {
   "cell_type": "markdown",
   "metadata": {},
   "source": [
    "#### アルファベットの数は１レコード辺り１つだけか？"
   ]
  },
  {
   "cell_type": "code",
   "execution_count": 34,
   "metadata": {},
   "outputs": [
    {
     "data": {
      "text/plain": [
       "0    687\n",
       "1    200\n",
       "2      4\n",
       "Name: Cabin, dtype: int64"
      ]
     },
     "execution_count": 34,
     "metadata": {},
     "output_type": "execute_result"
    }
   ],
   "source": [
    "trn_cabin_splits.map(lambda x_list: list(set([x[0] for x in x_list]))).map(len).value_counts()"
   ]
  },
  {
   "cell_type": "markdown",
   "metadata": {},
   "source": [
    "2つアルファベットがあるレコードも存在する"
   ]
  },
  {
   "cell_type": "markdown",
   "metadata": {},
   "source": [
    "#### アルファベットのパターン列挙"
   ]
  },
  {
   "cell_type": "code",
   "execution_count": 35,
   "metadata": {},
   "outputs": [
    {
     "data": {
      "text/plain": [
       "['A', 'B', 'C', 'D', 'E', 'F', 'G', 'T']"
      ]
     },
     "execution_count": 35,
     "metadata": {},
     "output_type": "execute_result"
    }
   ],
   "source": [
    "trn_cabin_alphabets = sorted(\n",
    "    list(set(itertools.chain.from_iterable(trn_cabin_splits.map(lambda x_list: list(set([x[0] for x in x_list]))).tolist())))\n",
    ")\n",
    "trn_cabin_alphabets"
   ]
  },
  {
   "cell_type": "markdown",
   "metadata": {},
   "source": [
    "#### ２文字目もアルファベットのものがないかを確認"
   ]
  },
  {
   "cell_type": "code",
   "execution_count": 36,
   "metadata": {},
   "outputs": [
    {
     "data": {
      "text/plain": [
       "['1', '2', '3', '4', '5', '6', '7', '8', '9']"
      ]
     },
     "execution_count": 36,
     "metadata": {},
     "output_type": "execute_result"
    }
   ],
   "source": [
    "trn_cabin_second_char = sorted(\n",
    "    list(set(itertools.chain.from_iterable(trn_cabin_splits.map(lambda x_list: list(set([x[1] for x in x_list if len(x) > 1]))).tolist())))\n",
    ")\n",
    "trn_cabin_second_char"
   ]
  },
  {
   "cell_type": "markdown",
   "metadata": {},
   "source": [
    "２文字目は数字のみらしい"
   ]
  },
  {
   "cell_type": "markdown",
   "metadata": {},
   "source": [
    "#### アルファベット毎の生存率を確認"
   ]
  },
  {
   "cell_type": "code",
   "execution_count": 37,
   "metadata": {},
   "outputs": [],
   "source": [
    "char_results = {}\n",
    "char_counts = {}\n",
    "for char in trn_cabin_alphabets:\n",
    "    char_cond = train_df[\"Cabin\"].fillna(\"\").str.contains(char)\n",
    "    char_target_ratio = train_df.loc[char_cond, \"Survived\"].mean()\n",
    "    char_results[char] = char_target_ratio\n",
    "    char_counts[char] = char_cond.sum()"
   ]
  },
  {
   "cell_type": "code",
   "execution_count": 38,
   "metadata": {},
   "outputs": [
    {
     "data": {
      "image/png": "[encoded data removed]",
      "text/plain": [
       "<Figure size 432x288 with 1 Axes>"
      ]
     },
     "metadata": {},
     "output_type": "display_data"
    }
   ],
   "source": [
    "sns.barplot(x=list(char_counts.keys()), y=list(char_counts.values()))\n",
    "plt.title(\"count per alphabet of cabin\")\n",
    "plt.show()"
   ]
  },
  {
   "cell_type": "code",
   "execution_count": 39,
   "metadata": {},
   "outputs": [
    {
     "data": {
      "image/png": "[encoded data removed]",
      "text/plain": [
       "<Figure size 432x288 with 1 Axes>"
      ]
     },
     "metadata": {},
     "output_type": "display_data"
    }
   ],
   "source": [
    "sns.barplot(x=list(char_results.keys()), y=list(char_results.values()))\n",
    "plt.title(\"target ratio per alphabet of cabin\")\n",
    "plt.show()"
   ]
  },
  {
   "cell_type": "markdown",
   "metadata": {},
   "source": [
    "- アルファベット毎に多少は差がある\n",
    "- 特徴量には入れたほうが良い気がする"
   ]
  },
  {
   "cell_type": "markdown",
   "metadata": {},
   "source": [
    "- EmbarkedがSのヒトは生存率が低い、逆にCは高め"
   ]
  },
  {
   "cell_type": "markdown",
   "metadata": {},
   "source": [
    "### Name"
   ]
  },
  {
   "cell_type": "markdown",
   "metadata": {},
   "source": [
    "#### 重複した名前は存在する?"
   ]
  },
  {
   "cell_type": "code",
   "execution_count": 40,
   "metadata": {},
   "outputs": [
    {
     "data": {
      "text/plain": [
       "Braund, Mr. Owen Harris             1\n",
       "Boulos, Mr. Hanna                   1\n",
       "Frolicher-Stehli, Mr. Maxmillian    1\n",
       "Gilinski, Mr. Eliezer               1\n",
       "Murdlin, Mr. Joseph                 1\n",
       "Name: Name, dtype: int64"
      ]
     },
     "execution_count": 40,
     "metadata": {},
     "output_type": "execute_result"
    }
   ],
   "source": [
    "train_df[\"Name\"].value_counts().iloc[:5]"
   ]
  },
  {
   "cell_type": "markdown",
   "metadata": {},
   "source": [
    "名前の重複はなさそう"
   ]
  },
  {
   "cell_type": "markdown",
   "metadata": {},
   "source": [
    "## モデル作成"
   ]
  },
  {
   "cell_type": "markdown",
   "metadata": {},
   "source": [
    "### 特徴量作成"
   ]
  },
  {
   "cell_type": "code",
   "execution_count": 41,
   "metadata": {},
   "outputs": [
    {
     "data": {
      "text/html": [
       "<div>\n",
       "<style scoped>\n",
       "    .dataframe tbody tr th:only-of-type {\n",
       "        vertical-align: middle;\n",
       "    }\n",
       "\n",
       "    .dataframe tbody tr th {\n",
       "        vertical-align: top;\n",
       "    }\n",
       "\n",
       "    .dataframe thead th {\n",
       "        text-align: right;\n",
       "    }\n",
       "</style>\n",
       "<table border=\"1\" class=\"dataframe\">\n",
       "  <thead>\n",
       "    <tr style=\"text-align: right;\">\n",
       "      <th></th>\n",
       "      <th>PassengerId</th>\n",
       "      <th>Survived</th>\n",
       "      <th>Pclass</th>\n",
       "      <th>Name</th>\n",
       "      <th>Sex</th>\n",
       "      <th>Age</th>\n",
       "      <th>SibSp</th>\n",
       "      <th>Parch</th>\n",
       "      <th>Ticket</th>\n",
       "      <th>Fare</th>\n",
       "      <th>Cabin</th>\n",
       "      <th>Embarked</th>\n",
       "    </tr>\n",
       "  </thead>\n",
       "  <tbody>\n",
       "    <tr>\n",
       "      <th>0</th>\n",
       "      <td>1</td>\n",
       "      <td>0</td>\n",
       "      <td>3</td>\n",
       "      <td>Braund, Mr. Owen Harris</td>\n",
       "      <td>male</td>\n",
       "      <td>22.0</td>\n",
       "      <td>1</td>\n",
       "      <td>0</td>\n",
       "      <td>A/5 21171</td>\n",
       "      <td>7.2500</td>\n",
       "      <td>NaN</td>\n",
       "      <td>S</td>\n",
       "    </tr>\n",
       "    <tr>\n",
       "      <th>1</th>\n",
       "      <td>2</td>\n",
       "      <td>1</td>\n",
       "      <td>1</td>\n",
       "      <td>Cumings, Mrs. John Bradley (Florence Briggs Th...</td>\n",
       "      <td>female</td>\n",
       "      <td>38.0</td>\n",
       "      <td>1</td>\n",
       "      <td>0</td>\n",
       "      <td>PC 17599</td>\n",
       "      <td>71.2833</td>\n",
       "      <td>C85</td>\n",
       "      <td>C</td>\n",
       "    </tr>\n",
       "    <tr>\n",
       "      <th>2</th>\n",
       "      <td>3</td>\n",
       "      <td>1</td>\n",
       "      <td>3</td>\n",
       "      <td>Heikkinen, Miss. Laina</td>\n",
       "      <td>female</td>\n",
       "      <td>26.0</td>\n",
       "      <td>0</td>\n",
       "      <td>0</td>\n",
       "      <td>STON/O2. 3101282</td>\n",
       "      <td>7.9250</td>\n",
       "      <td>NaN</td>\n",
       "      <td>S</td>\n",
       "    </tr>\n",
       "    <tr>\n",
       "      <th>3</th>\n",
       "      <td>4</td>\n",
       "      <td>1</td>\n",
       "      <td>1</td>\n",
       "      <td>Futrelle, Mrs. Jacques Heath (Lily May Peel)</td>\n",
       "      <td>female</td>\n",
       "      <td>35.0</td>\n",
       "      <td>1</td>\n",
       "      <td>0</td>\n",
       "      <td>113803</td>\n",
       "      <td>53.1000</td>\n",
       "      <td>C123</td>\n",
       "      <td>S</td>\n",
       "    </tr>\n",
       "    <tr>\n",
       "      <th>4</th>\n",
       "      <td>5</td>\n",
       "      <td>0</td>\n",
       "      <td>3</td>\n",
       "      <td>Allen, Mr. William Henry</td>\n",
       "      <td>male</td>\n",
       "      <td>35.0</td>\n",
       "      <td>0</td>\n",
       "      <td>0</td>\n",
       "      <td>373450</td>\n",
       "      <td>8.0500</td>\n",
       "      <td>NaN</td>\n",
       "      <td>S</td>\n",
       "    </tr>\n",
       "  </tbody>\n",
       "</table>\n",
       "</div>"
      ],
      "text/plain": [
       "   PassengerId  Survived  Pclass  \\\n",
       "0            1         0       3   \n",
       "1            2         1       1   \n",
       "2            3         1       3   \n",
       "3            4         1       1   \n",
       "4            5         0       3   \n",
       "\n",
       "                                                Name     Sex   Age  SibSp  \\\n",
       "0                            Braund, Mr. Owen Harris    male  22.0      1   \n",
       "1  Cumings, Mrs. John Bradley (Florence Briggs Th...  female  38.0      1   \n",
       "2                             Heikkinen, Miss. Laina  female  26.0      0   \n",
       "3       Futrelle, Mrs. Jacques Heath (Lily May Peel)  female  35.0      1   \n",
       "4                           Allen, Mr. William Henry    male  35.0      0   \n",
       "\n",
       "   Parch            Ticket     Fare Cabin Embarked  \n",
       "0      0         A/5 21171   7.2500   NaN        S  \n",
       "1      0          PC 17599  71.2833   C85        C  \n",
       "2      0  STON/O2. 3101282   7.9250   NaN        S  \n",
       "3      0            113803  53.1000  C123        S  \n",
       "4      0            373450   8.0500   NaN        S  "
      ]
     },
     "execution_count": 41,
     "metadata": {},
     "output_type": "execute_result"
    }
   ],
   "source": [
    "train_df.head()"
   ]
  },
  {
   "cell_type": "code",
   "execution_count": 42,
   "metadata": {},
   "outputs": [],
   "source": [
    "def make_feature(train_df, test_df):\n",
    "    \n",
    "    # カウントエンコーディング\n",
    "    # TicketとCabinは同じものは少ないが、重複したものもあるため含める\n",
    "    count_encode_cols = [\n",
    "        \"Sex\",\n",
    "        \"Embarked\",\n",
    "        \"Ticket\",\n",
    "        \"Cabin\"\n",
    "    ]\n",
    "    for col in count_encode_cols:\n",
    "        ce_col = f\"count_{col}\"\n",
    "        trn_count = train_df[col].value_counts()\n",
    "        train_df[ce_col] = train_df[col].map(trn_count)\n",
    "        test_df[ce_col] = test_df[col].map(trn_count)\n",
    "        \n",
    "    \n",
    "    # Cabinの頭文字をone-hot encodingで特徴量化\n",
    "    trn_cabin_splits = train_df[\"Cabin\"].map(lambda x: x.split() if x == x else [])\n",
    "    tst_cabin_splits = test_df[\"Cabin\"].map(lambda x: x.split() if x == x else [])\n",
    "    encoder = MultiLabelBinarizer()\n",
    "    trn_cabin_arr = encoder.fit_transform(trn_cabin_splits.map(\n",
    "        lambda x_list: list(set([x[0] for x in x_list]))).tolist()\n",
    "    )\n",
    "    tst_cabin_arr = encoder.transform(tst_cabin_splits.map(\n",
    "        lambda x_list: list(set([x[0] for x in x_list]))).tolist()\n",
    "    )\n",
    "    trn_cabin_char_df = pd.DataFrame(trn_cabin_arr, columns=encoder.classes_)\n",
    "    tst_cabin_char_df = pd.DataFrame(tst_cabin_arr, columns=encoder.classes_)\n",
    "    \n",
    "    train_df = pd.concat([train_df, trn_cabin_char_df], axis=1)\n",
    "    test_df = pd.concat([test_df, tst_cabin_char_df], axis=1)\n",
    "\n",
    "    \n",
    "    # Ticketの前半部分の文字列\n",
    "    # 前処理でドットの記号も外す\n",
    "    # count encodingする\n",
    "    def preprocess_ticket_char(s):\n",
    "        s = s.replace(\".\", \"\")\n",
    "        return s\n",
    "\n",
    "    trn_ticket_front_char = train_df[\"Ticket\"].map(\n",
    "        lambda x: preprocess_ticket_char(x.split()[0]) if x == x else np.nan\n",
    "    )\n",
    "    tst_ticket_front_char = test_df[\"Ticket\"].map(\n",
    "        lambda x: preprocess_ticket_char(x.split()[0]) if x == x else np.nan\n",
    "    )\n",
    "    trn_count = trn_ticket_front_char.value_counts()\n",
    "    train_df[\"count_ticket_front_char\"] = trn_ticket_front_char.map(trn_count)\n",
    "    test_df[\"count_ticket_front_char\"] = tst_ticket_front_char.map(trn_count)\n",
    "\n",
    "\n",
    "\n",
    "    def make_handcraft_feature(df):\n",
    "        \"\"\"その他データを見た上での特徴量\n",
    "        trainとtestそれぞれこの関数を通す\n",
    "        \"\"\"\n",
    "        # 家族の総数\n",
    "        df[\"total_family_num\"] = df[\"SibSp\"] + df[\"Parch\"]\n",
    "        # 家族総数のなかでSibSpの割合\n",
    "        df[\"SibSp_ratio_in_total_family\"] = df[\"SibSp\"] / (1 + df[\"total_family_num\"])\n",
    "        \n",
    "        # Cabinがいくつあるか？\n",
    "        df[\"Cabin_num\"] = df[\"Cabin\"].map(lambda x: len(x.split()) if x == x else 0)\n",
    "        return df\n",
    "    \n",
    "    train_df = make_handcraft_feature(train_df)\n",
    "    test_df = make_handcraft_feature(test_df)\n",
    "    \n",
    "    return train_df, test_df"
   ]
  },
  {
   "cell_type": "code",
   "execution_count": 43,
   "metadata": {},
   "outputs": [],
   "source": [
    "train_df, test_df = make_feature(train_df, test_df)"
   ]
  },
  {
   "cell_type": "markdown",
   "metadata": {},
   "source": [
    "### モデルの学習"
   ]
  },
  {
   "cell_type": "markdown",
   "metadata": {},
   "source": [
    "- 勾配ブースティングのモデルであるLightGBMを利用\n",
    "- モデル選定理由\n",
    "  - 精度が高い\n",
    "  - 欠損値の処理やスケールの前処理が不要\n",
    "  - 学習速度が早い"
   ]
  },
  {
   "cell_type": "code",
   "execution_count": 44,
   "metadata": {},
   "outputs": [],
   "source": [
    "def train(train_df, test_df, target_col=\"Survived\", cat_cols=[]):\n",
    "    \n",
    "    #######################\n",
    "    # HyperParameter\n",
    "    #######################\n",
    "    lgb_params = {\n",
    "        \"objective\": \"binary\",\n",
    "        \"verbosity\": -1,\n",
    "        \"boosting\": \"gbdt\",\n",
    "        'learning_rate': 0.05,\n",
    "        'num_leaves': 128,\n",
    "        'min_data_in_leaf': 10,\n",
    "        'max_depth': 4,\n",
    "        \"bagging_freq\": 1,\n",
    "        \"bagging_fraction\": 0.7,\n",
    "        \"feature_fraction\": 0.7,\n",
    "        \"lambda_l1\": 0.3,\n",
    "        \"lambda_l2\": 0.8,\n",
    "        \"seed\": 42,\n",
    "        \"num_threads\": -1,\n",
    "    }\n",
    "\n",
    "    #######################\n",
    "    # Feature\n",
    "    #######################\n",
    "    except_cols = [\n",
    "        \"PassengerId\",\n",
    "        \"Survived\",\n",
    "        \"Name\",\n",
    "        \"Sex\",\n",
    "        \"Ticket\",\n",
    "        \"Cabin\"\n",
    "    ]\n",
    "    str_cols = [c for c in train_df.columns if train_df[c].dtype == \"object\"]\n",
    "    print(str_cols)\n",
    "    except_cols += str_cols\n",
    "\n",
    "    use_feats = [\n",
    "        c for c in train_df.columns if c not in except_cols]\n",
    "    use_feats = sorted(use_feats)\n",
    "\n",
    "    target_col = \"Survived\"\n",
    "    oof_preds = np.zeros(len(train_df))\n",
    "\n",
    "    model_list = []\n",
    "    importance_list = []\n",
    "    val_score_list = []\n",
    "\n",
    "    folds = StratifiedKFold(n_splits=5, shuffle=True, random_state=42)\n",
    "\n",
    "    for fold_ix, (trn_idx, val_idx) in enumerate(folds.split(train_df, train_df[target_col])):\n",
    "\n",
    "        print(f\"Fold {fold_ix}\")\n",
    "        _train_df = train_df.iloc[trn_idx].reset_index(drop=True)\n",
    "        _valid_df = train_df.iloc[val_idx].reset_index(drop=True)\n",
    "\n",
    "        train_X = _train_df[use_feats]\n",
    "        train_y = _train_df[target_col]\n",
    "\n",
    "        valid_X = _valid_df[use_feats]\n",
    "        valid_y = _valid_df[target_col]\n",
    "\n",
    "        trn_dataset = lgb.Dataset(\n",
    "            train_X,\n",
    "            label=train_y\n",
    "        )\n",
    "        val_dataset = lgb.Dataset(\n",
    "            valid_X,\n",
    "            label=valid_y\n",
    "        )            \n",
    "\n",
    "        print(f\"Train shape {train_X.shape}\")\n",
    "        model = lgb.train(\n",
    "                    lgb_params,\n",
    "                    trn_dataset,\n",
    "                    10000,\n",
    "                    valid_sets = [trn_dataset, val_dataset],\n",
    "                    callbacks=[lgb.early_stopping(stopping_rounds=50), lgb.log_evaluation(period=100)]\n",
    "        )\n",
    "        imp_df = pd.DataFrame()\n",
    "        imp_df['feature'] = use_feats\n",
    "        imp_df['gain'] = model.feature_importance(importance_type=\"gain\")\n",
    "        importance_list.append(imp_df)\n",
    "        oof_preds[val_idx] = model.predict(valid_X)\n",
    "        model_list.append(model)\n",
    "\n",
    "        # calc oof score\n",
    "        val_score = roc_auc_score(valid_y, oof_preds[val_idx])\n",
    "        val_score_list.append(val_score)\n",
    "        print(f\"Fold Valid Score: {val_score}\")\n",
    "    \n",
    "    importance_df = pd.concat(importance_list).groupby(\"feature\")[\"gain\"].mean().reset_index()\n",
    "    importance_df = importance_df.sort_values(\"gain\", ascending=False).reset_index(drop=True)\n",
    "    total_val_score = roc_auc_score(train_df[target_col], oof_preds)\n",
    "\n",
    "    print(\"=\"*30)\n",
    "    print(f\"Fold Valid Score(roc auc): {total_val_score}\")\n",
    "   \n",
    "    return total_val_score, importance_df, oof_preds"
   ]
  },
  {
   "cell_type": "code",
   "execution_count": 45,
   "metadata": {},
   "outputs": [
    {
     "name": "stdout",
     "output_type": "stream",
     "text": [
      "['Name', 'Sex', 'Ticket', 'Cabin', 'Embarked']\n",
      "Fold 0\n",
      "Train shape (712, 21)\n",
      "Training until validation scores don't improve for 50 rounds\n",
      "[100]\ttraining's binary_logloss: 0.333285\tvalid_1's binary_logloss: 0.371025\n",
      "[200]\ttraining's binary_logloss: 0.279047\tvalid_1's binary_logloss: 0.357604\n",
      "[300]\ttraining's binary_logloss: 0.241981\tvalid_1's binary_logloss: 0.35038\n",
      "[400]\ttraining's binary_logloss: 0.215319\tvalid_1's binary_logloss: 0.350935\n",
      "Early stopping, best iteration is:\n",
      "[353]\ttraining's binary_logloss: 0.227804\tvalid_1's binary_logloss: 0.348305\n",
      "Fold Valid Score: 0.9193675889328062\n",
      "Fold 1\n",
      "Train shape (713, 21)\n",
      "Training until validation scores don't improve for 50 rounds\n",
      "[100]\ttraining's binary_logloss: 0.325121\tvalid_1's binary_logloss: 0.382748\n",
      "Early stopping, best iteration is:\n",
      "[146]\ttraining's binary_logloss: 0.293224\tvalid_1's binary_logloss: 0.379753\n",
      "Fold Valid Score: 0.8931818181818183\n",
      "Fold 2\n",
      "Train shape (713, 21)\n",
      "Training until validation scores don't improve for 50 rounds\n",
      "[100]\ttraining's binary_logloss: 0.312879\tvalid_1's binary_logloss: 0.459338\n",
      "Early stopping, best iteration is:\n",
      "[136]\ttraining's binary_logloss: 0.288277\tvalid_1's binary_logloss: 0.452835\n",
      "Fold Valid Score: 0.8463235294117647\n",
      "Fold 3\n",
      "Train shape (713, 21)\n",
      "Training until validation scores don't improve for 50 rounds\n",
      "[100]\ttraining's binary_logloss: 0.322384\tvalid_1's binary_logloss: 0.40221\n",
      "[200]\ttraining's binary_logloss: 0.26303\tvalid_1's binary_logloss: 0.401108\n",
      "Early stopping, best iteration is:\n",
      "[166]\ttraining's binary_logloss: 0.280263\tvalid_1's binary_logloss: 0.395936\n",
      "Fold Valid Score: 0.8771390374331551\n",
      "Fold 4\n",
      "Train shape (713, 21)\n",
      "Training until validation scores don't improve for 50 rounds\n",
      "[100]\ttraining's binary_logloss: 0.319763\tvalid_1's binary_logloss: 0.39923\n",
      "Early stopping, best iteration is:\n",
      "[112]\ttraining's binary_logloss: 0.311756\tvalid_1's binary_logloss: 0.397252\n",
      "Fold Valid Score: 0.8815317112086158\n",
      "==============================\n",
      "Fold Valid Score(roc auc): 0.8851473705514545\n"
     ]
    }
   ],
   "source": [
    "total_val_score, importance_df, oof_preds = train(train_df, test_df)"
   ]
  },
  {
   "cell_type": "markdown",
   "metadata": {},
   "source": [
    "- CrossValidationのROC-AUCで0.88"
   ]
  },
  {
   "cell_type": "markdown",
   "metadata": {},
   "source": [
    "### ROC曲線"
   ]
  },
  {
   "cell_type": "code",
   "execution_count": 46,
   "metadata": {},
   "outputs": [
    {
     "data": {
      "image/png": "[encoded data removed]",
      "text/plain": [
       "<Figure size 720x576 with 1 Axes>"
      ]
     },
     "metadata": {},
     "output_type": "display_data"
    }
   ],
   "source": [
    "# ROC曲線をプロット   \n",
    "fpr_fe, tpr_fe, thresholds_fe = roc_curve(train_df[\"Survived\"], oof_preds)\n",
    "plt.figure(figsize=(10, 8))\n",
    "plt.plot(fpr_fe, tpr_fe, label=f\"ROC curve (area = {total_val_score:.5f})\")\n",
    "plt.legend()\n",
    "plt.title('ROC curve')\n",
    "plt.xlabel('False Positive Rate')\n",
    "plt.ylabel('True Positive Rate')\n",
    "plt.grid(True)"
   ]
  },
  {
   "cell_type": "markdown",
   "metadata": {},
   "source": [
    "## Confusion Matrixを確認する"
   ]
  },
  {
   "cell_type": "code",
   "execution_count": 47,
   "metadata": {},
   "outputs": [],
   "source": [
    "# 予測スコアが0.5以上のものを1, それ以外を0とする\n",
    "pred_binary = np.where(oof_preds > 0.5, 1, 0)"
   ]
  },
  {
   "cell_type": "code",
   "execution_count": 48,
   "metadata": {},
   "outputs": [
    {
     "data": {
      "image/png": "[encoded data removed]",
      "text/plain": [
       "<Figure size 432x288 with 2 Axes>"
      ]
     },
     "metadata": {},
     "output_type": "display_data"
    }
   ],
   "source": [
    "cm = confusion_matrix(train_df[\"Survived\"], pred_binary).astype(int)\n",
    "sns.heatmap(cm, square=True, cbar=True, annot=True, cmap='Blues', fmt=\".5g\")\n",
    "plt.show()"
   ]
  },
  {
   "cell_type": "markdown",
   "metadata": {},
   "source": [
    "## 特徴量重要度"
   ]
  },
  {
   "cell_type": "code",
   "execution_count": 49,
   "metadata": {},
   "outputs": [
    {
     "data": {
      "image/png": "[encoded data removed]",
      "text/plain": [
       "<Figure size 1080x720 with 1 Axes>"
      ]
     },
     "metadata": {},
     "output_type": "display_data"
    }
   ],
   "source": [
    "plt.figure(figsize=(15, 10))\n",
    "sns.barplot(x=\"gain\", y=\"feature\", data=importance_df)\n",
    "plt.title('LightGBM Features (avg over folds)')\n",
    "plt.tight_layout()\n",
    "plt.show()"
   ]
  },
  {
   "cell_type": "markdown",
   "metadata": {},
   "source": [
    "- 性別・年齢・運賃が特に重要な特徴量と判断している\n",
    "- Ticketの最初の文字に関する特徴量も上位に来ている\n",
    "  - この辺りの特徴量を増やすともう少し精度が上がるかもしれない"
   ]
  },
  {
   "cell_type": "code",
   "execution_count": null,
   "metadata": {},
   "outputs": [],
   "source": []
  },
  {
   "cell_type": "code",
   "execution_count": null,
   "metadata": {},
   "outputs": [],
   "source": []
  },
  {
   "cell_type": "code",
   "execution_count": null,
   "metadata": {},
   "outputs": [],
   "source": []
  }
 ],
 "metadata": {
  "kernelspec": {
   "display_name": "Python 3",
   "language": "python",
   "name": "python3"
  },
  "language_info": {
   "codemirror_mode": {
    "name": "ipython",
    "version": 3
   },
   "file_extension": ".py",
   "mimetype": "text/x-python",
   "name": "python",
   "nbconvert_exporter": "python",
   "pygments_lexer": "ipython3",
   "version": "3.8.2"
  }
 },
 "nbformat": 4,
 "nbformat_minor": 4
}

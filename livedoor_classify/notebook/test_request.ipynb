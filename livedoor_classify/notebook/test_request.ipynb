{
 "cells": [
  {
   "cell_type": "code",
   "execution_count": 1,
   "metadata": {},
   "outputs": [],
   "source": [
    "import requests\n",
    "import json\n",
    "\n",
    "#test用のデータ\n",
    "text =\"既報通り、グーグル（以下、Google Japan）は5日、都内にて「新ハードウェア製品記者発表会」を開催し、Googleアシスタントを搭載したスマートディスプレイ「Google Nest Hub」を6月12日に税抜14,000円（税込15,120円）で発売すると発表した。\"\n",
    "\n",
    "dic = {\"text\":text}\n",
    "text = json.dumps(dic)\n",
    "\n",
    "# user_idとアクセストークンを設定\n",
    "user_id = \"XXXXX\"\n",
    "access_token = \"XXXXX\"\n",
    "mecab_url = \"XXXXX\"\n",
    "auth = (user_id, access_token)\n",
    "response = requests.post(mecab_url, text,headers={'Content-Type': 'application/json; charset=UTF-8'}, auth=auth)"
   ]
  },
  {
   "cell_type": "code",
   "execution_count": 2,
   "metadata": {},
   "outputs": [
    {
     "data": {
      "text/plain": [
       "'既報\\t名詞,一般,*,*,*,*,既報,キホウ,キホー\\n通り\\t名詞,接尾,一般,*,*,*,通り,ドオリ,ドーリ\\n、\\t記号,読点,*,*,*,*,、,、,、\\nグーグル\\t名詞,固有名詞,一般,*,*,*,グーグル,グーグル,グーグル\\n（\\t記号,括弧開,*,*,*,*,（,（,（\\n以下\\t名詞,非自立,副詞可能,*,*,*,以下,イカ,イカ\\n、\\t記号,読点,*,*,*,*,、,、,、\\nGoogle\\t名詞,固有名詞,一般,*,*,*,Google,グーグル,グーグル\\nJapan\\t名詞,固有名詞,地域,一般,*,*,Japan,ジャパン,ジャパン\\n）\\t記号,括弧閉,*,*,*,*,）,）,）\\nは\\t助詞,係助詞,*,*,*,*,は,ハ,ワ\\n5日\\t名詞,固有名詞,一般,*,*,*,5日,イツカ,イツカ\\n、\\t記号,読点,*,*,*,*,、,、,、\\n都内\\t名詞,一般,*,*,*,*,都内,トナイ,トナイ\\nにて\\t助詞,格助詞,一般,*,*,*,にて,ニテ,ニテ\\n「\\t記号,括弧開,*,*,*,*,「,「,「\\n新\\t接頭詞,名詞接続,*,*,*,*,新,シン,シン\\nハードウェア\\t名詞,一般,*,*,*,*,ハードウェア,ハードウェア,ハードウェア\\n製品\\t名詞,一般,*,*,*,*,製品,セイヒン,セイヒン\\n記者発表\\t名詞,固有名詞,一般,*,*,*,記者発表,キシャハッピョウ,キシャハッピョー\\n会\\t名詞,接尾,一般,*,*,*,会,カイ,カイ\\n」\\t記号,括弧閉,*,*,*,*,」,」,」\\nを\\t助詞,格助詞,一般,*,*,*,を,ヲ,ヲ\\n開催\\t名詞,サ変接続,*,*,*,*,開催,カイサイ,カイサイ\\nし\\t助詞,接続助詞,*,*,*,*,し,シ,シ\\n、\\t記号,読点,*,*,*,*,、,、,、\\nGoogleアシスタント\\t名詞,固有名詞,一般,*,*,*,Googleアシスタント,グーグルアシスタント,グーグルアシスタント\\nを\\t助詞,格助詞,一般,*,*,*,を,ヲ,ヲ\\n搭載\\t名詞,サ変接続,*,*,*,*,搭載,トウサイ,トーサイ\\nした\\t名詞,一般,*,*,*,*,した,シタ,シタ\\nスマートディスプレイ\\t名詞,固有名詞,一般,*,*,*,スマートディスプレイ,スマートディスプレイ,スマートディスプレイ\\n「\\t記号,括弧開,*,*,*,*,「,「,「\\nGoogle\\t名詞,固有名詞,一般,*,*,*,Google,グーグル,グーグル\\nNest\\t名詞,一般,*,*,*,*,*\\nHub\\t名詞,一般,*,*,*,*,*\\n」\\t記号,括弧閉,*,*,*,*,」,」,」\\nを\\t助詞,格助詞,一般,*,*,*,を,ヲ,ヲ\\n6月12日\\t名詞,固有名詞,一般,*,*,*,6月12日,ロクガツジュウニニチ,ロクガツジュウニニチ\\nに\\t助詞,格助詞,一般,*,*,*,に,ニ,ニ\\n税抜\\t名詞,固有名詞,一般,*,*,*,税抜,ゼイ,ゼイ\\n14\\t名詞,数,*,*,*,*,*\\n,\\t記号,一般,*,*,*,*,*\\n000\\t名詞,数,*,*,*,*,*\\n円\\t名詞,接尾,助数詞,*,*,*,円,エン,エン\\n（\\t記号,括弧開,*,*,*,*,（,（,（\\n税込\\t名詞,一般,*,*,*,*,税込,ゼイコミ,ゼイコミ\\n15\\t名詞,数,*,*,*,*,*\\n,\\t記号,一般,*,*,*,*,*\\n120円\\t名詞,固有名詞,一般,*,*,*,120円,ヒャクニジュウエン,ヒャクニジュウエン\\n）\\t記号,括弧閉,*,*,*,*,）,）,）\\nで\\t助詞,格助詞,一般,*,*,*,で,デ,デ\\n発売\\t名詞,サ変接続,*,*,*,*,発売,ハツバイ,ハツバイ\\nする\\t動詞,自立,*,*,サ変・スル,基本形,する,スル,スル\\nと\\t助詞,格助詞,引用,*,*,*,と,ト,ト\\n発表\\t名詞,サ変接続,*,*,*,*,発表,ハッピョウ,ハッピョー\\nした\\t名詞,一般,*,*,*,*,した,シタ,シタ\\n。\\t記号,句点,*,*,*,*,。,。,。\\nEOS\\n'"
      ]
     },
     "execution_count": 2,
     "metadata": {},
     "output_type": "execute_result"
    }
   ],
   "source": [
    "response.json()"
   ]
  },
  {
   "cell_type": "code",
   "execution_count": 3,
   "metadata": {},
   "outputs": [],
   "source": [
    "#前処理、名詞のみ対象として解析を実施する\n",
    "word_list = []\n",
    "doc_list = []\n",
    "\n",
    "text_data = response.json()\n",
    "text_data_list = text_data.split(\"\\n\")\n",
    "    \n",
    "for text in text_data_list:\n",
    "    if text == 'EOS':\n",
    "        break\n",
    "    else:\n",
    "        text = text.split(\"\\t\")\n",
    "        word = text[0]\n",
    "        word_meta = text[1]\n",
    "                \n",
    "        word_detail = word_meta.split(\",\")\n",
    "        if word_detail[0] == '名詞':\n",
    "            doc_list.append(word)\n",
    "doc_list = [doc_list]"
   ]
  },
  {
   "cell_type": "code",
   "execution_count": 4,
   "metadata": {
    "scrolled": true
   },
   "outputs": [
    {
     "name": "stdout",
     "output_type": "stream",
     "text": [
      "Looking in indexes: https://pypi.org/simple, https://packagecloud.io/abeja/platform-public/pypi/simple\n",
      "Requirement already satisfied: gensim in /usr/local/lib/python3.6/dist-packages (3.7.3)\n",
      "Requirement already satisfied: scipy>=0.18.1 in /usr/local/lib/python3.6/dist-packages (from gensim) (1.1.0)\n",
      "Requirement already satisfied: numpy>=1.11.3 in /usr/local/lib/python3.6/dist-packages (from gensim) (1.14.2)\n",
      "Requirement already satisfied: smart-open>=1.7.0 in /usr/local/lib/python3.6/dist-packages (from gensim) (1.8.4)\n",
      "Requirement already satisfied: six>=1.5.0 in /usr/local/lib/python3.6/dist-packages (from gensim) (1.11.0)\n",
      "Requirement already satisfied: requests in /usr/local/lib/python3.6/dist-packages (from smart-open>=1.7.0->gensim) (2.18.1)\n",
      "Requirement already satisfied: boto3 in /usr/local/lib/python3.6/dist-packages (from smart-open>=1.7.0->gensim) (1.9.172)\n",
      "Requirement already satisfied: boto>=2.32 in /usr/local/lib/python3.6/dist-packages (from smart-open>=1.7.0->gensim) (2.49.0)\n",
      "Requirement already satisfied: idna<2.6,>=2.5 in /usr/local/lib/python3.6/dist-packages (from requests->smart-open>=1.7.0->gensim) (2.5)\n",
      "Requirement already satisfied: urllib3<1.22,>=1.21.1 in /usr/local/lib/python3.6/dist-packages (from requests->smart-open>=1.7.0->gensim) (1.21.1)\n",
      "Requirement already satisfied: certifi>=2017.4.17 in /usr/local/lib/python3.6/dist-packages (from requests->smart-open>=1.7.0->gensim) (2018.10.15)\n",
      "Requirement already satisfied: chardet<3.1.0,>=3.0.2 in /usr/local/lib/python3.6/dist-packages (from requests->smart-open>=1.7.0->gensim) (3.0.4)\n",
      "Requirement already satisfied: s3transfer<0.3.0,>=0.2.0 in /usr/local/lib/python3.6/dist-packages (from boto3->smart-open>=1.7.0->gensim) (0.2.1)\n",
      "Requirement already satisfied: jmespath<1.0.0,>=0.7.1 in /usr/local/lib/python3.6/dist-packages (from boto3->smart-open>=1.7.0->gensim) (0.9.4)\n",
      "Requirement already satisfied: botocore<1.13.0,>=1.12.172 in /usr/local/lib/python3.6/dist-packages (from boto3->smart-open>=1.7.0->gensim) (1.12.172)\n",
      "Requirement already satisfied: docutils>=0.10 in /usr/local/lib/python3.6/dist-packages (from botocore<1.13.0,>=1.12.172->boto3->smart-open>=1.7.0->gensim) (0.14)\n",
      "Requirement already satisfied: python-dateutil<3.0.0,>=2.1; python_version >= \"2.7\" in /usr/local/lib/python3.6/dist-packages (from botocore<1.13.0,>=1.12.172->boto3->smart-open>=1.7.0->gensim) (2.7.3)\n",
      "\u001b[33mYou are using pip version 19.0.3, however version 19.1.1 is available.\n",
      "You should consider upgrading via the 'pip install --upgrade pip' command.\u001b[0m\n"
     ]
    }
   ],
   "source": [
    "#gensimのinstall\n",
    "!pip install gensim"
   ]
  },
  {
   "cell_type": "code",
   "execution_count": 6,
   "metadata": {
    "scrolled": true
   },
   "outputs": [],
   "source": [
    "# 辞書のLOAD\n",
    "from gensim.corpora import Dictionary\n",
    "dic = Dictionary.load_from_text(\"../model/livedoordic.txt\")\n",
    "bow_corpus = [dic.doc2bow(d) for d in doc_list]"
   ]
  },
  {
   "cell_type": "code",
   "execution_count": 7,
   "metadata": {},
   "outputs": [],
   "source": [
    "# tfidfモデルのLOAD\n",
    "from gensim.models import TfidfModel\n",
    "tfidf_model  = TfidfModel.load(\"../model/tfidf_model.model\")\n",
    "tfidf_corpus = tfidf_model[bow_corpus]"
   ]
  },
  {
   "cell_type": "code",
   "execution_count": 8,
   "metadata": {
    "scrolled": false
   },
   "outputs": [
    {
     "name": "stderr",
     "output_type": "stream",
     "text": [
      "/usr/local/lib/python3.6/dist-packages/smart_open/smart_open_lib.py:398: UserWarning: This function is deprecated, use smart_open.open instead. See the migration notes for details: https://github.com/RaRe-Technologies/smart_open/blob/master/README.rst#migrating-to-the-new-open-function\n",
      "  'See the migration notes for details: %s' % _MIGRATION_NOTES_URL\n"
     ]
    }
   ],
   "source": [
    "# LSIモデルのロード\n",
    "from gensim.models import LsiModel\n",
    "from gensim import models\n",
    "lsi_model = LsiModel.load(\"../model/lsi_model.model\")\n",
    "lsi_corpus = lsi_model[tfidf_corpus]"
   ]
  },
  {
   "cell_type": "code",
   "execution_count": 14,
   "metadata": {},
   "outputs": [],
   "source": [
    "# ラベルの定義\n",
    "label = ['dokujo-tsushin',\n",
    " 'it-life-hack',\n",
    " 'kaden-channel',\n",
    " 'livedoor-homme',\n",
    " 'movie-enter',\n",
    " 'peachy',\n",
    " 'smax',\n",
    " 'sports-watch',\n",
    " 'topic-news']"
   ]
  },
  {
   "cell_type": "code",
   "execution_count": 15,
   "metadata": {},
   "outputs": [],
   "source": [
    "#gensimコーパスからdenseへ\n",
    "from gensim import matutils\n",
    "dime = 100\n",
    "test_dense = list(matutils.corpus2dense(lsi_corpus, num_terms=dime).T)"
   ]
  },
  {
   "cell_type": "code",
   "execution_count": 17,
   "metadata": {},
   "outputs": [
    {
     "name": "stdout",
     "output_type": "stream",
     "text": [
      "peachy\n"
     ]
    }
   ],
   "source": [
    "#SVCモデルのロードと推論\n",
    "import pickle\n",
    "filename = '../model/SVC_model.sav'\n",
    "loaded_model = pickle.load(open(filename, 'rb'))\n",
    "result = loaded_model.predict(test_dense)\n",
    "print(label[int(result)])"
   ]
  },
  {
   "cell_type": "code",
   "execution_count": 18,
   "metadata": {},
   "outputs": [
    {
     "name": "stdout",
     "output_type": "stream",
     "text": [
      "it-life-hack\n"
     ]
    }
   ],
   "source": [
    "#XGBoostモデルのロードと推論\n",
    "filename = '../model/Xgboost_model.sav'\n",
    "loaded_model = pickle.load(open(filename, 'rb'))\n",
    "result = loaded_model.predict(test_dense)\n",
    "print(label[int(result)])"
   ]
  },
  {
   "cell_type": "code",
   "execution_count": 19,
   "metadata": {},
   "outputs": [
    {
     "name": "stdout",
     "output_type": "stream",
     "text": [
      "topic-news\n"
     ]
    }
   ],
   "source": [
    "#LightGBMモデルのロードと推論\n",
    "import numpy as np\n",
    "filename = '../model/LightGBM_model.sav'\n",
    "loaded_model = pickle.load(open(filename, 'rb'))\n",
    "result_list = loaded_model.predict(test_dense)\n",
    "result = np.argmax(result_list, axis=1)\n",
    "print(label[int(result)])"
   ]
  }
 ],
 "metadata": {
  "kernelspec": {
   "display_name": "Python 3",
   "language": "python",
   "name": "python3"
  },
  "language_info": {
   "codemirror_mode": {
    "name": "ipython",
    "version": 3
   },
   "file_extension": ".py",
   "mimetype": "text/x-python",
   "name": "python",
   "nbconvert_exporter": "python",
   "pygments_lexer": "ipython3",
   "version": "3.6.6"
  }
 },
 "nbformat": 4,
 "nbformat_minor": 2
}

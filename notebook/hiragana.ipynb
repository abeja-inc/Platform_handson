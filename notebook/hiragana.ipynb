{
 "cells": [
  {
   "cell_type": "markdown",
   "metadata": {},
   "source": [
    "## ひらがな手書きの文字認識"
   ]
  },
  {
   "cell_type": "markdown",
   "metadata": {
    "colab_type": "text",
    "id": "L7RDLFhz57kP"
   },
   "source": [
    "### データのダウンロード（NDL LABからひらがなのデータ）"
   ]
  },
  {
   "cell_type": "code",
   "execution_count": 1,
   "metadata": {
    "colab": {
     "base_uri": "https://localhost:8080/",
     "height": 221
    },
    "colab_type": "code",
    "id": "4XjXtdlA6AEo",
    "outputId": "837bf283-7342-4cf1-b23a-6767cfef0596"
   },
   "outputs": [
    {
     "name": "stdout",
     "output_type": "stream",
     "text": [
      "--2019-04-03 03:40:34--  http://lab.ndl.go.jp/dataset/hiragana73.zip\n",
      "Resolving lab.ndl.go.jp (lab.ndl.go.jp)... 202.32.173.150\n",
      "Connecting to lab.ndl.go.jp (lab.ndl.go.jp)|202.32.173.150|:80... connected.\n",
      "HTTP request sent, awaiting response... 301 Moved Permanently\n",
      "Location: https://lab.ndl.go.jp/dataset/hiragana73.zip [following]\n",
      "--2019-04-03 03:40:34--  https://lab.ndl.go.jp/dataset/hiragana73.zip\n",
      "Connecting to lab.ndl.go.jp (lab.ndl.go.jp)|202.32.173.150|:443... connected.\n",
      "HTTP request sent, awaiting response... 200 OK\n",
      "Length: 233312433 (223M) [application/zip]\n",
      "Saving to: ‘hiragana73.zip’\n",
      "\n",
      "hiragana73.zip      100%[===================>] 222.50M  13.2MB/s    in 19s     \n",
      "\n",
      "2019-04-03 03:40:56 (11.6 MB/s) - ‘hiragana73.zip’ saved [233312433/233312433]\n",
      "\n"
     ]
    }
   ],
   "source": [
    "!wget http://lab.ndl.go.jp/dataset/hiragana73.zip"
   ]
  },
  {
   "cell_type": "code",
   "execution_count": 6,
   "metadata": {
    "colab": {
     "base_uri": "https://localhost:8080/",
     "height": 119
    },
    "colab_type": "code",
    "id": "AnjfjvKJ9XE9",
    "outputId": "9c64fb65-582c-4858-eb3e-eab052c7df72",
    "scrolled": false
   },
   "outputs": [
    {
     "name": "stdout",
     "output_type": "stream",
     "text": [
      "total 186656\r\n",
      "drwxr-sr-x  5 root 2004      6144 Apr  2 08:59 \u001b[0m\u001b[01;34m.\u001b[0m/\r\n",
      "drwxr-sr-x 63 root 2004      6144 Apr  2 08:50 \u001b[01;34m..\u001b[0m/\r\n",
      "drwxr-sr-x  2 root 2004      6144 Apr  2 08:53 \u001b[01;34m.ipynb_checkpoints\u001b[0m/\r\n",
      "drwxr-sr-x  4 root 2004      6144 Apr  2 08:50 \u001b[01;34m.jupyter\u001b[0m/\r\n",
      "-rw-r--r--  1 root 2004    194624 Apr  2 08:57 hiragana.ipynb\r\n",
      "-rw-r--r--  1 root 2004 190912466 Nov  9  2016 hiragana73.7z\r\n",
      "-rw-r--r--  1 root 2004      2472 Apr  2 08:53 rename.sh\r\n",
      "drwxr-sr-x  3 root 2004      6144 Apr  2 08:50 \u001b[01;34msamples\u001b[0m/\r\n"
     ]
    }
   ],
   "source": [
    "!mv ./hiragana73.zip /home"
   ]
  },
  {
   "cell_type": "code",
   "execution_count": 9,
   "metadata": {},
   "outputs": [
    {
     "name": "stdout",
     "output_type": "stream",
     "text": [
      "Reading package lists... Done\n",
      "Building dependency tree       \n",
      "Reading state information... Done\n",
      "p7zip-full is already the newest version (9.20.1~dfsg.1-4.2ubuntu0.1).\n",
      "0 upgraded, 0 newly installed, 0 to remove and 55 not upgraded.\n"
     ]
    }
   ],
   "source": [
    "!cd /home\n",
    "!unzip hiragana73.zip > /dev/null"
   ]
  },
  {
   "cell_type": "code",
   "execution_count": 8,
   "metadata": {
    "colab": {},
    "colab_type": "code",
    "id": "tYkrLU3QGfio"
   },
   "outputs": [],
   "source": [
    "# フォルダのリネーム（命名がユニコードになっているので、自分のnotebookIDを入れる）\n",
    "!sh /mnt/notebooks/XXXX/rename.sh"
   ]
  },
  {
   "cell_type": "code",
   "execution_count": 18,
   "metadata": {},
   "outputs": [
    {
     "name": "stdout",
     "output_type": "stream",
     "text": [
      "/home/hiragana73\n"
     ]
    }
   ],
   "source": [
    "cd hiragana73"
   ]
  },
  {
   "cell_type": "code",
   "execution_count": 19,
   "metadata": {},
   "outputs": [
    {
     "name": "stdout",
     "output_type": "stream",
     "text": [
      "total 4676\r\n",
      "drwxr-xr-x 75 root root  4096 Apr  3 03:50 \u001b[0m\u001b[01;34m.\u001b[0m/\r\n",
      "drwxr-xr-x  1 root root    46 Apr  3 03:45 \u001b[01;34m..\u001b[0m/\r\n",
      "drwxr-xr-x  2 root root 45056 Sep  8  2016 \u001b[01;34m0\u001b[0m/\r\n",
      "drwxr-xr-x  2 root root 45056 Sep  8  2016 \u001b[01;34m1\u001b[0m/\r\n",
      "drwxr-xr-x  2 root root 40960 Sep  8  2016 \u001b[01;34m10\u001b[0m/\r\n",
      "drwxr-xr-x  2 root root 45056 Sep  8  2016 \u001b[01;34m11\u001b[0m/\r\n",
      "drwxr-xr-x  2 root root 40960 Sep  8  2016 \u001b[01;34m12\u001b[0m/\r\n",
      "drwxr-xr-x  2 root root 45056 Sep  8  2016 \u001b[01;34m13\u001b[0m/\r\n",
      "drwxr-xr-x  2 root root 40960 Sep  8  2016 \u001b[01;34m14\u001b[0m/\r\n",
      "drwxr-xr-x  2 root root 49152 Sep  8  2016 \u001b[01;34m15\u001b[0m/\r\n",
      "drwxr-xr-x  2 root root 40960 Sep  8  2016 \u001b[01;34m16\u001b[0m/\r\n",
      "drwxr-xr-x  2 root root 49152 Sep  8  2016 \u001b[01;34m17\u001b[0m/\r\n",
      "drwxr-xr-x  2 root root 40960 Sep  8  2016 \u001b[01;34m18\u001b[0m/\r\n",
      "drwxr-xr-x  2 root root 49152 Sep  8  2016 \u001b[01;34m19\u001b[0m/\r\n",
      "drwxr-xr-x  2 root root 45056 Sep  8  2016 \u001b[01;34m2\u001b[0m/\r\n",
      "drwxr-xr-x  2 root root 40960 Sep  8  2016 \u001b[01;34m20\u001b[0m/\r\n",
      "drwxr-xr-x  2 root root 45056 Sep  8  2016 \u001b[01;34m21\u001b[0m/\r\n",
      "drwxr-xr-x  2 root root 45056 Sep  8  2016 \u001b[01;34m22\u001b[0m/\r\n",
      "drwxr-xr-x  2 root root 49152 Sep  8  2016 \u001b[01;34m23\u001b[0m/\r\n",
      "drwxr-xr-x  2 root root 40960 Sep  8  2016 \u001b[01;34m24\u001b[0m/\r\n",
      "drwxr-xr-x  2 root root 49152 Sep  8  2016 \u001b[01;34m25\u001b[0m/\r\n",
      "drwxr-xr-x  2 root root 40960 Sep  8  2016 \u001b[01;34m26\u001b[0m/\r\n",
      "drwxr-xr-x  2 root root 40960 Sep  8  2016 \u001b[01;34m27\u001b[0m/\r\n",
      "drwxr-xr-x  2 root root 40960 Sep  8  2016 \u001b[01;34m28\u001b[0m/\r\n",
      "drwxr-xr-x  2 root root 45056 Sep  8  2016 \u001b[01;34m29\u001b[0m/\r\n",
      "drwxr-xr-x  2 root root 40960 Sep  8  2016 \u001b[01;34m3\u001b[0m/\r\n",
      "drwxr-xr-x  2 root root 40960 Sep  8  2016 \u001b[01;34m30\u001b[0m/\r\n",
      "drwxr-xr-x  2 root root 49152 Sep  8  2016 \u001b[01;34m31\u001b[0m/\r\n",
      "drwxr-xr-x  2 root root 45056 Sep  8  2016 \u001b[01;34m32\u001b[0m/\r\n",
      "drwxr-xr-x  2 root root 45056 Sep  8  2016 \u001b[01;34m33\u001b[0m/\r\n",
      "drwxr-xr-x  2 root root 45056 Sep  8  2016 \u001b[01;34m34\u001b[0m/\r\n",
      "drwxr-xr-x  2 root root 49152 Sep  8  2016 \u001b[01;34m35\u001b[0m/\r\n",
      "drwxr-xr-x  2 root root 49152 Sep  8  2016 \u001b[01;34m36\u001b[0m/\r\n",
      "drwxr-xr-x  2 root root 40960 Sep  8  2016 \u001b[01;34m37\u001b[0m/\r\n",
      "drwxr-xr-x  2 root root 45056 Sep  8  2016 \u001b[01;34m38\u001b[0m/\r\n",
      "drwxr-xr-x  2 root root 45056 Sep  8  2016 \u001b[01;34m39\u001b[0m/\r\n",
      "drwxr-xr-x  2 root root 49152 Sep  8  2016 \u001b[01;34m4\u001b[0m/\r\n",
      "drwxr-xr-x  2 root root 49152 Sep  8  2016 \u001b[01;34m40\u001b[0m/\r\n",
      "drwxr-xr-x  2 root root 40960 Sep  8  2016 \u001b[01;34m41\u001b[0m/\r\n",
      "drwxr-xr-x  2 root root 12288 Sep  8  2016 \u001b[01;34m42\u001b[0m/\r\n",
      "drwxr-xr-x  2 root root 40960 Sep  8  2016 \u001b[01;34m43\u001b[0m/\r\n",
      "drwxr-xr-x  2 root root 40960 Sep  8  2016 \u001b[01;34m44\u001b[0m/\r\n",
      "drwxr-xr-x  2 root root  8192 Sep  8  2016 \u001b[01;34m45\u001b[0m/\r\n",
      "drwxr-xr-x  2 root root 49152 Sep  8  2016 \u001b[01;34m46\u001b[0m/\r\n",
      "drwxr-xr-x  2 root root 45056 Sep  8  2016 \u001b[01;34m47\u001b[0m/\r\n",
      "drwxr-xr-x  2 root root  4096 Sep  8  2016 \u001b[01;34m48\u001b[0m/\r\n",
      "drwxr-xr-x  2 root root 40960 Sep  8  2016 \u001b[01;34m49\u001b[0m/\r\n",
      "drwxr-xr-x  2 root root 49152 Sep  8  2016 \u001b[01;34m5\u001b[0m/\r\n",
      "drwxr-xr-x  2 root root 40960 Sep  8  2016 \u001b[01;34m50\u001b[0m/\r\n",
      "drwxr-xr-x  2 root root 12288 Sep  8  2016 \u001b[01;34m51\u001b[0m/\r\n",
      "drwxr-xr-x  2 root root 45056 Sep  8  2016 \u001b[01;34m52\u001b[0m/\r\n",
      "drwxr-xr-x  2 root root 40960 Sep  8  2016 \u001b[01;34m53\u001b[0m/\r\n",
      "drwxr-xr-x  2 root root 12288 Sep  8  2016 \u001b[01;34m54\u001b[0m/\r\n",
      "drwxr-xr-x  2 root root 49152 Sep  8  2016 \u001b[01;34m55\u001b[0m/\r\n",
      "drwxr-xr-x  2 root root 45056 Sep  8  2016 \u001b[01;34m56\u001b[0m/\r\n",
      "drwxr-xr-x  2 root root 40960 Sep  8  2016 \u001b[01;34m57\u001b[0m/\r\n",
      "drwxr-xr-x  2 root root 49152 Sep  8  2016 \u001b[01;34m58\u001b[0m/\r\n",
      "drwxr-xr-x  2 root root 45056 Sep  8  2016 \u001b[01;34m59\u001b[0m/\r\n",
      "drwxr-xr-x  2 root root 45056 Sep  8  2016 \u001b[01;34m6\u001b[0m/\r\n",
      "drwxr-xr-x  2 root root 49152 Sep  8  2016 \u001b[01;34m60\u001b[0m/\r\n",
      "drwxr-xr-x  2 root root 49152 Sep  8  2016 \u001b[01;34m61\u001b[0m/\r\n",
      "drwxr-xr-x  2 root root 45056 Sep  8  2016 \u001b[01;34m62\u001b[0m/\r\n",
      "drwxr-xr-x  2 root root 40960 Sep  8  2016 \u001b[01;34m63\u001b[0m/\r\n",
      "drwxr-xr-x  2 root root 49152 Sep  8  2016 \u001b[01;34m64\u001b[0m/\r\n",
      "drwxr-xr-x  2 root root 45056 Sep  8  2016 \u001b[01;34m65\u001b[0m/\r\n",
      "drwxr-xr-x  2 root root 49152 Sep  8  2016 \u001b[01;34m66\u001b[0m/\r\n",
      "drwxr-xr-x  2 root root 40960 Sep  8  2016 \u001b[01;34m67\u001b[0m/\r\n",
      "drwxr-xr-x  2 root root 49152 Sep  8  2016 \u001b[01;34m68\u001b[0m/\r\n",
      "drwxr-xr-x  2 root root 40960 Sep  8  2016 \u001b[01;34m69\u001b[0m/\r\n",
      "drwxr-xr-x  2 root root 45056 Sep  8  2016 \u001b[01;34m7\u001b[0m/\r\n",
      "drwxr-xr-x  2 root root 40960 Sep  8  2016 \u001b[01;34m70\u001b[0m/\r\n",
      "drwxr-xr-x  2 root root 49152 Sep  8  2016 \u001b[01;34m71\u001b[0m/\r\n",
      "drwxr-xr-x  2 root root 49152 Sep  8  2016 \u001b[01;34m72\u001b[0m/\r\n",
      "drwxr-xr-x  2 root root 40960 Sep  8  2016 \u001b[01;34m8\u001b[0m/\r\n",
      "drwxr-xr-x  2 root root 49152 Sep  8  2016 \u001b[01;34m9\u001b[0m/\r\n"
     ]
    }
   ],
   "source": [
    "ls -al"
   ]
  },
  {
   "cell_type": "code",
   "execution_count": 20,
   "metadata": {
    "colab": {},
    "colab_type": "code",
    "id": "JlQM2dRulJ70"
   },
   "outputs": [],
   "source": [
    "# フォルダの一覧を取得する(hiragana73配下)\n",
    "import os\n",
    "path = \"./\"\n",
    "folder = os.listdir(path)"
   ]
  },
  {
   "cell_type": "markdown",
   "metadata": {},
   "source": [
    "### 前処理"
   ]
  },
  {
   "cell_type": "code",
   "execution_count": 22,
   "metadata": {
    "colab": {},
    "colab_type": "code",
    "id": "_E4V1Y0nkGMl"
   },
   "outputs": [],
   "source": [
    "import glob\n",
    "from PIL import Image\n",
    "import numpy as np\n",
    "import random\n",
    "image_size = 48\n",
    " \n",
    "X_train = []\n",
    "Y_train = []\n",
    "X_test = []\n",
    "Y_test = []\n",
    "for index, name in enumerate(folder):\n",
    "  \n",
    "    #フォルダの一覧をリストとして取得する\n",
    "    dir = \"./\" + name\n",
    "    files = glob.glob(dir + \"/*.png\")\n",
    "    random.shuffle(files)\n",
    "    \n",
    "    # 学習とテストで9:1のデータ割合に分ける\n",
    "    split_num = len(files)*0.8\n",
    "    num = 0\n",
    "    for i, file in enumerate(files):\n",
    "      image = Image.open(file)\n",
    "      image = image.convert(\"RGB\")\n",
    "      #image = image.convert('L')\n",
    "      image = image.resize((image_size, image_size))\n",
    "      data = np.asarray(image)\n",
    "      if split_num > num:\n",
    "        X_train.append(data)\n",
    "        Y_train.append(name)\n",
    "      else:\n",
    "        X_test.append(data)\n",
    "        Y_test.append(name)\n",
    "      num += 1\n",
    " \n",
    "X_train = np.array(X_train)\n",
    "Y_train = np.array(Y_train)\n",
    "X_test = np.array(X_test)\n",
    "Y_test = np.array(Y_test)"
   ]
  },
  {
   "cell_type": "code",
   "execution_count": 27,
   "metadata": {
    "colab": {
     "base_uri": "https://localhost:8080/",
     "height": 34
    },
    "colab_type": "code",
    "id": "TYdrudNokGO3",
    "outputId": "731db4bc-93b8-4986-8d08-e146018eeaa5"
   },
   "outputs": [
    {
     "data": {
      "text/plain": [
       "'41'"
      ]
     },
     "execution_count": 27,
     "metadata": {},
     "output_type": "execute_result"
    }
   ],
   "source": [
    "# ラベルと対象データを確認\n",
    "Y_test[1]"
   ]
  },
  {
   "cell_type": "code",
   "execution_count": 28,
   "metadata": {
    "colab": {
     "base_uri": "https://localhost:8080/",
     "height": 348
    },
    "colab_type": "code",
    "id": "kJ5hAk3PkGRJ",
    "outputId": "1f19dce7-fae1-48ef-8418-dc6857740144",
    "scrolled": true
   },
   "outputs": [
    {
     "data": {
      "image/png": "[encoded data removed]",
      "text/plain": [
       "<Figure size 432x288 with 1 Axes>"
      ]
     },
     "metadata": {
      "needs_background": "light"
     },
     "output_type": "display_data"
    }
   ],
   "source": [
    "import matplotlib.pyplot as plt\n",
    "im_list = np.asarray(X_train[1])\n",
    "plt.imshow(im_list)\n",
    "plt.show()"
   ]
  },
  {
   "cell_type": "code",
   "execution_count": 25,
   "metadata": {
    "colab": {
     "base_uri": "https://localhost:8080/",
     "height": 85
    },
    "colab_type": "code",
    "id": "GtIm26HrkGTT",
    "outputId": "01429081-78e9-4df6-8579-a3ec49b699b0"
   },
   "outputs": [
    {
     "name": "stdout",
     "output_type": "stream",
     "text": [
      "64027\n",
      "64027\n",
      "15973\n",
      "15973\n"
     ]
    }
   ],
   "source": [
    "# trainとtestがデータが分割されていることを確認する\n",
    "print(len(X_train))\n",
    "print(len(Y_train))\n",
    "print(len(X_test))\n",
    "print(len(Y_test))"
   ]
  },
  {
   "cell_type": "code",
   "execution_count": 29,
   "metadata": {
    "colab": {},
    "colab_type": "code",
    "id": "w3tYj4OWkGVf"
   },
   "outputs": [],
   "source": [
    "# 0-255の整数値を0〜1の小数に変換する(正規化)\n",
    "X_train = X_train.astype('float32')\n",
    "X_test = X_test.astype('float32')\n",
    "X_train /= 255\n",
    "X_test /= 255"
   ]
  },
  {
   "cell_type": "code",
   "execution_count": 30,
   "metadata": {
    "colab": {},
    "colab_type": "code",
    "id": "QHhIWAunkGXb"
   },
   "outputs": [
    {
     "name": "stderr",
     "output_type": "stream",
     "text": [
      "Using TensorFlow backend.\n"
     ]
    }
   ],
   "source": [
    "# one-hot vector形式に変換する\n",
    "from keras.utils import np_utils\n",
    "Y_train = np_utils.to_categorical(Y_train, 73)\n",
    "Y_test = np_utils.to_categorical(Y_test, 73)"
   ]
  },
  {
   "cell_type": "code",
   "execution_count": 152,
   "metadata": {
    "colab": {},
    "colab_type": "code",
    "id": "E71_NTsxkGZk"
   },
   "outputs": [],
   "source": [
    "# モデルの定義（別資料にて説明）\n",
    "from keras import layers\n",
    "from keras import models\n",
    "\n",
    "model = models.Sequential()\n",
    "model.add(layers.Conv2D(32, (3, 3), activation='relu',input_shape=(48, 48, 3)))\n",
    "model.add(layers.MaxPooling2D((2, 2)))\n",
    "model.add(layers.Dropout(0.2))\n",
    "model.add(layers.Conv2D(64, (3, 3), activation='relu'))\n",
    "model.add(layers.MaxPooling2D((2, 2)))\n",
    "model.add(layers.Dropout(0.2))\n",
    "model.add(layers.Conv2D(128, (3, 3), activation='relu'))\n",
    "model.add(layers.MaxPooling2D((2, 2)))\n",
    "model.add(layers.Dropout(0.2))\n",
    "model.add(layers.Conv2D(128, (3, 3), activation='relu'))\n",
    "model.add(layers.MaxPooling2D((2, 2)))\n",
    "model.add(layers.Dropout(0.2))\n",
    "model.add(layers.Flatten())\n",
    "model.add(layers.Dense(512, activation='relu'))\n",
    "model.add(layers.Dropout(0.2))\n",
    "model.add(layers.Dense(73, activation='softmax'))\n",
    "\n",
    "from keras import optimizers\n",
    "\n",
    "model.compile(loss='categorical_crossentropy',\n",
    "              optimizer=optimizers.RMSprop(lr=1e-4),\n",
    "              metrics=['acc'])"
   ]
  },
  {
   "cell_type": "code",
   "execution_count": 153,
   "metadata": {
    "colab": {},
    "colab_type": "code",
    "id": "blZPAa7GwzS_"
   },
   "outputs": [],
   "source": [
    "from keras import optimizers\n",
    "\n",
    "model.compile(loss='categorical_crossentropy',\n",
    "              optimizer=optimizers.RMSprop(lr=1e-4),\n",
    "              metrics=['acc'])"
   ]
  },
  {
   "cell_type": "code",
   "execution_count": 154,
   "metadata": {
    "colab": {
     "base_uri": "https://localhost:8080/",
     "height": 374
    },
    "colab_type": "code",
    "id": "m-z6PB8JkGbs",
    "outputId": "3640534b-5809-4ec7-8a06-b0b7ade38e0b"
   },
   "outputs": [
    {
     "name": "stdout",
     "output_type": "stream",
     "text": [
      "Train on 64027 samples, validate on 15973 samples\n",
      "Epoch 1/20\n",
      "64027/64027 [==============================] - 15s 241us/step - loss: 2.8192 - acc: 0.3901 - val_loss: 0.8293 - val_acc: 0.7909\n",
      "Epoch 2/20\n",
      "64027/64027 [==============================] - 14s 221us/step - loss: 0.4529 - acc: 0.8896 - val_loss: 0.3223 - val_acc: 0.9164\n",
      "Epoch 3/20\n",
      "64027/64027 [==============================] - 14s 218us/step - loss: 0.2353 - acc: 0.9413 - val_loss: 0.1948 - val_acc: 0.9472\n",
      "Epoch 4/20\n",
      "64027/64027 [==============================] - 14s 217us/step - loss: 0.1605 - acc: 0.9590 - val_loss: 0.1496 - val_acc: 0.9582\n",
      "Epoch 5/20\n",
      "64027/64027 [==============================] - 14s 221us/step - loss: 0.1218 - acc: 0.9680 - val_loss: 0.1214 - val_acc: 0.9691\n",
      "Epoch 6/20\n",
      "64027/64027 [==============================] - 14s 223us/step - loss: 0.0980 - acc: 0.9735 - val_loss: 0.1317 - val_acc: 0.9622\n",
      "Epoch 7/20\n",
      "64027/64027 [==============================] - 14s 218us/step - loss: 0.0820 - acc: 0.9771 - val_loss: 0.0900 - val_acc: 0.9748\n",
      "Epoch 8/20\n",
      "64027/64027 [==============================] - 14s 218us/step - loss: 0.0699 - acc: 0.9798 - val_loss: 0.0832 - val_acc: 0.9761\n",
      "Epoch 9/20\n",
      "64027/64027 [==============================] - 14s 218us/step - loss: 0.0597 - acc: 0.9822 - val_loss: 0.0822 - val_acc: 0.9776\n",
      "Epoch 10/20\n",
      "64027/64027 [==============================] - 14s 220us/step - loss: 0.0522 - acc: 0.9838 - val_loss: 0.1219 - val_acc: 0.9656\n",
      "Epoch 11/20\n",
      "64027/64027 [==============================] - 14s 217us/step - loss: 0.0467 - acc: 0.9861 - val_loss: 0.0864 - val_acc: 0.9740\n",
      "Epoch 12/20\n",
      "64027/64027 [==============================] - 14s 219us/step - loss: 0.0415 - acc: 0.9873 - val_loss: 0.0662 - val_acc: 0.9815\n",
      "Epoch 13/20\n",
      "64027/64027 [==============================] - 14s 218us/step - loss: 0.0375 - acc: 0.9885 - val_loss: 0.0648 - val_acc: 0.9827\n",
      "Epoch 14/20\n",
      "64027/64027 [==============================] - 14s 223us/step - loss: 0.0331 - acc: 0.9900 - val_loss: 0.0607 - val_acc: 0.9834\n",
      "Epoch 15/20\n",
      "64027/64027 [==============================] - 14s 219us/step - loss: 0.0299 - acc: 0.9910 - val_loss: 0.0573 - val_acc: 0.9853\n",
      "Epoch 16/20\n",
      "64027/64027 [==============================] - 14s 218us/step - loss: 0.0267 - acc: 0.9920 - val_loss: 0.0592 - val_acc: 0.9864\n",
      "Epoch 17/20\n",
      "64027/64027 [==============================] - 14s 218us/step - loss: 0.0247 - acc: 0.9925 - val_loss: 0.0578 - val_acc: 0.9855\n",
      "Epoch 18/20\n",
      "64027/64027 [==============================] - 14s 219us/step - loss: 0.0233 - acc: 0.9928 - val_loss: 0.0950 - val_acc: 0.9736\n",
      "Epoch 19/20\n",
      "64027/64027 [==============================] - 14s 218us/step - loss: 0.0209 - acc: 0.9935 - val_loss: 0.0593 - val_acc: 0.9851\n",
      "Epoch 20/20\n",
      "64027/64027 [==============================] - 14s 217us/step - loss: 0.0195 - acc: 0.9941 - val_loss: 0.0612 - val_acc: 0.9845\n"
     ]
    }
   ],
   "source": [
    "history = model.fit(X_train, Y_train,\n",
    "                    batch_size=128,\n",
    "                    epochs=20,\n",
    "                    verbose=1,\n",
    "                    validation_data=(X_test, Y_test))"
   ]
  },
  {
   "cell_type": "code",
   "execution_count": 155,
   "metadata": {
    "colab": {},
    "colab_type": "code",
    "id": "QDQmyO2kkGeA"
   },
   "outputs": [],
   "source": [
    "predict = model.predict(X_test)"
   ]
  },
  {
   "cell_type": "code",
   "execution_count": 156,
   "metadata": {
    "colab": {
     "base_uri": "https://localhost:8080/",
     "height": 34
    },
    "colab_type": "code",
    "id": "lwTzCBUKkGkf",
    "outputId": "3c464bfb-e601-46d6-fc4c-e0f5db02ea43"
   },
   "outputs": [
    {
     "data": {
      "text/plain": [
       "15973"
      ]
     },
     "execution_count": 156,
     "metadata": {},
     "output_type": "execute_result"
    }
   ],
   "source": [
    "len(predict)"
   ]
  },
  {
   "cell_type": "code",
   "execution_count": 157,
   "metadata": {
    "colab": {},
    "colab_type": "code",
    "id": "eT6iTnyg8Yx_"
   },
   "outputs": [],
   "source": [
    "hiragana_list = [\"あ\",\"い\",\"う\",\"え\",\"お\",\"か\",\"が\",\"き\",\"ぎ\",\"く\",\"ぐ\",\"け\",\"げ\",\"こ\",\"ご\",\"さ\",\"ざ\",\"し\",\"じ\",\"す\",\"ず\",\"せ\",\"ぜ\",\"そ\",\"ぞ\",\"た\",\"だ\",\"ち\",\"ぢ\",\"つ\",\"づ\",\"て\",\"で\",\"と\",\"ど\",\"な\",\"に\",\"ぬ\",\"ね\",\"の\",\"は\",\"ば\",\"ぱ\",\"ひ\",\"び\",\"ぴ\",\"ふ\",\"ぶ\",\"ぷ\",\"へ\",\"べ\",\"ぺ\",\"ほ\",\"ぼ\",\"ぽ\",\"ま\",\"み\",\"む\",\"め\",\"も\",\"や\",\"ゆ\",\"よ\",\"ら\",\"り\",\"る\",\"れ\",\"ろ\",\"わ\",\"ゐ\",\"ゑ\",\"を\",\"ん\"]"
   ]
  },
  {
   "cell_type": "code",
   "execution_count": 165,
   "metadata": {
    "colab": {
     "base_uri": "https://localhost:8080/",
     "height": 348
    },
    "colab_type": "code",
    "id": "3JG8bQTzkGgX",
    "outputId": "9aa7a01c-74ed-4079-d8e2-5e1300ccce61"
   },
   "outputs": [
    {
     "data": {
      "image/png": "[encoded data removed]",
      "text/plain": [
       "<Figure size 432x288 with 1 Axes>"
      ]
     },
     "metadata": {
      "needs_background": "light"
     },
     "output_type": "display_data"
    }
   ],
   "source": [
    "import matplotlib.pyplot as plt\n",
    "ind = 500\n",
    "im_list = np.asarray(X_test[ind])\n",
    "plt.imshow(im_list)\n",
    "plt.show()"
   ]
  },
  {
   "cell_type": "code",
   "execution_count": 166,
   "metadata": {
    "colab": {
     "base_uri": "https://localhost:8080/",
     "height": 34
    },
    "colab_type": "code",
    "id": "S6zqrK_E6zyA",
    "outputId": "96881e55-52f5-45dd-f65c-5648e2ea0716",
    "scrolled": false
   },
   "outputs": [
    {
     "data": {
      "text/plain": [
       "'び'"
      ]
     },
     "execution_count": 166,
     "metadata": {},
     "output_type": "execute_result"
    }
   ],
   "source": [
    "hiragana_list[predict[ind].tolist().index(max(predict[ind]))]"
   ]
  },
  {
   "cell_type": "code",
   "execution_count": 167,
   "metadata": {},
   "outputs": [],
   "source": [
    "#モデルの保存\n",
    "model.save('hiragana_model.h5', include_optimizer=False)"
   ]
  },
  {
   "cell_type": "code",
   "execution_count": 168,
   "metadata": {},
   "outputs": [
    {
     "name": "stdout",
     "output_type": "stream",
     "text": [
      "name: う\n",
      "score: 0.9992694\n"
     ]
    }
   ],
   "source": [
    "from keras.models import load_model\n",
    "import numpy as np\n",
    "from keras.preprocessing.image import img_to_array, load_img\n",
    "\n",
    "jpg_name = ''\n",
    "\n",
    "model=load_model('./hiragana_model.h5')\n",
    "\n",
    "img_path = ('/mnt/notebooks/1726693628713/test2.png')\n",
    "img = img_to_array(load_img(img_path, target_size=(48,48)))\n",
    "img_nad = img_to_array(img)/255\n",
    "img_nad = img_nad[None, ...]\n",
    "\n",
    "label=[\"あ\",\"い\",\"う\",\"え\",\"お\",\"か\",\"が\",\"き\",\"ぎ\",\"く\",\"ぐ\",\"け\",\"げ\",\"こ\",\"ご\",\"さ\",\"ざ\",\"し\",\"じ\",\"す\",\"ず\",\"せ\",\"ぜ\",\"そ\",\"ぞ\",\"た\",\"だ\",\"ち\",\"ぢ\",\"つ\",\"づ\",\"て\",\"で\",\"と\",\"ど\",\"な\",\"に\",\"ぬ\",\"ね\",\"の\",\"は\",\"ば\",\"ぱ\",\"ひ\",\"び\",\"ぴ\",\"ふ\",\"ぶ\",\"ぷ\",\"へ\",\"べ\",\"ぺ\",\"ほ\",\"ぼ\",\"ぽ\",\"ま\",\"み\",\"む\",\"め\",\"も\",\"や\",\"ゆ\",\"よ\",\"ら\",\"り\",\"る\",\"れ\",\"ろ\",\"わ\",\"ゐ\",\"ゑ\",\"を\",\"ん\"]\n",
    "pred = model.predict(img_nad, batch_size=1, verbose=0)\n",
    "score = np.max(pred)\n",
    "pred_label = label[np.argmax(pred[0])]\n",
    "print('name:',pred_label)\n",
    "print('score:',score)"
   ]
  },
  {
   "cell_type": "code",
   "execution_count": 169,
   "metadata": {},
   "outputs": [],
   "source": [
    "from keras.models import load_model\n",
    "import numpy as np\n",
    "from PIL import Image\n",
    "from keras.preprocessing.image import img_to_array\n",
    "from keras.applications.imagenet_utils import preprocess_input\n",
    "\n",
    "model=load_model('./hiragana_model.h5')\n",
    "\n",
    "def process_image(img):\n",
    "    img = Image.fromarray(img)\n",
    "    img = img.resize((48, 48)).convert('RGB')\n",
    "    \n",
    "    x = img_to_array(img)\n",
    "    x = np.expand_dims(x, axis=0)\n",
    "    x = preprocess_input(x, mode='tf')\n",
    "\n",
    "    label=[\"あ\",\"い\",\"う\",\"え\",\"お\",\"か\",\"が\",\"き\",\"ぎ\",\"く\",\"ぐ\",\"け\",\"げ\",\"こ\",\"ご\",\"さ\",\"ざ\",\"し\",\"じ\",\"す\",\"ず\",\"せ\",\"ぜ\",\"そ\",\"ぞ\",\"た\",\"だ\",\"ち\",\"ぢ\",\"つ\",\"づ\",\"て\",\"で\",\"と\",\"ど\",\"な\",\"に\",\"ぬ\",\"ね\",\"の\",\"は\",\"ば\",\"ぱ\",\"ひ\",\"び\",\"ぴ\",\"ふ\",\"ぶ\",\"ぷ\",\"へ\",\"べ\",\"ぺ\",\"ほ\",\"ぼ\",\"ぽ\",\"ま\",\"み\",\"む\",\"め\",\"も\",\"や\",\"ゆ\",\"よ\",\"ら\",\"り\",\"る\",\"れ\",\"ろ\",\"わ\",\"ゐ\",\"ゑ\",\"を\",\"ん\"]\n",
    "    pred = model.predict(x,verbose=0)[0]\n",
    "    print(pred)\n",
    "    result_with_labels = [{\"label\": label[i], \"probability\": float(score)} for i, score in enumerate(pred)]\n",
    "    result = {\"result\":sorted(result_with_labels, key=lambda x: x['probability'], reverse=True)[:5]}\n",
    "\n",
    "    return result\n",
    "\n",
    "def handler(iter, context):\n",
    "    for img in iter:\n",
    "        yield process_image(img)"
   ]
  },
  {
   "cell_type": "code",
   "execution_count": 151,
   "metadata": {},
   "outputs": [
    {
     "name": "stdout",
     "output_type": "stream",
     "text": [
      "[5.8706942e-06 7.0248650e-14 9.9991441e-01 2.4892513e-11 1.7532702e-13\n",
      " 2.7536926e-09 7.0744376e-11 3.5720226e-05 2.1854030e-06 1.5289663e-10\n",
      " 2.8969838e-10 6.6763028e-10 7.4450807e-11 2.7674163e-11 7.9709145e-13\n",
      " 1.9279916e-08 2.2351971e-07 1.8594258e-12 1.1560376e-12 5.4798249e-07\n",
      " 9.8601816e-10 3.3465945e-11 1.7971078e-14 2.9685077e-10 1.3097511e-14\n",
      " 3.9497860e-11 2.8631404e-17 3.5710293e-08 5.9397305e-12 6.5821073e-09\n",
      " 1.5674647e-11 6.0841692e-09 4.8416154e-10 2.8339075e-08 5.1627517e-12\n",
      " 4.0694349e-14 5.4605292e-16 3.2355881e-17 1.2255181e-15 9.2068141e-12\n",
      " 1.1919303e-14 4.4710047e-13 2.1833700e-17 2.2170084e-10 1.1708512e-10\n",
      " 3.7960433e-16 3.2995934e-13 5.4409560e-11 1.3002545e-15 3.0071929e-05\n",
      " 1.3289511e-07 1.2956125e-08 2.4132987e-12 9.7446975e-09 4.2357319e-11\n",
      " 3.0476586e-09 1.0830317e-10 1.0835523e-14 6.0948142e-11 1.1229265e-08\n",
      " 3.3313742e-07 1.5940022e-11 9.4498878e-14 8.8012625e-10 1.0075679e-05\n",
      " 4.9809223e-09 2.1743130e-11 2.2841131e-07 2.7267119e-10 4.3090314e-14\n",
      " 1.6374795e-12 1.3078883e-11 6.1145675e-09]\n"
     ]
    },
    {
     "data": {
      "text/plain": [
       "{'result': [{'label': 'う', 'probability': 0.9999144077301025},\n",
       "  {'label': 'き', 'probability': 3.572022615117021e-05},\n",
       "  {'label': 'へ', 'probability': 3.0071929359110072e-05},\n",
       "  {'label': 'り', 'probability': 1.0075678801513277e-05},\n",
       "  {'label': 'あ', 'probability': 5.870694167242618e-06}]}"
      ]
     },
     "execution_count": 151,
     "metadata": {},
     "output_type": "execute_result"
    }
   ],
   "source": [
    "#img = Image.open('./test.png')\n",
    "img = Image.open('/mnt/notebooks/1726693628713/test2.png')\n",
    "img = np.asarray(img)\n",
    "process_image(img)"
   ]
  },
  {
   "cell_type": "markdown",
   "metadata": {
    "colab_type": "text",
    "id": "Tz87rb_I81sc"
   },
   "source": [
    "## Imagegeneratorを使う場合"
   ]
  },
  {
   "cell_type": "code",
   "execution_count": 0,
   "metadata": {
    "colab": {},
    "colab_type": "code",
    "id": "oh0OEX3M8753"
   },
   "outputs": [],
   "source": [
    "from keras.preprocessing.image import ImageDataGenerator"
   ]
  },
  {
   "cell_type": "code",
   "execution_count": 0,
   "metadata": {
    "colab": {},
    "colab_type": "code",
    "id": "rHiTW3YV8-t6"
   },
   "outputs": [],
   "source": [
    "datagen = ImageDataGenerator(rescale=1./255,\n",
    "    #shear_range=0.1,\n",
    "    #zoom_range=0.2,\n",
    "    horizontal_flip=True,\n",
    "    validation_split=0.2) # set test split"
   ]
  },
  {
   "cell_type": "code",
   "execution_count": 0,
   "metadata": {
    "colab": {},
    "colab_type": "code",
    "id": "pd1e3eBB8-wh"
   },
   "outputs": [],
   "source": [
    "dir = 'hiragana73'\n",
    "train_generator = datagen.flow_from_directory(\n",
    "        dir,     # directory\n",
    "        target_size=(48, 48),     # input shape (resized to 150x150)\n",
    "        batch_size=20,\n",
    "        class_mode='categorical')    # categorical labels"
   ]
  },
  {
   "cell_type": "code",
   "execution_count": 0,
   "metadata": {
    "colab": {},
    "colab_type": "code",
    "id": "NBsxeDpW8-y4"
   },
   "outputs": [],
   "source": [
    "test_generator = datagen.flow_from_directory(\n",
    "    dir, # same directory as training data\n",
    "    target_size=(48, 48),\n",
    "    batch_size=20,\n",
    "    class_mode='categorical',\n",
    "    subset='validation') # set as validation data"
   ]
  },
  {
   "cell_type": "code",
   "execution_count": 0,
   "metadata": {
    "colab": {},
    "colab_type": "code",
    "id": "gnyjI_ZE9ngC"
   },
   "outputs": [],
   "source": [
    "from keras import layers\n",
    "from keras import models\n",
    "\n",
    "model = models.Sequential()\n",
    "model.add(layers.Conv2D(32, (3, 3), activation='relu',input_shape=(48, 48, 3)))\n",
    "model.add(layers.MaxPooling2D((2, 2)))\n",
    "model.add(layers.Dropout(0.2))\n",
    "model.add(layers.Conv2D(64, (3, 3), activation='relu'))\n",
    "model.add(layers.MaxPooling2D((2, 2)))\n",
    "model.add(layers.Dropout(0.2))\n",
    "model.add(layers.Conv2D(128, (3, 3), activation='relu'))\n",
    "model.add(layers.MaxPooling2D((2, 2)))\n",
    "model.add(layers.Dropout(0.2))\n",
    "model.add(layers.Conv2D(128, (3, 3), activation='relu'))\n",
    "model.add(layers.MaxPooling2D((2, 2)))\n",
    "model.add(layers.Dropout(0.2))\n",
    "model.add(layers.Flatten())\n",
    "model.add(layers.Dense(512, activation='relu'))\n",
    "model.add(layers.Dropout(0.2))\n",
    "model.add(layers.Dense(73, activation='softmax'))\n",
    "\n",
    "from keras import optimizers\n",
    "\n",
    "model.compile(loss='categorical_crossentropy',\n",
    "              optimizer=optimizers.RMSprop(lr=1e-4),\n",
    "              metrics=['acc'])"
   ]
  },
  {
   "cell_type": "code",
   "execution_count": 0,
   "metadata": {
    "colab": {},
    "colab_type": "code",
    "id": "m-VQKQVT9sce"
   },
   "outputs": [],
   "source": [
    "history = model.fit_generator(\n",
    "      train_generator,\n",
    "      steps_per_epoch=354,\n",
    "      epochs=20,\n",
    "      validation_data=test_generator,\n",
    "      validation_steps=56)"
   ]
  },
  {
   "cell_type": "code",
   "execution_count": 0,
   "metadata": {
    "colab": {},
    "colab_type": "code",
    "id": "GR6uSAyM9vQ8"
   },
   "outputs": [],
   "source": [
    "from keras.models import load_model\n",
    "from keras.preprocessing.image import ImageDataGenerator\n",
    "\n",
    "test_loss, test_acc = model.evaluate_generator(test_generator, steps=54)\n",
    "print('test loss:', test_loss)\n",
    "print('test acc:', test_acc)"
   ]
  },
  {
   "cell_type": "code",
   "execution_count": 0,
   "metadata": {
    "colab": {},
    "colab_type": "code",
    "id": "7YYik3hd9vV9"
   },
   "outputs": [],
   "source": []
  }
 ],
 "metadata": {
  "accelerator": "GPU",
  "colab": {
   "collapsed_sections": [],
   "name": "hiragana.ipynb",
   "provenance": [],
   "version": "0.3.2"
  },
  "kernelspec": {
   "display_name": "Python 3",
   "language": "python",
   "name": "python3"
  },
  "language_info": {
   "codemirror_mode": {
    "name": "ipython",
    "version": 3
   },
   "file_extension": ".py",
   "mimetype": "text/x-python",
   "name": "python",
   "nbconvert_exporter": "python",
   "pygments_lexer": "ipython3",
   "version": "3.6.6"
  }
 },
 "nbformat": 4,
 "nbformat_minor": 1
}

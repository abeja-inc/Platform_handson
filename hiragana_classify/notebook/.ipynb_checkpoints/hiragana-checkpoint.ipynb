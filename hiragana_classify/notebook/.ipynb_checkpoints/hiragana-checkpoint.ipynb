{
 "cells": [
  {
   "cell_type": "markdown",
   "metadata": {},
   "source": [
    "## ひらがな手書きの文字認識"
   ]
  },
  {
   "cell_type": "markdown",
   "metadata": {
    "colab_type": "text",
    "id": "L7RDLFhz57kP"
   },
   "source": [
    "### データのダウンロード（NDL LABからひらがなのデータ）\n",
    "#### XXXXXはNotebookID"
   ]
  },
  {
   "cell_type": "code",
   "execution_count": 1,
   "metadata": {},
   "outputs": [
    {
     "name": "stdout",
     "output_type": "stream",
     "text": [
      "[Errno 2] No such file or directory: '/mnt/notebooks/1728382888794/handson_kearas_hiragana'\n",
      "/mnt/notebooks/1728382888794/Platform_handson/hiragana_classify/notebook\n"
     ]
    }
   ],
   "source": [
    "cd /mnt/notebooks/1728382888794/handson_kearas_hiragana"
   ]
  },
  {
   "cell_type": "code",
   "execution_count": 8,
   "metadata": {
    "colab": {
     "base_uri": "https://localhost:8080/",
     "height": 221
    },
    "colab_type": "code",
    "id": "4XjXtdlA6AEo",
    "outputId": "837bf283-7342-4cf1-b23a-6767cfef0596"
   },
   "outputs": [
    {
     "name": "stdout",
     "output_type": "stream",
     "text": [
      "--2019-04-03 07:51:04--  http://lab.ndl.go.jp/dataset/hiragana73.zip\n",
      "Resolving lab.ndl.go.jp (lab.ndl.go.jp)... 202.32.173.150\n",
      "Connecting to lab.ndl.go.jp (lab.ndl.go.jp)|202.32.173.150|:80... connected.\n",
      "HTTP request sent, awaiting response... 301 Moved Permanently\n",
      "Location: https://lab.ndl.go.jp/dataset/hiragana73.zip [following]\n",
      "--2019-04-03 07:51:06--  https://lab.ndl.go.jp/dataset/hiragana73.zip\n",
      "Connecting to lab.ndl.go.jp (lab.ndl.go.jp)|202.32.173.150|:443... connected.\n",
      "HTTP request sent, awaiting response... 200 OK\n",
      "Length: 233312433 (223M) [application/zip]\n",
      "Saving to: ‘/home/data/hiragana73.zip’\n",
      "\n",
      "hiragana73.zip      100%[===================>] 222.50M  13.4MB/s    in 17s     \n",
      "\n",
      "2019-04-03 07:51:23 (12.8 MB/s) - ‘/home/data/hiragana73.zip’ saved [233312433/233312433]\n",
      "\n"
     ]
    }
   ],
   "source": [
    "# home配下にdataを配置する\n",
    "!wget http://lab.ndl.go.jp/dataset/hiragana73.zip -P /home/data"
   ]
  },
  {
   "cell_type": "code",
   "execution_count": 10,
   "metadata": {},
   "outputs": [],
   "source": [
    "!unzip /home/data/hiragana73.zip -d /home/data/ > /dev/null"
   ]
  },
  {
   "cell_type": "code",
   "execution_count": 31,
   "metadata": {
    "colab": {},
    "colab_type": "code",
    "id": "tYkrLU3QGfio",
    "scrolled": true
   },
   "outputs": [],
   "source": [
    "# フォルダのリネーム（命名がユニコードになっているので、indexに変換する）\n",
    "!sh ./tool/rename.sh"
   ]
  },
  {
   "cell_type": "code",
   "execution_count": 32,
   "metadata": {},
   "outputs": [
    {
     "name": "stdout",
     "output_type": "stream",
     "text": [
      "total 4676\r\n",
      "drwxr-xr-x 75 root root  4096 Apr  3 07:59 \u001b[0m\u001b[01;34m.\u001b[0m/\r\n",
      "drwxr-xr-x  3 root root    46 Apr  3 07:53 \u001b[01;34m..\u001b[0m/\r\n",
      "drwxr-xr-x  2 root root 45056 Sep  8  2016 \u001b[01;34m0\u001b[0m/\r\n",
      "drwxr-xr-x  2 root root 45056 Sep  8  2016 \u001b[01;34m1\u001b[0m/\r\n",
      "drwxr-xr-x  2 root root 40960 Sep  8  2016 \u001b[01;34m10\u001b[0m/\r\n",
      "drwxr-xr-x  2 root root 45056 Sep  8  2016 \u001b[01;34m11\u001b[0m/\r\n",
      "drwxr-xr-x  2 root root 40960 Sep  8  2016 \u001b[01;34m12\u001b[0m/\r\n",
      "drwxr-xr-x  2 root root 45056 Sep  8  2016 \u001b[01;34m13\u001b[0m/\r\n",
      "drwxr-xr-x  2 root root 40960 Sep  8  2016 \u001b[01;34m14\u001b[0m/\r\n",
      "drwxr-xr-x  2 root root 49152 Sep  8  2016 \u001b[01;34m15\u001b[0m/\r\n",
      "drwxr-xr-x  2 root root 40960 Sep  8  2016 \u001b[01;34m16\u001b[0m/\r\n",
      "drwxr-xr-x  2 root root 49152 Sep  8  2016 \u001b[01;34m17\u001b[0m/\r\n",
      "drwxr-xr-x  2 root root 40960 Sep  8  2016 \u001b[01;34m18\u001b[0m/\r\n",
      "drwxr-xr-x  2 root root 49152 Sep  8  2016 \u001b[01;34m19\u001b[0m/\r\n",
      "drwxr-xr-x  2 root root 45056 Sep  8  2016 \u001b[01;34m2\u001b[0m/\r\n",
      "drwxr-xr-x  2 root root 40960 Sep  8  2016 \u001b[01;34m20\u001b[0m/\r\n",
      "drwxr-xr-x  2 root root 45056 Sep  8  2016 \u001b[01;34m21\u001b[0m/\r\n",
      "drwxr-xr-x  2 root root 45056 Sep  8  2016 \u001b[01;34m22\u001b[0m/\r\n",
      "drwxr-xr-x  2 root root 49152 Sep  8  2016 \u001b[01;34m23\u001b[0m/\r\n",
      "drwxr-xr-x  2 root root 40960 Sep  8  2016 \u001b[01;34m24\u001b[0m/\r\n",
      "drwxr-xr-x  2 root root 49152 Sep  8  2016 \u001b[01;34m25\u001b[0m/\r\n",
      "drwxr-xr-x  2 root root 40960 Sep  8  2016 \u001b[01;34m26\u001b[0m/\r\n",
      "drwxr-xr-x  2 root root 40960 Sep  8  2016 \u001b[01;34m27\u001b[0m/\r\n",
      "drwxr-xr-x  2 root root 40960 Sep  8  2016 \u001b[01;34m28\u001b[0m/\r\n",
      "drwxr-xr-x  2 root root 45056 Sep  8  2016 \u001b[01;34m29\u001b[0m/\r\n",
      "drwxr-xr-x  2 root root 40960 Sep  8  2016 \u001b[01;34m3\u001b[0m/\r\n",
      "drwxr-xr-x  2 root root 40960 Sep  8  2016 \u001b[01;34m30\u001b[0m/\r\n",
      "drwxr-xr-x  2 root root 49152 Sep  8  2016 \u001b[01;34m31\u001b[0m/\r\n",
      "drwxr-xr-x  2 root root 45056 Sep  8  2016 \u001b[01;34m32\u001b[0m/\r\n",
      "drwxr-xr-x  2 root root 45056 Sep  8  2016 \u001b[01;34m33\u001b[0m/\r\n",
      "drwxr-xr-x  2 root root 45056 Sep  8  2016 \u001b[01;34m34\u001b[0m/\r\n",
      "drwxr-xr-x  2 root root 49152 Sep  8  2016 \u001b[01;34m35\u001b[0m/\r\n",
      "drwxr-xr-x  2 root root 49152 Sep  8  2016 \u001b[01;34m36\u001b[0m/\r\n",
      "drwxr-xr-x  2 root root 40960 Sep  8  2016 \u001b[01;34m37\u001b[0m/\r\n",
      "drwxr-xr-x  2 root root 45056 Sep  8  2016 \u001b[01;34m38\u001b[0m/\r\n",
      "drwxr-xr-x  2 root root 45056 Sep  8  2016 \u001b[01;34m39\u001b[0m/\r\n",
      "drwxr-xr-x  2 root root 49152 Sep  8  2016 \u001b[01;34m4\u001b[0m/\r\n",
      "drwxr-xr-x  2 root root 49152 Sep  8  2016 \u001b[01;34m40\u001b[0m/\r\n",
      "drwxr-xr-x  2 root root 40960 Sep  8  2016 \u001b[01;34m41\u001b[0m/\r\n",
      "drwxr-xr-x  2 root root 12288 Sep  8  2016 \u001b[01;34m42\u001b[0m/\r\n",
      "drwxr-xr-x  2 root root 40960 Sep  8  2016 \u001b[01;34m43\u001b[0m/\r\n",
      "drwxr-xr-x  2 root root 40960 Sep  8  2016 \u001b[01;34m44\u001b[0m/\r\n",
      "drwxr-xr-x  2 root root  8192 Sep  8  2016 \u001b[01;34m45\u001b[0m/\r\n",
      "drwxr-xr-x  2 root root 49152 Sep  8  2016 \u001b[01;34m46\u001b[0m/\r\n",
      "drwxr-xr-x  2 root root 45056 Sep  8  2016 \u001b[01;34m47\u001b[0m/\r\n",
      "drwxr-xr-x  2 root root  4096 Sep  8  2016 \u001b[01;34m48\u001b[0m/\r\n",
      "drwxr-xr-x  2 root root 40960 Sep  8  2016 \u001b[01;34m49\u001b[0m/\r\n",
      "drwxr-xr-x  2 root root 49152 Sep  8  2016 \u001b[01;34m5\u001b[0m/\r\n",
      "drwxr-xr-x  2 root root 40960 Sep  8  2016 \u001b[01;34m50\u001b[0m/\r\n",
      "drwxr-xr-x  2 root root 12288 Sep  8  2016 \u001b[01;34m51\u001b[0m/\r\n",
      "drwxr-xr-x  2 root root 45056 Sep  8  2016 \u001b[01;34m52\u001b[0m/\r\n",
      "drwxr-xr-x  2 root root 40960 Sep  8  2016 \u001b[01;34m53\u001b[0m/\r\n",
      "drwxr-xr-x  2 root root 12288 Sep  8  2016 \u001b[01;34m54\u001b[0m/\r\n",
      "drwxr-xr-x  2 root root 49152 Sep  8  2016 \u001b[01;34m55\u001b[0m/\r\n",
      "drwxr-xr-x  2 root root 45056 Sep  8  2016 \u001b[01;34m56\u001b[0m/\r\n",
      "drwxr-xr-x  2 root root 40960 Sep  8  2016 \u001b[01;34m57\u001b[0m/\r\n",
      "drwxr-xr-x  2 root root 49152 Sep  8  2016 \u001b[01;34m58\u001b[0m/\r\n",
      "drwxr-xr-x  2 root root 45056 Sep  8  2016 \u001b[01;34m59\u001b[0m/\r\n",
      "drwxr-xr-x  2 root root 45056 Sep  8  2016 \u001b[01;34m6\u001b[0m/\r\n",
      "drwxr-xr-x  2 root root 49152 Sep  8  2016 \u001b[01;34m60\u001b[0m/\r\n",
      "drwxr-xr-x  2 root root 49152 Sep  8  2016 \u001b[01;34m61\u001b[0m/\r\n",
      "drwxr-xr-x  2 root root 45056 Sep  8  2016 \u001b[01;34m62\u001b[0m/\r\n",
      "drwxr-xr-x  2 root root 40960 Sep  8  2016 \u001b[01;34m63\u001b[0m/\r\n",
      "drwxr-xr-x  2 root root 49152 Sep  8  2016 \u001b[01;34m64\u001b[0m/\r\n",
      "drwxr-xr-x  2 root root 45056 Sep  8  2016 \u001b[01;34m65\u001b[0m/\r\n",
      "drwxr-xr-x  2 root root 49152 Sep  8  2016 \u001b[01;34m66\u001b[0m/\r\n",
      "drwxr-xr-x  2 root root 40960 Sep  8  2016 \u001b[01;34m67\u001b[0m/\r\n",
      "drwxr-xr-x  2 root root 49152 Sep  8  2016 \u001b[01;34m68\u001b[0m/\r\n",
      "drwxr-xr-x  2 root root 40960 Sep  8  2016 \u001b[01;34m69\u001b[0m/\r\n",
      "drwxr-xr-x  2 root root 45056 Sep  8  2016 \u001b[01;34m7\u001b[0m/\r\n",
      "drwxr-xr-x  2 root root 40960 Sep  8  2016 \u001b[01;34m70\u001b[0m/\r\n",
      "drwxr-xr-x  2 root root 49152 Sep  8  2016 \u001b[01;34m71\u001b[0m/\r\n",
      "drwxr-xr-x  2 root root 49152 Sep  8  2016 \u001b[01;34m72\u001b[0m/\r\n",
      "drwxr-xr-x  2 root root 40960 Sep  8  2016 \u001b[01;34m8\u001b[0m/\r\n",
      "drwxr-xr-x  2 root root 49152 Sep  8  2016 \u001b[01;34m9\u001b[0m/\r\n"
     ]
    }
   ],
   "source": [
    "ls -al /home/data/hiragana73"
   ]
  },
  {
   "cell_type": "code",
   "execution_count": 33,
   "metadata": {
    "colab": {},
    "colab_type": "code",
    "id": "JlQM2dRulJ70"
   },
   "outputs": [],
   "source": [
    "# フォルダの一覧を取得する(hiragana73配下)\n",
    "import os\n",
    "path = \"/home/data/hiragana73/\"\n",
    "folder = os.listdir(path)"
   ]
  },
  {
   "cell_type": "markdown",
   "metadata": {},
   "source": [
    "### 前処理"
   ]
  },
  {
   "cell_type": "code",
   "execution_count": 38,
   "metadata": {
    "colab": {},
    "colab_type": "code",
    "id": "_E4V1Y0nkGMl"
   },
   "outputs": [],
   "source": [
    "import glob\n",
    "from PIL import Image\n",
    "import numpy as np\n",
    "import random\n",
    "image_size = 48\n",
    " \n",
    "X_train = []\n",
    "Y_train = []\n",
    "X_test = []\n",
    "Y_test = []\n",
    "for index, name in enumerate(folder):\n",
    "  \n",
    "    #フォルダの一覧をリストとして取得する\n",
    "    dir = path + name\n",
    "    files = glob.glob(dir + \"/*.png\")\n",
    "    random.shuffle(files)\n",
    "    \n",
    "    # 学習とテストで9:1のデータ割合に分ける\n",
    "    split_num = len(files)*0.8\n",
    "    num = 0\n",
    "    for i, file in enumerate(files):\n",
    "      image = Image.open(file)\n",
    "      image = image.convert(\"RGB\")\n",
    "      #image = image.convert('L')\n",
    "      image = image.resize((image_size, image_size))\n",
    "      data = np.asarray(image)\n",
    "      if split_num > num:\n",
    "        X_train.append(data)\n",
    "        Y_train.append(name)\n",
    "      else:\n",
    "        X_test.append(data)\n",
    "        Y_test.append(name)\n",
    "      num += 1\n",
    " \n",
    "X_train = np.array(X_train)\n",
    "Y_train = np.array(Y_train)\n",
    "X_test = np.array(X_test)\n",
    "Y_test = np.array(Y_test)"
   ]
  },
  {
   "cell_type": "code",
   "execution_count": 39,
   "metadata": {
    "colab": {
     "base_uri": "https://localhost:8080/",
     "height": 34
    },
    "colab_type": "code",
    "id": "TYdrudNokGO3",
    "outputId": "731db4bc-93b8-4986-8d08-e146018eeaa5"
   },
   "outputs": [
    {
     "data": {
      "text/plain": [
       "'41'"
      ]
     },
     "execution_count": 39,
     "metadata": {},
     "output_type": "execute_result"
    }
   ],
   "source": [
    "# ラベルと対象データを確認\n",
    "Y_test[1]"
   ]
  },
  {
   "cell_type": "code",
   "execution_count": 41,
   "metadata": {
    "colab": {
     "base_uri": "https://localhost:8080/",
     "height": 348
    },
    "colab_type": "code",
    "id": "kJ5hAk3PkGRJ",
    "outputId": "1f19dce7-fae1-48ef-8418-dc6857740144",
    "scrolled": true
   },
   "outputs": [
    {
     "data": {
      "image/png": "[encoded data removed]",
      "text/plain": [
       "<Figure size 432x288 with 1 Axes>"
      ]
     },
     "metadata": {
      "needs_background": "light"
     },
     "output_type": "display_data"
    }
   ],
   "source": [
    "import matplotlib.pyplot as plt\n",
    "im_list = np.asarray(X_train[1])\n",
    "plt.imshow(im_list)\n",
    "plt.show()"
   ]
  },
  {
   "cell_type": "code",
   "execution_count": 42,
   "metadata": {
    "colab": {
     "base_uri": "https://localhost:8080/",
     "height": 85
    },
    "colab_type": "code",
    "id": "GtIm26HrkGTT",
    "outputId": "01429081-78e9-4df6-8579-a3ec49b699b0"
   },
   "outputs": [
    {
     "name": "stdout",
     "output_type": "stream",
     "text": [
      "64027\n",
      "64027\n",
      "15973\n",
      "15973\n"
     ]
    }
   ],
   "source": [
    "# trainとtestがデータが分割されていることを確認する\n",
    "print(len(X_train))\n",
    "print(len(Y_train))\n",
    "print(len(X_test))\n",
    "print(len(Y_test))"
   ]
  },
  {
   "cell_type": "code",
   "execution_count": 43,
   "metadata": {
    "colab": {},
    "colab_type": "code",
    "id": "w3tYj4OWkGVf"
   },
   "outputs": [],
   "source": [
    "# 0-255の整数値を0〜1の小数に変換する(正規化)\n",
    "X_train = X_train.astype('float32')\n",
    "X_test = X_test.astype('float32')\n",
    "X_train /= 255\n",
    "X_test /= 255"
   ]
  },
  {
   "cell_type": "code",
   "execution_count": 44,
   "metadata": {
    "colab": {},
    "colab_type": "code",
    "id": "QHhIWAunkGXb"
   },
   "outputs": [
    {
     "name": "stderr",
     "output_type": "stream",
     "text": [
      "Using TensorFlow backend.\n"
     ]
    }
   ],
   "source": [
    "# one-hot vector形式に変換する\n",
    "from keras.utils import np_utils\n",
    "Y_train = np_utils.to_categorical(Y_train, 73)\n",
    "Y_test = np_utils.to_categorical(Y_test, 73)"
   ]
  },
  {
   "cell_type": "code",
   "execution_count": 45,
   "metadata": {
    "colab": {},
    "colab_type": "code",
    "id": "E71_NTsxkGZk"
   },
   "outputs": [],
   "source": [
    "# モデルの定義（別資料にて説明）\n",
    "from keras import layers\n",
    "from keras import models\n",
    "\n",
    "model = models.Sequential()\n",
    "model.add(layers.Conv2D(32, (3, 3), activation='relu',input_shape=(48, 48, 3)))\n",
    "model.add(layers.MaxPooling2D((2, 2)))\n",
    "model.add(layers.Dropout(0.2))\n",
    "model.add(layers.Conv2D(64, (3, 3), activation='relu'))\n",
    "model.add(layers.MaxPooling2D((2, 2)))\n",
    "model.add(layers.Dropout(0.2))\n",
    "model.add(layers.Conv2D(128, (3, 3), activation='relu'))\n",
    "model.add(layers.MaxPooling2D((2, 2)))\n",
    "model.add(layers.Dropout(0.2))\n",
    "model.add(layers.Conv2D(128, (3, 3), activation='relu'))\n",
    "model.add(layers.MaxPooling2D((2, 2)))\n",
    "model.add(layers.Dropout(0.2))\n",
    "model.add(layers.Flatten())\n",
    "model.add(layers.Dense(512, activation='relu'))\n",
    "model.add(layers.Dropout(0.2))\n",
    "model.add(layers.Dense(73, activation='softmax'))\n"
   ]
  },
  {
   "cell_type": "code",
   "execution_count": 46,
   "metadata": {
    "colab": {},
    "colab_type": "code",
    "id": "blZPAa7GwzS_"
   },
   "outputs": [],
   "source": [
    "from keras import optimizers\n",
    "\n",
    "model.compile(loss='categorical_crossentropy',\n",
    "              optimizer=optimizers.RMSprop(lr=1e-4),\n",
    "              metrics=['acc'])"
   ]
  },
  {
   "cell_type": "code",
   "execution_count": 47,
   "metadata": {
    "colab": {
     "base_uri": "https://localhost:8080/",
     "height": 374
    },
    "colab_type": "code",
    "id": "m-z6PB8JkGbs",
    "outputId": "3640534b-5809-4ec7-8a06-b0b7ade38e0b"
   },
   "outputs": [
    {
     "name": "stdout",
     "output_type": "stream",
     "text": [
      "Train on 64027 samples, validate on 15973 samples\n",
      "Epoch 1/20\n",
      "64027/64027 [==============================] - 17s 264us/step - loss: 4.1953 - acc: 0.0318 - val_loss: 3.8048 - val_acc: 0.1216\n",
      "Epoch 2/20\n",
      "64027/64027 [==============================] - 14s 222us/step - loss: 2.4787 - acc: 0.3513 - val_loss: 0.9501 - val_acc: 0.8062\n",
      "Epoch 3/20\n",
      "64027/64027 [==============================] - 14s 226us/step - loss: 0.9530 - acc: 0.7321 - val_loss: 0.3617 - val_acc: 0.9170\n",
      "Epoch 4/20\n",
      "64027/64027 [==============================] - 14s 226us/step - loss: 0.5201 - acc: 0.8549 - val_loss: 0.2349 - val_acc: 0.9430\n",
      "Epoch 5/20\n",
      "64027/64027 [==============================] - 14s 226us/step - loss: 0.3608 - acc: 0.8984 - val_loss: 0.1750 - val_acc: 0.9545\n",
      "Epoch 6/20\n",
      "64027/64027 [==============================] - 14s 226us/step - loss: 0.2716 - acc: 0.9230 - val_loss: 0.1340 - val_acc: 0.9644\n",
      "Epoch 7/20\n",
      "64027/64027 [==============================] - 15s 229us/step - loss: 0.2209 - acc: 0.9374 - val_loss: 0.1135 - val_acc: 0.9688\n",
      "Epoch 8/20\n",
      "64027/64027 [==============================] - 14s 223us/step - loss: 0.1861 - acc: 0.9466 - val_loss: 0.0977 - val_acc: 0.9720\n",
      "Epoch 9/20\n",
      "64027/64027 [==============================] - 14s 223us/step - loss: 0.1620 - acc: 0.9541 - val_loss: 0.0924 - val_acc: 0.9726\n",
      "Epoch 10/20\n",
      "64027/64027 [==============================] - 14s 223us/step - loss: 0.1445 - acc: 0.9581 - val_loss: 0.0839 - val_acc: 0.9766\n",
      "Epoch 11/20\n",
      "64027/64027 [==============================] - 14s 225us/step - loss: 0.1271 - acc: 0.9630 - val_loss: 0.0793 - val_acc: 0.9775\n",
      "Epoch 12/20\n",
      "64027/64027 [==============================] - 14s 226us/step - loss: 0.1199 - acc: 0.9645 - val_loss: 0.0717 - val_acc: 0.9791\n",
      "Epoch 13/20\n",
      "64027/64027 [==============================] - 14s 224us/step - loss: 0.1115 - acc: 0.9672 - val_loss: 0.0680 - val_acc: 0.9797\n",
      "Epoch 14/20\n",
      "64027/64027 [==============================] - 14s 223us/step - loss: 0.1010 - acc: 0.9694 - val_loss: 0.0657 - val_acc: 0.9807\n",
      "Epoch 15/20\n",
      "64027/64027 [==============================] - 14s 223us/step - loss: 0.0938 - acc: 0.9714 - val_loss: 0.0617 - val_acc: 0.9813\n",
      "Epoch 16/20\n",
      "64027/64027 [==============================] - 14s 223us/step - loss: 0.0884 - acc: 0.9730 - val_loss: 0.0611 - val_acc: 0.9812\n",
      "Epoch 17/20\n",
      "64027/64027 [==============================] - 14s 223us/step - loss: 0.0866 - acc: 0.9737 - val_loss: 0.0606 - val_acc: 0.9816\n",
      "Epoch 18/20\n",
      "64027/64027 [==============================] - 14s 223us/step - loss: 0.0797 - acc: 0.9751 - val_loss: 0.0555 - val_acc: 0.9831\n",
      "Epoch 19/20\n",
      "64027/64027 [==============================] - 14s 226us/step - loss: 0.0754 - acc: 0.9765 - val_loss: 0.0523 - val_acc: 0.9833\n",
      "Epoch 20/20\n",
      "64027/64027 [==============================] - 14s 223us/step - loss: 0.0710 - acc: 0.9779 - val_loss: 0.0545 - val_acc: 0.9827\n"
     ]
    }
   ],
   "source": [
    "history = model.fit(X_train, Y_train,\n",
    "                    batch_size=128,\n",
    "                    epochs=20,\n",
    "                    verbose=1,\n",
    "                    validation_data=(X_test, Y_test))"
   ]
  },
  {
   "cell_type": "code",
   "execution_count": 48,
   "metadata": {
    "colab": {},
    "colab_type": "code",
    "id": "QDQmyO2kkGeA"
   },
   "outputs": [],
   "source": [
    "predict = model.predict(X_test)"
   ]
  },
  {
   "cell_type": "code",
   "execution_count": 49,
   "metadata": {
    "colab": {
     "base_uri": "https://localhost:8080/",
     "height": 34
    },
    "colab_type": "code",
    "id": "lwTzCBUKkGkf",
    "outputId": "3c464bfb-e601-46d6-fc4c-e0f5db02ea43"
   },
   "outputs": [
    {
     "data": {
      "text/plain": [
       "15973"
      ]
     },
     "execution_count": 49,
     "metadata": {},
     "output_type": "execute_result"
    }
   ],
   "source": [
    "len(predict)"
   ]
  },
  {
   "cell_type": "code",
   "execution_count": 56,
   "metadata": {
    "colab": {},
    "colab_type": "code",
    "id": "eT6iTnyg8Yx_"
   },
   "outputs": [],
   "source": [
    "# ラベルの設定\n",
    "label = [\"あ\",\"い\",\"う\",\"え\",\"お\",\"か\",\"が\",\"き\",\"ぎ\",\"く\",\"ぐ\",\"け\",\"げ\",\"こ\",\"ご\",\"さ\",\"ざ\",\"し\",\"じ\",\"す\",\"ず\",\"せ\",\"ぜ\",\"そ\",\"ぞ\",\"た\",\"だ\",\"ち\",\"ぢ\",\"つ\",\"づ\",\"て\",\"で\",\"と\",\"ど\",\"な\",\"に\",\"ぬ\",\"ね\",\"の\",\"は\",\"ば\",\"ぱ\",\"ひ\",\"び\",\"ぴ\",\"ふ\",\"ぶ\",\"ぷ\",\"へ\",\"べ\",\"ぺ\",\"ほ\",\"ぼ\",\"ぽ\",\"ま\",\"み\",\"む\",\"め\",\"も\",\"や\",\"ゆ\",\"よ\",\"ら\",\"り\",\"る\",\"れ\",\"ろ\",\"わ\",\"ゐ\",\"ゑ\",\"を\",\"ん\"]"
   ]
  },
  {
   "cell_type": "code",
   "execution_count": 57,
   "metadata": {
    "colab": {
     "base_uri": "https://localhost:8080/",
     "height": 348
    },
    "colab_type": "code",
    "id": "3JG8bQTzkGgX",
    "outputId": "9aa7a01c-74ed-4079-d8e2-5e1300ccce61"
   },
   "outputs": [
    {
     "data": {
      "image/png": "[encoded data removed]",
      "text/plain": [
       "<Figure size 432x288 with 1 Axes>"
      ]
     },
     "metadata": {
      "needs_background": "light"
     },
     "output_type": "display_data"
    }
   ],
   "source": [
    "import matplotlib.pyplot as plt\n",
    "ind = 500\n",
    "im_list = np.asarray(X_test[ind])\n",
    "plt.imshow(im_list)\n",
    "plt.show()"
   ]
  },
  {
   "cell_type": "code",
   "execution_count": 58,
   "metadata": {
    "colab": {
     "base_uri": "https://localhost:8080/",
     "height": 34
    },
    "colab_type": "code",
    "id": "S6zqrK_E6zyA",
    "outputId": "96881e55-52f5-45dd-f65c-5648e2ea0716",
    "scrolled": false
   },
   "outputs": [
    {
     "data": {
      "text/plain": [
       "'ぴ'"
      ]
     },
     "execution_count": 58,
     "metadata": {},
     "output_type": "execute_result"
    }
   ],
   "source": [
    "label[predict[ind].tolist().index(max(predict[ind]))]"
   ]
  },
  {
   "cell_type": "code",
   "execution_count": 53,
   "metadata": {},
   "outputs": [],
   "source": [
    "#モデルの保存\n",
    "model.save('./model/hiragana_model.h5', include_optimizer=False)"
   ]
  },
  {
   "cell_type": "code",
   "execution_count": 59,
   "metadata": {},
   "outputs": [
    {
     "name": "stdout",
     "output_type": "stream",
     "text": [
      "name: う\n",
      "score: 0.9896354\n"
     ]
    }
   ],
   "source": [
    "from keras.models import load_model\n",
    "import numpy as np\n",
    "from keras.preprocessing.image import img_to_array, load_img\n",
    "\n",
    "jpg_name = ''\n",
    "\n",
    "model=load_model('./model/hiragana_model.h5')\n",
    "\n",
    "img_path = ('./sample/test2.png')\n",
    "img = img_to_array(load_img(img_path, target_size=(48,48)))\n",
    "img_nad = img_to_array(img)/255\n",
    "img_nad = img_nad[None, ...]\n",
    "\n",
    "label=[\"あ\",\"い\",\"う\",\"え\",\"お\",\"か\",\"が\",\"き\",\"ぎ\",\"く\",\"ぐ\",\"け\",\"げ\",\"こ\",\"ご\",\"さ\",\"ざ\",\"し\",\"じ\",\"す\",\"ず\",\"せ\",\"ぜ\",\"そ\",\"ぞ\",\"た\",\"だ\",\"ち\",\"ぢ\",\"つ\",\"づ\",\"て\",\"で\",\"と\",\"ど\",\"な\",\"に\",\"ぬ\",\"ね\",\"の\",\"は\",\"ば\",\"ぱ\",\"ひ\",\"び\",\"ぴ\",\"ふ\",\"ぶ\",\"ぷ\",\"へ\",\"べ\",\"ぺ\",\"ほ\",\"ぼ\",\"ぽ\",\"ま\",\"み\",\"む\",\"め\",\"も\",\"や\",\"ゆ\",\"よ\",\"ら\",\"り\",\"る\",\"れ\",\"ろ\",\"わ\",\"ゐ\",\"ゑ\",\"を\",\"ん\"]\n",
    "pred = model.predict(img_nad, batch_size=1, verbose=0)\n",
    "score = np.max(pred)\n",
    "pred_label = label[np.argmax(pred[0])]\n",
    "print('name:',pred_label)\n",
    "print('score:',score)"
   ]
  },
  {
   "cell_type": "code",
   "execution_count": 61,
   "metadata": {},
   "outputs": [],
   "source": [
    "# HTTPサーバに組みこむ際のサンプルコード\n",
    "from keras.models import load_model\n",
    "import numpy as np\n",
    "from PIL import Image\n",
    "from keras.preprocessing.image import img_to_array\n",
    "from keras.applications.imagenet_utils import preprocess_input\n",
    "\n",
    "model=load_model('./model/hiragana_model.h5')\n",
    "\n",
    "def process_image(img):\n",
    "    img = Image.fromarray(img)\n",
    "    img = img.resize((48, 48)).convert('RGB')\n",
    "    \n",
    "    x = img_to_array(img)\n",
    "    x = np.expand_dims(x, axis=0)\n",
    "    x = preprocess_input(x, mode='tf')\n",
    "\n",
    "    label=[\"あ\",\"い\",\"う\",\"え\",\"お\",\"か\",\"が\",\"き\",\"ぎ\",\"く\",\"ぐ\",\"け\",\"げ\",\"こ\",\"ご\",\"さ\",\"ざ\",\"し\",\"じ\",\"す\",\"ず\",\"せ\",\"ぜ\",\"そ\",\"ぞ\",\"た\",\"だ\",\"ち\",\"ぢ\",\"つ\",\"づ\",\"て\",\"で\",\"と\",\"ど\",\"な\",\"に\",\"ぬ\",\"ね\",\"の\",\"は\",\"ば\",\"ぱ\",\"ひ\",\"び\",\"ぴ\",\"ふ\",\"ぶ\",\"ぷ\",\"へ\",\"べ\",\"ぺ\",\"ほ\",\"ぼ\",\"ぽ\",\"ま\",\"み\",\"む\",\"め\",\"も\",\"や\",\"ゆ\",\"よ\",\"ら\",\"り\",\"る\",\"れ\",\"ろ\",\"わ\",\"ゐ\",\"ゑ\",\"を\",\"ん\"]\n",
    "    pred = model.predict(x,verbose=0)[0]\n",
    "    print(pred)\n",
    "    result_with_labels = [{\"label\": label[i], \"probability\": float(score)} for i, score in enumerate(pred)]\n",
    "    result = {\"result\":sorted(result_with_labels, key=lambda x: x['probability'], reverse=True)[:5]}\n",
    "\n",
    "    return result\n",
    "\n",
    "def handler(iter, context):\n",
    "    for img in iter:\n",
    "        yield process_image(img)"
   ]
  },
  {
   "cell_type": "code",
   "execution_count": 63,
   "metadata": {
    "scrolled": true
   },
   "outputs": [
    {
     "name": "stdout",
     "output_type": "stream",
     "text": [
      "[1.10572553e-03 6.97208263e-12 5.21133079e-05 8.26719582e-01\n",
      " 1.41317796e-04 2.79349273e-08 8.11138656e-10 2.52556958e-04\n",
      " 1.41254141e-05 9.81395033e-07 3.72704645e-10 1.80922610e-09\n",
      " 7.31702719e-12 7.87495719e-06 1.17356045e-08 9.46054133e-05\n",
      " 7.27103838e-07 1.60089527e-07 5.17898657e-09 1.16698866e-05\n",
      " 1.51640478e-08 2.80392882e-08 1.91368019e-10 2.21630587e-04\n",
      " 3.87441048e-08 1.19788595e-07 3.75549009e-10 3.16346704e-04\n",
      " 2.91408742e-06 2.72040950e-08 9.35331723e-09 2.48741380e-05\n",
      " 4.71099715e-10 2.42561164e-05 1.56601033e-07 3.60219674e-05\n",
      " 8.66869314e-08 9.55218198e-08 2.74295735e-06 6.65197106e-08\n",
      " 4.93710149e-06 2.41662747e-07 7.89434240e-10 4.86109180e-08\n",
      " 6.23298257e-09 3.47346717e-13 5.82619458e-02 6.48265814e-06\n",
      " 4.30752289e-06 1.59429206e-07 2.57916940e-06 1.09179004e-08\n",
      " 6.78212746e-06 3.88355751e-04 1.13040005e-06 7.68680824e-03\n",
      " 1.43031881e-04 2.30919017e-09 2.36082627e-07 1.29238088e-02\n",
      " 1.45430690e-08 2.39193181e-08 2.19568057e-04 6.31577615e-03\n",
      " 6.68988196e-06 8.21412876e-02 5.88252753e-08 6.87169086e-05\n",
      " 2.16140947e-07 3.64888037e-05 2.63208128e-03 4.80738054e-05\n",
      " 6.90854067e-05]\n"
     ]
    },
    {
     "data": {
      "text/plain": [
       "{'result': [{'label': 'え', 'probability': 0.8267195820808411},\n",
       "  {'label': 'る', 'probability': 0.08214128762483597},\n",
       "  {'label': 'ふ', 'probability': 0.058261945843696594},\n",
       "  {'label': 'も', 'probability': 0.01292380876839161},\n",
       "  {'label': 'ま', 'probability': 0.007686808239668608}]}"
      ]
     },
     "execution_count": 63,
     "metadata": {},
     "output_type": "execute_result"
    }
   ],
   "source": [
    "#img = Image.open('./test.png')\n",
    "img = Image.open('./sample/test4.png')\n",
    "img = np.asarray(img)\n",
    "process_image(img)"
   ]
  },
  {
   "cell_type": "code",
   "execution_count": 64,
   "metadata": {},
   "outputs": [
    {
     "name": "stdout",
     "output_type": "stream",
     "text": [
      "Get:1 http://security.ubuntu.com/ubuntu xenial-security InRelease [109 kB]\n",
      "Get:2 http://archive.ubuntu.com/ubuntu xenial InRelease [247 kB]               \n",
      "Get:3 http://security.ubuntu.com/ubuntu xenial-security/universe Sources [128 kB]\n",
      "Get:4 http://archive.ubuntu.com/ubuntu xenial-updates InRelease [109 kB]       \n",
      "Get:5 http://security.ubuntu.com/ubuntu xenial-security/main amd64 Packages [814 kB]\n",
      "Get:6 http://archive.ubuntu.com/ubuntu xenial-backports InRelease [107 kB]     \n",
      "Get:7 http://archive.ubuntu.com/ubuntu xenial/universe Sources [9802 kB]       \n",
      "Get:8 http://security.ubuntu.com/ubuntu xenial-security/restricted amd64 Packages [12.7 kB]\n",
      "Get:9 http://security.ubuntu.com/ubuntu xenial-security/universe amd64 Packages [550 kB]\n",
      "Get:10 http://security.ubuntu.com/ubuntu xenial-security/multiverse amd64 Packages [6117 B]\n",
      "Get:11 http://ppa.launchpad.net/deadsnakes/ppa/ubuntu xenial InRelease [18.0 kB]\n",
      "Get:12 http://ppa.launchpad.net/deadsnakes/ppa/ubuntu xenial/main amd64 Packages [32.7 kB]\n",
      "Get:13 http://archive.ubuntu.com/ubuntu xenial/main amd64 Packages [1558 kB]\n",
      "Get:14 http://archive.ubuntu.com/ubuntu xenial/restricted amd64 Packages [14.1 kB]\n",
      "Get:15 http://archive.ubuntu.com/ubuntu xenial/universe amd64 Packages [9827 kB]\n",
      "Get:16 https://packagecloud.io/abeja/stable/ubuntu xenial InRelease [23.3 kB]\n",
      "Get:17 http://archive.ubuntu.com/ubuntu xenial/multiverse amd64 Packages [176 kB]\n",
      "Get:18 http://archive.ubuntu.com/ubuntu xenial-updates/universe Sources [319 kB]\n",
      "Get:19 http://archive.ubuntu.com/ubuntu xenial-updates/main amd64 Packages [1210 kB]\n",
      "Get:20 https://packagecloud.io/abeja/stable/ubuntu xenial/main amd64 Packages [1050 B]\n",
      "Get:21 http://archive.ubuntu.com/ubuntu xenial-updates/restricted amd64 Packages [13.1 kB]\n",
      "Get:22 http://archive.ubuntu.com/ubuntu xenial-updates/universe amd64 Packages [960 kB]\n",
      "Get:23 http://archive.ubuntu.com/ubuntu xenial-updates/multiverse amd64 Packages [19.1 kB]\n",
      "Get:24 http://archive.ubuntu.com/ubuntu xenial-backports/main amd64 Packages [7942 B]\n",
      "Get:25 http://archive.ubuntu.com/ubuntu xenial-backports/universe amd64 Packages [8532 B]\n",
      "Fetched 26.1 MB in 5s (4852 kB/s)                          \n",
      "Reading package lists... Done\n",
      "Reading package lists... Done\n",
      "Building dependency tree       \n",
      "Reading state information... Done\n",
      "The following NEW packages will be installed:\n",
      "  zip\n",
      "0 upgraded, 1 newly installed, 0 to remove and 55 not upgraded.\n",
      "Need to get 158 kB of archives.\n",
      "After this operation, 587 kB of additional disk space will be used.\n",
      "Get:1 http://archive.ubuntu.com/ubuntu xenial/main amd64 zip amd64 3.0-11 [158 kB]\n",
      "Fetched 158 kB in 2s (61.1 kB/s)     \n",
      "debconf: delaying package configuration, since apt-utils is not installed\n",
      "Selecting previously unselected package zip.\n",
      "(Reading database ... 43785 files and directories currently installed.)\n",
      "Preparing to unpack .../archives/zip_3.0-11_amd64.deb ...\n",
      "Unpacking zip (3.0-11) ...\n",
      "Processing triggers for man-db (2.7.5-1) ...\n",
      "Setting up zip (3.0-11) ...\n"
     ]
    }
   ],
   "source": [
    "!apt-get update\n",
    "!apt-get install zip"
   ]
  },
  {
   "cell_type": "markdown",
   "metadata": {},
   "source": [
    "この後、modelフォルダに存在するh5ファイルとmain.pyを圧縮し\n",
    "ABEJA Platform上にアップロードすることで、HTTPサーバとして活用可能"
   ]
  },
  {
   "cell_type": "markdown",
   "metadata": {
    "colab_type": "text",
    "id": "Tz87rb_I81sc"
   },
   "source": [
    "## Imagegeneratorを使う場合(参考程度に記載)"
   ]
  },
  {
   "cell_type": "code",
   "execution_count": 0,
   "metadata": {
    "colab": {},
    "colab_type": "code",
    "id": "oh0OEX3M8753"
   },
   "outputs": [],
   "source": [
    "from keras.preprocessing.image import ImageDataGenerator"
   ]
  },
  {
   "cell_type": "code",
   "execution_count": 0,
   "metadata": {
    "colab": {},
    "colab_type": "code",
    "id": "rHiTW3YV8-t6"
   },
   "outputs": [],
   "source": [
    "datagen = ImageDataGenerator(rescale=1./255,\n",
    "    #shear_range=0.1,\n",
    "    #zoom_range=0.2,\n",
    "    horizontal_flip=True,\n",
    "    validation_split=0.2) # set test split"
   ]
  },
  {
   "cell_type": "code",
   "execution_count": 0,
   "metadata": {
    "colab": {},
    "colab_type": "code",
    "id": "pd1e3eBB8-wh"
   },
   "outputs": [],
   "source": [
    "dir = 'hiragana73'\n",
    "train_generator = datagen.flow_from_directory(\n",
    "        dir,     # directory\n",
    "        target_size=(48, 48),     # input shape (resized to 150x150)\n",
    "        batch_size=20,\n",
    "        class_mode='categorical')    # categorical labels"
   ]
  },
  {
   "cell_type": "code",
   "execution_count": 0,
   "metadata": {
    "colab": {},
    "colab_type": "code",
    "id": "NBsxeDpW8-y4"
   },
   "outputs": [],
   "source": [
    "test_generator = datagen.flow_from_directory(\n",
    "    dir, # same directory as training data\n",
    "    target_size=(48, 48),\n",
    "    batch_size=20,\n",
    "    class_mode='categorical',\n",
    "    subset='validation') # set as validation data"
   ]
  },
  {
   "cell_type": "code",
   "execution_count": 0,
   "metadata": {
    "colab": {},
    "colab_type": "code",
    "id": "gnyjI_ZE9ngC"
   },
   "outputs": [],
   "source": [
    "from keras import layers\n",
    "from keras import models\n",
    "\n",
    "model = models.Sequential()\n",
    "model.add(layers.Conv2D(32, (3, 3), activation='relu',input_shape=(48, 48, 3)))\n",
    "model.add(layers.MaxPooling2D((2, 2)))\n",
    "model.add(layers.Dropout(0.2))\n",
    "model.add(layers.Conv2D(64, (3, 3), activation='relu'))\n",
    "model.add(layers.MaxPooling2D((2, 2)))\n",
    "model.add(layers.Dropout(0.2))\n",
    "model.add(layers.Conv2D(128, (3, 3), activation='relu'))\n",
    "model.add(layers.MaxPooling2D((2, 2)))\n",
    "model.add(layers.Dropout(0.2))\n",
    "model.add(layers.Conv2D(128, (3, 3), activation='relu'))\n",
    "model.add(layers.MaxPooling2D((2, 2)))\n",
    "model.add(layers.Dropout(0.2))\n",
    "model.add(layers.Flatten())\n",
    "model.add(layers.Dense(512, activation='relu'))\n",
    "model.add(layers.Dropout(0.2))\n",
    "model.add(layers.Dense(73, activation='softmax'))\n",
    "\n",
    "from keras import optimizers\n",
    "\n",
    "model.compile(loss='categorical_crossentropy',\n",
    "              optimizer=optimizers.RMSprop(lr=1e-4),\n",
    "              metrics=['acc'])"
   ]
  },
  {
   "cell_type": "code",
   "execution_count": 0,
   "metadata": {
    "colab": {},
    "colab_type": "code",
    "id": "m-VQKQVT9sce"
   },
   "outputs": [],
   "source": [
    "history = model.fit_generator(\n",
    "      train_generator,\n",
    "      steps_per_epoch=354,\n",
    "      epochs=20,\n",
    "      validation_data=test_generator,\n",
    "      validation_steps=56)"
   ]
  },
  {
   "cell_type": "code",
   "execution_count": 0,
   "metadata": {
    "colab": {},
    "colab_type": "code",
    "id": "GR6uSAyM9vQ8"
   },
   "outputs": [],
   "source": [
    "from keras.models import load_model\n",
    "from keras.preprocessing.image import ImageDataGenerator\n",
    "\n",
    "test_loss, test_acc = model.evaluate_generator(test_generator, steps=54)\n",
    "print('test loss:', test_loss)\n",
    "print('test acc:', test_acc)"
   ]
  },
  {
   "cell_type": "code",
   "execution_count": 0,
   "metadata": {
    "colab": {},
    "colab_type": "code",
    "id": "7YYik3hd9vV9"
   },
   "outputs": [],
   "source": []
  }
 ],
 "metadata": {
  "accelerator": "GPU",
  "colab": {
   "collapsed_sections": [],
   "name": "hiragana.ipynb",
   "provenance": [],
   "version": "0.3.2"
  },
  "kernelspec": {
   "display_name": "Python 3",
   "language": "python",
   "name": "python3"
  },
  "language_info": {
   "codemirror_mode": {
    "name": "ipython",
    "version": 3
   },
   "file_extension": ".py",
   "mimetype": "text/x-python",
   "name": "python",
   "nbconvert_exporter": "python",
   "pygments_lexer": "ipython3",
   "version": "3.6.6"
  }
 },
 "nbformat": 4,
 "nbformat_minor": 1
}

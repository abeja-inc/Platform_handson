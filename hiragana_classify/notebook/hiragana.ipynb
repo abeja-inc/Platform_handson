{
 "cells": [
  {
   "cell_type": "markdown",
   "metadata": {},
   "source": [
    "## ひらがな手書きの文字認識"
   ]
  },
  {
   "cell_type": "markdown",
   "metadata": {
    "colab_type": "text",
    "id": "L7RDLFhz57kP"
   },
   "source": [
    "### データのダウンロード（NDL LABからひらがなのデータ）"
   ]
  },
  {
   "cell_type": "code",
   "execution_count": 1,
   "metadata": {},
   "outputs": [],
   "source": [
    "%matplotlib inline"
   ]
  },
  {
   "cell_type": "code",
   "execution_count": 2,
   "metadata": {},
   "outputs": [
    {
     "name": "stdout",
     "output_type": "stream",
     "text": [
      "/mnt/notebooks/1736464579666/Platform_handson/hiragana_classify\n"
     ]
    }
   ],
   "source": [
    "notebook_id = %env TRAINING_NOTEBOOK_ID\n",
    "%cd '/mnt/notebooks/{notebook_id}/Platform_handson/hiragana_classify'"
   ]
  },
  {
   "cell_type": "code",
   "execution_count": 4,
   "metadata": {
    "colab": {
     "base_uri": "https://localhost:8080/",
     "height": 221
    },
    "colab_type": "code",
    "id": "4XjXtdlA6AEo",
    "outputId": "837bf283-7342-4cf1-b23a-6767cfef0596"
   },
   "outputs": [
    {
     "name": "stdout",
     "output_type": "stream",
     "text": [
      "--2019-04-13 12:49:49--  http://lab.ndl.go.jp/dataset/hiragana73.zip\n",
      "Resolving lab.ndl.go.jp (lab.ndl.go.jp)... 202.32.173.150\n",
      "Connecting to lab.ndl.go.jp (lab.ndl.go.jp)|202.32.173.150|:80... connected.\n",
      "HTTP request sent, awaiting response... 301 Moved Permanently\n",
      "Location: https://lab.ndl.go.jp/dataset/hiragana73.zip [following]\n",
      "--2019-04-13 12:49:49--  https://lab.ndl.go.jp/dataset/hiragana73.zip\n",
      "Connecting to lab.ndl.go.jp (lab.ndl.go.jp)|202.32.173.150|:443... connected.\n",
      "HTTP request sent, awaiting response... 200 OK\n",
      "Length: 233312433 (223M) [application/zip]\n",
      "Saving to: ‘/home/data/hiragana73.zip’\n",
      "\n",
      "hiragana73.zip      100%[===================>] 222.50M  13.6MB/s    in 17s     \n",
      "\n",
      "2019-04-13 12:50:06 (12.7 MB/s) - ‘/home/data/hiragana73.zip’ saved [233312433/233312433]\n",
      "\n"
     ]
    }
   ],
   "source": [
    "# home配下にdataを配置する\n",
    "!wget http://lab.ndl.go.jp/dataset/hiragana73.zip -P /home/data"
   ]
  },
  {
   "cell_type": "code",
   "execution_count": 5,
   "metadata": {},
   "outputs": [],
   "source": [
    "!unzip -o -q /home/data/hiragana73.zip -d /home/data/"
   ]
  },
  {
   "cell_type": "code",
   "execution_count": 6,
   "metadata": {
    "colab": {},
    "colab_type": "code",
    "id": "tYkrLU3QGfio",
    "scrolled": true
   },
   "outputs": [],
   "source": [
    "# フォルダのリネーム（命名がユニコードになっているので、indexに変換する）\n",
    "!sh ./tool/rename.sh"
   ]
  },
  {
   "cell_type": "code",
   "execution_count": 7,
   "metadata": {},
   "outputs": [
    {
     "name": "stdout",
     "output_type": "stream",
     "text": [
      "total 4676\r\n",
      "drwxr-xr-x 75 root root  4096 Apr 13 12:50 \u001b[0m\u001b[01;34m.\u001b[0m/\r\n",
      "drwxr-xr-x  3 root root    46 Apr 13 12:50 \u001b[01;34m..\u001b[0m/\r\n",
      "drwxr-xr-x  2 root root 45056 Sep  8  2016 \u001b[01;34m0\u001b[0m/\r\n",
      "drwxr-xr-x  2 root root 45056 Sep  8  2016 \u001b[01;34m1\u001b[0m/\r\n",
      "drwxr-xr-x  2 root root 40960 Sep  8  2016 \u001b[01;34m10\u001b[0m/\r\n",
      "drwxr-xr-x  2 root root 45056 Sep  8  2016 \u001b[01;34m11\u001b[0m/\r\n",
      "drwxr-xr-x  2 root root 40960 Sep  8  2016 \u001b[01;34m12\u001b[0m/\r\n",
      "drwxr-xr-x  2 root root 45056 Sep  8  2016 \u001b[01;34m13\u001b[0m/\r\n",
      "drwxr-xr-x  2 root root 40960 Sep  8  2016 \u001b[01;34m14\u001b[0m/\r\n",
      "drwxr-xr-x  2 root root 49152 Sep  8  2016 \u001b[01;34m15\u001b[0m/\r\n",
      "drwxr-xr-x  2 root root 40960 Sep  8  2016 \u001b[01;34m16\u001b[0m/\r\n",
      "drwxr-xr-x  2 root root 49152 Sep  8  2016 \u001b[01;34m17\u001b[0m/\r\n",
      "drwxr-xr-x  2 root root 40960 Sep  8  2016 \u001b[01;34m18\u001b[0m/\r\n",
      "drwxr-xr-x  2 root root 49152 Sep  8  2016 \u001b[01;34m19\u001b[0m/\r\n",
      "drwxr-xr-x  2 root root 45056 Sep  8  2016 \u001b[01;34m2\u001b[0m/\r\n",
      "drwxr-xr-x  2 root root 40960 Sep  8  2016 \u001b[01;34m20\u001b[0m/\r\n",
      "drwxr-xr-x  2 root root 45056 Sep  8  2016 \u001b[01;34m21\u001b[0m/\r\n",
      "drwxr-xr-x  2 root root 45056 Sep  8  2016 \u001b[01;34m22\u001b[0m/\r\n",
      "drwxr-xr-x  2 root root 49152 Sep  8  2016 \u001b[01;34m23\u001b[0m/\r\n",
      "drwxr-xr-x  2 root root 40960 Sep  8  2016 \u001b[01;34m24\u001b[0m/\r\n",
      "drwxr-xr-x  2 root root 49152 Sep  8  2016 \u001b[01;34m25\u001b[0m/\r\n",
      "drwxr-xr-x  2 root root 40960 Sep  8  2016 \u001b[01;34m26\u001b[0m/\r\n",
      "drwxr-xr-x  2 root root 40960 Sep  8  2016 \u001b[01;34m27\u001b[0m/\r\n",
      "drwxr-xr-x  2 root root 40960 Sep  8  2016 \u001b[01;34m28\u001b[0m/\r\n",
      "drwxr-xr-x  2 root root 45056 Sep  8  2016 \u001b[01;34m29\u001b[0m/\r\n",
      "drwxr-xr-x  2 root root 40960 Sep  8  2016 \u001b[01;34m3\u001b[0m/\r\n",
      "drwxr-xr-x  2 root root 40960 Sep  8  2016 \u001b[01;34m30\u001b[0m/\r\n",
      "drwxr-xr-x  2 root root 49152 Sep  8  2016 \u001b[01;34m31\u001b[0m/\r\n",
      "drwxr-xr-x  2 root root 45056 Sep  8  2016 \u001b[01;34m32\u001b[0m/\r\n",
      "drwxr-xr-x  2 root root 45056 Sep  8  2016 \u001b[01;34m33\u001b[0m/\r\n",
      "drwxr-xr-x  2 root root 45056 Sep  8  2016 \u001b[01;34m34\u001b[0m/\r\n",
      "drwxr-xr-x  2 root root 49152 Sep  8  2016 \u001b[01;34m35\u001b[0m/\r\n",
      "drwxr-xr-x  2 root root 49152 Sep  8  2016 \u001b[01;34m36\u001b[0m/\r\n",
      "drwxr-xr-x  2 root root 40960 Sep  8  2016 \u001b[01;34m37\u001b[0m/\r\n",
      "drwxr-xr-x  2 root root 45056 Sep  8  2016 \u001b[01;34m38\u001b[0m/\r\n",
      "drwxr-xr-x  2 root root 45056 Sep  8  2016 \u001b[01;34m39\u001b[0m/\r\n",
      "drwxr-xr-x  2 root root 49152 Sep  8  2016 \u001b[01;34m4\u001b[0m/\r\n",
      "drwxr-xr-x  2 root root 49152 Sep  8  2016 \u001b[01;34m40\u001b[0m/\r\n",
      "drwxr-xr-x  2 root root 40960 Sep  8  2016 \u001b[01;34m41\u001b[0m/\r\n",
      "drwxr-xr-x  2 root root 12288 Sep  8  2016 \u001b[01;34m42\u001b[0m/\r\n",
      "drwxr-xr-x  2 root root 40960 Sep  8  2016 \u001b[01;34m43\u001b[0m/\r\n",
      "drwxr-xr-x  2 root root 40960 Sep  8  2016 \u001b[01;34m44\u001b[0m/\r\n",
      "drwxr-xr-x  2 root root  8192 Sep  8  2016 \u001b[01;34m45\u001b[0m/\r\n",
      "drwxr-xr-x  2 root root 49152 Sep  8  2016 \u001b[01;34m46\u001b[0m/\r\n",
      "drwxr-xr-x  2 root root 45056 Sep  8  2016 \u001b[01;34m47\u001b[0m/\r\n",
      "drwxr-xr-x  2 root root  4096 Sep  8  2016 \u001b[01;34m48\u001b[0m/\r\n",
      "drwxr-xr-x  2 root root 40960 Sep  8  2016 \u001b[01;34m49\u001b[0m/\r\n",
      "drwxr-xr-x  2 root root 49152 Sep  8  2016 \u001b[01;34m5\u001b[0m/\r\n",
      "drwxr-xr-x  2 root root 40960 Sep  8  2016 \u001b[01;34m50\u001b[0m/\r\n",
      "drwxr-xr-x  2 root root 12288 Sep  8  2016 \u001b[01;34m51\u001b[0m/\r\n",
      "drwxr-xr-x  2 root root 45056 Sep  8  2016 \u001b[01;34m52\u001b[0m/\r\n",
      "drwxr-xr-x  2 root root 40960 Sep  8  2016 \u001b[01;34m53\u001b[0m/\r\n",
      "drwxr-xr-x  2 root root 12288 Sep  8  2016 \u001b[01;34m54\u001b[0m/\r\n",
      "drwxr-xr-x  2 root root 49152 Sep  8  2016 \u001b[01;34m55\u001b[0m/\r\n",
      "drwxr-xr-x  2 root root 45056 Sep  8  2016 \u001b[01;34m56\u001b[0m/\r\n",
      "drwxr-xr-x  2 root root 40960 Sep  8  2016 \u001b[01;34m57\u001b[0m/\r\n",
      "drwxr-xr-x  2 root root 49152 Sep  8  2016 \u001b[01;34m58\u001b[0m/\r\n",
      "drwxr-xr-x  2 root root 45056 Sep  8  2016 \u001b[01;34m59\u001b[0m/\r\n",
      "drwxr-xr-x  2 root root 45056 Sep  8  2016 \u001b[01;34m6\u001b[0m/\r\n",
      "drwxr-xr-x  2 root root 49152 Sep  8  2016 \u001b[01;34m60\u001b[0m/\r\n",
      "drwxr-xr-x  2 root root 49152 Sep  8  2016 \u001b[01;34m61\u001b[0m/\r\n",
      "drwxr-xr-x  2 root root 45056 Sep  8  2016 \u001b[01;34m62\u001b[0m/\r\n",
      "drwxr-xr-x  2 root root 40960 Sep  8  2016 \u001b[01;34m63\u001b[0m/\r\n",
      "drwxr-xr-x  2 root root 49152 Sep  8  2016 \u001b[01;34m64\u001b[0m/\r\n",
      "drwxr-xr-x  2 root root 45056 Sep  8  2016 \u001b[01;34m65\u001b[0m/\r\n",
      "drwxr-xr-x  2 root root 49152 Sep  8  2016 \u001b[01;34m66\u001b[0m/\r\n",
      "drwxr-xr-x  2 root root 40960 Sep  8  2016 \u001b[01;34m67\u001b[0m/\r\n",
      "drwxr-xr-x  2 root root 49152 Sep  8  2016 \u001b[01;34m68\u001b[0m/\r\n",
      "drwxr-xr-x  2 root root 40960 Sep  8  2016 \u001b[01;34m69\u001b[0m/\r\n",
      "drwxr-xr-x  2 root root 45056 Sep  8  2016 \u001b[01;34m7\u001b[0m/\r\n",
      "drwxr-xr-x  2 root root 40960 Sep  8  2016 \u001b[01;34m70\u001b[0m/\r\n",
      "drwxr-xr-x  2 root root 49152 Sep  8  2016 \u001b[01;34m71\u001b[0m/\r\n",
      "drwxr-xr-x  2 root root 49152 Sep  8  2016 \u001b[01;34m72\u001b[0m/\r\n",
      "drwxr-xr-x  2 root root 40960 Sep  8  2016 \u001b[01;34m8\u001b[0m/\r\n",
      "drwxr-xr-x  2 root root 49152 Sep  8  2016 \u001b[01;34m9\u001b[0m/\r\n"
     ]
    }
   ],
   "source": [
    "ls -al /home/data/hiragana73"
   ]
  },
  {
   "cell_type": "code",
   "execution_count": 8,
   "metadata": {
    "colab": {},
    "colab_type": "code",
    "id": "JlQM2dRulJ70"
   },
   "outputs": [],
   "source": [
    "# フォルダの一覧を取得する(hiragana73配下)\n",
    "import os\n",
    "path = \"/home/data/hiragana73/\"\n",
    "folder = os.listdir(path)"
   ]
  },
  {
   "cell_type": "markdown",
   "metadata": {},
   "source": [
    "### 前処理"
   ]
  },
  {
   "cell_type": "code",
   "execution_count": 9,
   "metadata": {
    "colab": {},
    "colab_type": "code",
    "id": "_E4V1Y0nkGMl"
   },
   "outputs": [
    {
     "data": {
      "application/vnd.jupyter.widget-view+json": {
       "model_id": "b148668d9b2d466b89dc7b33f1372f58",
       "version_major": 2,
       "version_minor": 0
      },
      "text/plain": [
       "HBox(children=(IntProgress(value=0, max=73), HTML(value='')))"
      ]
     },
     "metadata": {},
     "output_type": "display_data"
    },
    {
     "name": "stdout",
     "output_type": "stream",
     "text": [
      "\n"
     ]
    }
   ],
   "source": [
    "import glob\n",
    "from tqdm import tqdm_notebook as tqdm\n",
    "from PIL import Image\n",
    "import numpy as np\n",
    "import random\n",
    "image_size = 48\n",
    " \n",
    "X_train = []\n",
    "Y_train = []\n",
    "X_test = []\n",
    "Y_test = []\n",
    "for index, name in tqdm(enumerate(folder), total=len(folder)):\n",
    "  \n",
    "    #フォルダの一覧をリストとして取得する\n",
    "    dir = path + name\n",
    "    files = glob.glob(dir + \"/*.png\")\n",
    "    random.shuffle(files)\n",
    "    \n",
    "    # 学習とテストで 8:2 のデータ割合に分ける\n",
    "    split_num = len(files)*0.8\n",
    "    num = 0\n",
    "    for i, file in enumerate(files):\n",
    "      image = Image.open(file)\n",
    "      image = image.convert(\"RGB\")\n",
    "      #image = image.convert('L')\n",
    "      image = image.resize((image_size, image_size))\n",
    "      data = np.asarray(image)\n",
    "      if split_num > num:\n",
    "        X_train.append(data)\n",
    "        Y_train.append(name)\n",
    "      else:\n",
    "        X_test.append(data)\n",
    "        Y_test.append(name)\n",
    "      num += 1\n",
    " \n",
    "X_train = np.array(X_train)\n",
    "Y_train = np.array(Y_train)\n",
    "X_test = np.array(X_test)\n",
    "Y_test = np.array(Y_test)"
   ]
  },
  {
   "cell_type": "code",
   "execution_count": 10,
   "metadata": {
    "colab": {
     "base_uri": "https://localhost:8080/",
     "height": 34
    },
    "colab_type": "code",
    "id": "TYdrudNokGO3",
    "outputId": "731db4bc-93b8-4986-8d08-e146018eeaa5"
   },
   "outputs": [
    {
     "data": {
      "text/plain": [
       "'41'"
      ]
     },
     "execution_count": 10,
     "metadata": {},
     "output_type": "execute_result"
    }
   ],
   "source": [
    "# ラベルと対象データを確認\n",
    "Y_test[1]"
   ]
  },
  {
   "cell_type": "code",
   "execution_count": 11,
   "metadata": {
    "colab": {
     "base_uri": "https://localhost:8080/",
     "height": 348
    },
    "colab_type": "code",
    "id": "kJ5hAk3PkGRJ",
    "outputId": "1f19dce7-fae1-48ef-8418-dc6857740144",
    "scrolled": true
   },
   "outputs": [
    {
     "data": {
      "image/png": "[encoded data removed]",
      "text/plain": [
       "<Figure size 432x288 with 1 Axes>"
      ]
     },
     "metadata": {
      "needs_background": "light"
     },
     "output_type": "display_data"
    }
   ],
   "source": [
    "import matplotlib.pyplot as plt\n",
    "im_list = np.asarray(X_train[1])\n",
    "plt.imshow(im_list)\n",
    "plt.show()"
   ]
  },
  {
   "cell_type": "code",
   "execution_count": 12,
   "metadata": {
    "colab": {
     "base_uri": "https://localhost:8080/",
     "height": 85
    },
    "colab_type": "code",
    "id": "GtIm26HrkGTT",
    "outputId": "01429081-78e9-4df6-8579-a3ec49b699b0"
   },
   "outputs": [
    {
     "name": "stdout",
     "output_type": "stream",
     "text": [
      "64027\n",
      "64027\n",
      "15973\n",
      "15973\n"
     ]
    }
   ],
   "source": [
    "# trainとtestがデータが分割されていることを確認する\n",
    "print(len(X_train))\n",
    "print(len(Y_train))\n",
    "print(len(X_test))\n",
    "print(len(Y_test))"
   ]
  },
  {
   "cell_type": "code",
   "execution_count": 13,
   "metadata": {
    "colab": {},
    "colab_type": "code",
    "id": "w3tYj4OWkGVf"
   },
   "outputs": [],
   "source": [
    "# 0-255の整数値を0〜1の小数に変換する(正規化)\n",
    "X_train_orig = X_train\n",
    "X_test_orig = X_test\n",
    "X_train = X_train.astype('float32')\n",
    "X_test = X_test.astype('float32')\n",
    "X_train /= 255\n",
    "X_test /= 255"
   ]
  },
  {
   "cell_type": "code",
   "execution_count": 14,
   "metadata": {
    "colab": {},
    "colab_type": "code",
    "id": "QHhIWAunkGXb"
   },
   "outputs": [
    {
     "name": "stderr",
     "output_type": "stream",
     "text": [
      "Using TensorFlow backend.\n"
     ]
    }
   ],
   "source": [
    "# one-hot vector形式に変換する\n",
    "from keras.utils import np_utils\n",
    "Y_train = np_utils.to_categorical(Y_train, 73)\n",
    "Y_test = np_utils.to_categorical(Y_test, 73)"
   ]
  },
  {
   "cell_type": "code",
   "execution_count": 15,
   "metadata": {
    "colab": {},
    "colab_type": "code",
    "id": "E71_NTsxkGZk"
   },
   "outputs": [],
   "source": [
    "# モデルの定義（別資料にて説明）\n",
    "from keras import layers\n",
    "from keras import models\n",
    "\n",
    "model = models.Sequential()\n",
    "model.add(layers.Conv2D(32, (3, 3), activation='relu',input_shape=(48, 48, 3)))\n",
    "model.add(layers.MaxPooling2D((2, 2)))\n",
    "model.add(layers.Dropout(0.2))\n",
    "model.add(layers.Conv2D(64, (3, 3), activation='relu'))\n",
    "model.add(layers.MaxPooling2D((2, 2)))\n",
    "model.add(layers.Dropout(0.2))\n",
    "model.add(layers.Conv2D(128, (3, 3), activation='relu'))\n",
    "model.add(layers.MaxPooling2D((2, 2)))\n",
    "model.add(layers.Dropout(0.2))\n",
    "model.add(layers.Conv2D(128, (3, 3), activation='relu'))\n",
    "model.add(layers.MaxPooling2D((2, 2)))\n",
    "model.add(layers.Dropout(0.2))\n",
    "model.add(layers.Flatten())\n",
    "model.add(layers.Dense(512, activation='relu'))\n",
    "model.add(layers.Dropout(0.2))\n",
    "model.add(layers.Dense(73, activation='softmax'))"
   ]
  },
  {
   "cell_type": "code",
   "execution_count": 16,
   "metadata": {
    "colab": {},
    "colab_type": "code",
    "id": "blZPAa7GwzS_"
   },
   "outputs": [],
   "source": [
    "from keras import optimizers\n",
    "\n",
    "model.compile(loss='categorical_crossentropy',\n",
    "              optimizer=optimizers.RMSprop(lr=1e-4),\n",
    "              metrics=['acc'])"
   ]
  },
  {
   "cell_type": "code",
   "execution_count": 17,
   "metadata": {
    "colab": {
     "base_uri": "https://localhost:8080/",
     "height": 374
    },
    "colab_type": "code",
    "id": "m-z6PB8JkGbs",
    "outputId": "3640534b-5809-4ec7-8a06-b0b7ade38e0b"
   },
   "outputs": [
    {
     "name": "stdout",
     "output_type": "stream",
     "text": [
      "Train on 64027 samples, validate on 15973 samples\n",
      "Epoch 1/20\n",
      "64027/64027 [==============================] - 16s 252us/step - loss: 4.2177 - acc: 0.0281 - val_loss: 3.8969 - val_acc: 0.1086\n",
      "Epoch 2/20\n",
      "64027/64027 [==============================] - 14s 220us/step - loss: 2.5228 - acc: 0.3460 - val_loss: 0.9473 - val_acc: 0.8142\n",
      "Epoch 3/20\n",
      "64027/64027 [==============================] - 14s 219us/step - loss: 0.9665 - acc: 0.7291 - val_loss: 0.3753 - val_acc: 0.9182\n",
      "Epoch 4/20\n",
      "64027/64027 [==============================] - 14s 220us/step - loss: 0.5372 - acc: 0.8478 - val_loss: 0.2436 - val_acc: 0.9414\n",
      "Epoch 5/20\n",
      "64027/64027 [==============================] - 14s 219us/step - loss: 0.3730 - acc: 0.8962 - val_loss: 0.1757 - val_acc: 0.9569\n",
      "Epoch 6/20\n",
      "64027/64027 [==============================] - 14s 220us/step - loss: 0.2856 - acc: 0.9198 - val_loss: 0.1398 - val_acc: 0.9650\n",
      "Epoch 7/20\n",
      "64027/64027 [==============================] - 14s 219us/step - loss: 0.2324 - acc: 0.9342 - val_loss: 0.1212 - val_acc: 0.9698\n",
      "Epoch 8/20\n",
      "64027/64027 [==============================] - 14s 220us/step - loss: 0.1969 - acc: 0.9442 - val_loss: 0.1058 - val_acc: 0.9708\n",
      "Epoch 9/20\n",
      "64027/64027 [==============================] - 14s 219us/step - loss: 0.1668 - acc: 0.9525 - val_loss: 0.0956 - val_acc: 0.9750\n",
      "Epoch 10/20\n",
      "64027/64027 [==============================] - 14s 220us/step - loss: 0.1484 - acc: 0.9573 - val_loss: 0.0840 - val_acc: 0.9765\n",
      "Epoch 11/20\n",
      "64027/64027 [==============================] - 14s 220us/step - loss: 0.1330 - acc: 0.9606 - val_loss: 0.0795 - val_acc: 0.9784\n",
      "Epoch 12/20\n",
      "64027/64027 [==============================] - 14s 221us/step - loss: 0.1225 - acc: 0.9640 - val_loss: 0.0747 - val_acc: 0.9790\n",
      "Epoch 13/20\n",
      "64027/64027 [==============================] - 14s 220us/step - loss: 0.1124 - acc: 0.9665 - val_loss: 0.0708 - val_acc: 0.9806\n",
      "Epoch 14/20\n",
      "64027/64027 [==============================] - 14s 220us/step - loss: 0.1030 - acc: 0.9683 - val_loss: 0.0674 - val_acc: 0.9811\n",
      "Epoch 15/20\n",
      "64027/64027 [==============================] - 14s 220us/step - loss: 0.0979 - acc: 0.9712 - val_loss: 0.0642 - val_acc: 0.9810\n",
      "Epoch 16/20\n",
      "64027/64027 [==============================] - 14s 221us/step - loss: 0.0913 - acc: 0.9725 - val_loss: 0.0630 - val_acc: 0.9838\n",
      "Epoch 17/20\n",
      "64027/64027 [==============================] - 14s 222us/step - loss: 0.0888 - acc: 0.9730 - val_loss: 0.0583 - val_acc: 0.9833\n",
      "Epoch 18/20\n",
      "64027/64027 [==============================] - 14s 220us/step - loss: 0.0836 - acc: 0.9735 - val_loss: 0.0599 - val_acc: 0.9822\n",
      "Epoch 19/20\n",
      "64027/64027 [==============================] - 14s 220us/step - loss: 0.0776 - acc: 0.9761 - val_loss: 0.0561 - val_acc: 0.9838\n",
      "Epoch 20/20\n",
      "64027/64027 [==============================] - 14s 220us/step - loss: 0.0741 - acc: 0.9769 - val_loss: 0.0576 - val_acc: 0.9833\n"
     ]
    }
   ],
   "source": [
    "history = model.fit(X_train, Y_train,\n",
    "                    batch_size=128,\n",
    "                    epochs=20,\n",
    "                    verbose=1,\n",
    "                    validation_data=(X_test, Y_test))"
   ]
  },
  {
   "cell_type": "code",
   "execution_count": 18,
   "metadata": {
    "colab": {},
    "colab_type": "code",
    "id": "QDQmyO2kkGeA"
   },
   "outputs": [],
   "source": [
    "predict = model.predict(X_test)"
   ]
  },
  {
   "cell_type": "code",
   "execution_count": 19,
   "metadata": {
    "colab": {
     "base_uri": "https://localhost:8080/",
     "height": 34
    },
    "colab_type": "code",
    "id": "lwTzCBUKkGkf",
    "outputId": "3c464bfb-e601-46d6-fc4c-e0f5db02ea43"
   },
   "outputs": [
    {
     "data": {
      "text/plain": [
       "15973"
      ]
     },
     "execution_count": 19,
     "metadata": {},
     "output_type": "execute_result"
    }
   ],
   "source": [
    "len(predict)"
   ]
  },
  {
   "cell_type": "code",
   "execution_count": 20,
   "metadata": {
    "colab": {},
    "colab_type": "code",
    "id": "eT6iTnyg8Yx_"
   },
   "outputs": [],
   "source": [
    "# ラベルの設定\n",
    "label = [\"あ\",\"い\",\"う\",\"え\",\"お\",\"か\",\"が\",\"き\",\"ぎ\",\"く\",\"ぐ\",\"け\",\"げ\",\"こ\",\"ご\",\"さ\",\"ざ\",\"し\",\"じ\",\"す\",\"ず\",\"せ\",\"ぜ\",\"そ\",\"ぞ\",\"た\",\"だ\",\"ち\",\"ぢ\",\"つ\",\"づ\",\"て\",\"で\",\"と\",\"ど\",\"な\",\"に\",\"ぬ\",\"ね\",\"の\",\"は\",\"ば\",\"ぱ\",\"ひ\",\"び\",\"ぴ\",\"ふ\",\"ぶ\",\"ぷ\",\"へ\",\"べ\",\"ぺ\",\"ほ\",\"ぼ\",\"ぽ\",\"ま\",\"み\",\"む\",\"め\",\"も\",\"や\",\"ゆ\",\"よ\",\"ら\",\"り\",\"る\",\"れ\",\"ろ\",\"わ\",\"ゐ\",\"ゑ\",\"を\",\"ん\"]"
   ]
  },
  {
   "cell_type": "code",
   "execution_count": 21,
   "metadata": {
    "colab": {
     "base_uri": "https://localhost:8080/",
     "height": 348
    },
    "colab_type": "code",
    "id": "3JG8bQTzkGgX",
    "outputId": "9aa7a01c-74ed-4079-d8e2-5e1300ccce61"
   },
   "outputs": [
    {
     "data": {
      "image/png": "[encoded data removed]",
      "text/plain": [
       "<Figure size 432x288 with 1 Axes>"
      ]
     },
     "metadata": {
      "needs_background": "light"
     },
     "output_type": "display_data"
    }
   ],
   "source": [
    "import matplotlib.pyplot as plt\n",
    "ind = 500\n",
    "im_list = np.asarray(X_test_orig[ind])\n",
    "plt.imshow(im_list)\n",
    "plt.show()"
   ]
  },
  {
   "cell_type": "code",
   "execution_count": 22,
   "metadata": {
    "colab": {
     "base_uri": "https://localhost:8080/",
     "height": 34
    },
    "colab_type": "code",
    "id": "S6zqrK_E6zyA",
    "outputId": "96881e55-52f5-45dd-f65c-5648e2ea0716",
    "scrolled": false
   },
   "outputs": [
    {
     "data": {
      "text/plain": [
       "'び'"
      ]
     },
     "execution_count": 22,
     "metadata": {},
     "output_type": "execute_result"
    }
   ],
   "source": [
    "label[predict[ind].tolist().index(max(predict[ind]))]"
   ]
  },
  {
   "cell_type": "code",
   "execution_count": 23,
   "metadata": {},
   "outputs": [],
   "source": [
    "#モデルの保存\n",
    "model.save('./model/hiragana_model.h5', include_optimizer=False)"
   ]
  },
  {
   "cell_type": "code",
   "execution_count": 24,
   "metadata": {},
   "outputs": [
    {
     "name": "stdout",
     "output_type": "stream",
     "text": [
      "name: う\n",
      "score: 0.99945074\n"
     ]
    },
    {
     "name": "stderr",
     "output_type": "stream",
     "text": [
      "/usr/local/lib/python3.6/dist-packages/keras/engine/saving.py:292: UserWarning: No training configuration found in save file: the model was *not* compiled. Compile it manually.\n",
      "  warnings.warn('No training configuration found in save file: '\n"
     ]
    }
   ],
   "source": [
    "from keras.models import load_model\n",
    "import numpy as np\n",
    "from keras.preprocessing.image import img_to_array, load_img\n",
    "\n",
    "jpg_name = ''\n",
    "\n",
    "model=load_model('./model/hiragana_model.h5')\n",
    "\n",
    "img_path = ('./sample/test2.png')\n",
    "img = img_to_array(load_img(img_path, target_size=(48,48)))\n",
    "img_nad = img_to_array(img)/255\n",
    "img_nad = img_nad[None, ...]\n",
    "\n",
    "label=[\"あ\",\"い\",\"う\",\"え\",\"お\",\"か\",\"が\",\"き\",\"ぎ\",\"く\",\"ぐ\",\"け\",\"げ\",\"こ\",\"ご\",\"さ\",\"ざ\",\"し\",\"じ\",\"す\",\"ず\",\"せ\",\"ぜ\",\"そ\",\"ぞ\",\"た\",\"だ\",\"ち\",\"ぢ\",\"つ\",\"づ\",\"て\",\"で\",\"と\",\"ど\",\"な\",\"に\",\"ぬ\",\"ね\",\"の\",\"は\",\"ば\",\"ぱ\",\"ひ\",\"び\",\"ぴ\",\"ふ\",\"ぶ\",\"ぷ\",\"へ\",\"べ\",\"ぺ\",\"ほ\",\"ぼ\",\"ぽ\",\"ま\",\"み\",\"む\",\"め\",\"も\",\"や\",\"ゆ\",\"よ\",\"ら\",\"り\",\"る\",\"れ\",\"ろ\",\"わ\",\"ゐ\",\"ゑ\",\"を\",\"ん\"]\n",
    "pred = model.predict(img_nad, batch_size=1, verbose=0)\n",
    "score = np.max(pred)\n",
    "pred_label = label[np.argmax(pred[0])]\n",
    "print('name:',pred_label)\n",
    "print('score:',score)"
   ]
  },
  {
   "cell_type": "code",
   "execution_count": 25,
   "metadata": {},
   "outputs": [],
   "source": [
    "# HTTPサーバに組みこむ際のサンプルコード\n",
    "from keras.models import load_model\n",
    "import numpy as np\n",
    "from PIL import Image\n",
    "from keras.preprocessing.image import img_to_array\n",
    "from keras.applications.imagenet_utils import preprocess_input\n",
    "\n",
    "model=load_model('./model/hiragana_model.h5')\n",
    "\n",
    "def process_image(img):\n",
    "    img = Image.fromarray(img)\n",
    "    img = img.resize((48, 48)).convert('RGB')\n",
    "    \n",
    "    x = img_to_array(img)\n",
    "    x = np.expand_dims(x, axis=0)\n",
    "    x = preprocess_input(x, mode='tf')\n",
    "\n",
    "    label=[\"あ\",\"い\",\"う\",\"え\",\"お\",\"か\",\"が\",\"き\",\"ぎ\",\"く\",\"ぐ\",\"け\",\"げ\",\"こ\",\"ご\",\"さ\",\"ざ\",\"し\",\"じ\",\"す\",\"ず\",\"せ\",\"ぜ\",\"そ\",\"ぞ\",\"た\",\"だ\",\"ち\",\"ぢ\",\"つ\",\"づ\",\"て\",\"で\",\"と\",\"ど\",\"な\",\"に\",\"ぬ\",\"ね\",\"の\",\"は\",\"ば\",\"ぱ\",\"ひ\",\"び\",\"ぴ\",\"ふ\",\"ぶ\",\"ぷ\",\"へ\",\"べ\",\"ぺ\",\"ほ\",\"ぼ\",\"ぽ\",\"ま\",\"み\",\"む\",\"め\",\"も\",\"や\",\"ゆ\",\"よ\",\"ら\",\"り\",\"る\",\"れ\",\"ろ\",\"わ\",\"ゐ\",\"ゑ\",\"を\",\"ん\"]\n",
    "    pred = model.predict(x,verbose=0)[0]\n",
    "    print(pred)\n",
    "    result_with_labels = [{\"label\": label[i], \"probability\": float(score)} for i, score in enumerate(pred)]\n",
    "    result = {\"result\":sorted(result_with_labels, key=lambda x: x['probability'], reverse=True)[:5]}\n",
    "\n",
    "    return result\n",
    "\n",
    "def handler(iter, context):\n",
    "    for img in iter:\n",
    "        yield process_image(img)"
   ]
  },
  {
   "cell_type": "code",
   "execution_count": 26,
   "metadata": {
    "scrolled": true
   },
   "outputs": [
    {
     "name": "stdout",
     "output_type": "stream",
     "text": [
      "[1.35790484e-04 5.81112714e-10 5.24915968e-08 9.25519943e-01\n",
      " 2.46695490e-05 1.62840124e-08 2.00574704e-08 1.18738653e-05\n",
      " 6.42076020e-06 4.42745041e-08 2.47442378e-09 1.81541865e-11\n",
      " 2.97904821e-13 8.09009871e-05 4.93665138e-05 2.43332324e-04\n",
      " 1.22611213e-03 1.47947077e-07 6.76958436e-08 6.12268707e-07\n",
      " 3.84866787e-08 3.92224697e-09 4.18462140e-11 1.50690212e-07\n",
      " 1.09322928e-09 5.10494003e-09 1.24357313e-09 2.53504617e-09\n",
      " 3.17692296e-11 4.71554067e-08 9.15376663e-11 5.26062104e-06\n",
      " 9.59134883e-10 5.44857641e-04 3.05112080e-05 4.36034315e-06\n",
      " 2.69955294e-08 2.16253483e-07 2.00337396e-07 7.63044561e-09\n",
      " 7.95398228e-06 9.30152419e-06 1.78968179e-07 1.45800470e-06\n",
      " 1.87030821e-07 7.03191602e-11 1.30277337e-03 5.34822873e-04\n",
      " 3.52194038e-05 4.02758438e-10 3.44380453e-07 7.01087011e-09\n",
      " 9.69335758e-08 2.45441879e-05 1.07977485e-07 1.11616058e-02\n",
      " 4.21918448e-05 2.89824631e-09 1.21240760e-08 3.30608088e-07\n",
      " 6.27947347e-12 5.18615706e-11 5.16360477e-02 3.87913673e-07\n",
      " 1.70439884e-09 6.96464768e-03 2.75145545e-10 4.50848802e-06\n",
      " 4.79255702e-09 8.91178061e-05 2.19086083e-04 1.40349266e-06\n",
      " 7.85671655e-05]\n"
     ]
    },
    {
     "data": {
      "text/plain": [
       "{'result': [{'label': 'え', 'probability': 0.9255199432373047},\n",
       "  {'label': 'よ', 'probability': 0.051636047661304474},\n",
       "  {'label': 'ま', 'probability': 0.011161605827510357},\n",
       "  {'label': 'る', 'probability': 0.006964647676795721},\n",
       "  {'label': 'ふ', 'probability': 0.0013027733657509089}]}"
      ]
     },
     "execution_count": 26,
     "metadata": {},
     "output_type": "execute_result"
    }
   ],
   "source": [
    "#img = Image.open('./test.png')\n",
    "img = Image.open('./sample/test4.png')\n",
    "img = np.asarray(img)\n",
    "process_image(img)"
   ]
  },
  {
   "cell_type": "code",
   "execution_count": null,
   "metadata": {},
   "outputs": [],
   "source": [
    "!apt-get update\n",
    "!apt-get install zip"
   ]
  },
  {
   "cell_type": "markdown",
   "metadata": {},
   "source": [
    "この後、modelフォルダに存在するh5ファイルとmain.pyを圧縮し\n",
    "ABEJA Platform上にアップロードすることで、HTTPサーバとして活用可能"
   ]
  },
  {
   "cell_type": "markdown",
   "metadata": {
    "colab_type": "text",
    "id": "Tz87rb_I81sc"
   },
   "source": [
    "## Imagegeneratorを使う場合(参考程度に記載)"
   ]
  },
  {
   "cell_type": "code",
   "execution_count": 27,
   "metadata": {
    "colab": {},
    "colab_type": "code",
    "id": "oh0OEX3M8753"
   },
   "outputs": [],
   "source": [
    "from keras.preprocessing.image import ImageDataGenerator"
   ]
  },
  {
   "cell_type": "code",
   "execution_count": 28,
   "metadata": {
    "colab": {},
    "colab_type": "code",
    "id": "rHiTW3YV8-t6"
   },
   "outputs": [],
   "source": [
    "datagen = ImageDataGenerator(rescale=1./255,\n",
    "    #shear_range=0.1,\n",
    "    #zoom_range=0.2,\n",
    "    horizontal_flip=True,\n",
    "    validation_split=0.2) # set test split"
   ]
  },
  {
   "cell_type": "code",
   "execution_count": 29,
   "metadata": {
    "colab": {},
    "colab_type": "code",
    "id": "pd1e3eBB8-wh"
   },
   "outputs": [
    {
     "name": "stdout",
     "output_type": "stream",
     "text": [
      "Found 80000 images belonging to 73 classes.\n"
     ]
    }
   ],
   "source": [
    "dir = '/home/data/hiragana73'\n",
    "train_generator = datagen.flow_from_directory(\n",
    "        dir,     # directory\n",
    "        target_size=(48, 48),     # input shape (resized to 150x150)\n",
    "        batch_size=20,\n",
    "        class_mode='categorical')    # categorical labels"
   ]
  },
  {
   "cell_type": "code",
   "execution_count": 30,
   "metadata": {
    "colab": {},
    "colab_type": "code",
    "id": "NBsxeDpW8-y4"
   },
   "outputs": [
    {
     "name": "stdout",
     "output_type": "stream",
     "text": [
      "Found 15973 images belonging to 73 classes.\n"
     ]
    }
   ],
   "source": [
    "test_generator = datagen.flow_from_directory(\n",
    "    dir, # same directory as training data\n",
    "    target_size=(48, 48),\n",
    "    batch_size=20,\n",
    "    class_mode='categorical',\n",
    "    subset='validation') # set as validation data"
   ]
  },
  {
   "cell_type": "code",
   "execution_count": 31,
   "metadata": {
    "colab": {},
    "colab_type": "code",
    "id": "gnyjI_ZE9ngC"
   },
   "outputs": [],
   "source": [
    "from keras import layers\n",
    "from keras import models\n",
    "\n",
    "model = models.Sequential()\n",
    "model.add(layers.Conv2D(32, (3, 3), activation='relu',input_shape=(48, 48, 3)))\n",
    "model.add(layers.MaxPooling2D((2, 2)))\n",
    "model.add(layers.Dropout(0.2))\n",
    "model.add(layers.Conv2D(64, (3, 3), activation='relu'))\n",
    "model.add(layers.MaxPooling2D((2, 2)))\n",
    "model.add(layers.Dropout(0.2))\n",
    "model.add(layers.Conv2D(128, (3, 3), activation='relu'))\n",
    "model.add(layers.MaxPooling2D((2, 2)))\n",
    "model.add(layers.Dropout(0.2))\n",
    "model.add(layers.Conv2D(128, (3, 3), activation='relu'))\n",
    "model.add(layers.MaxPooling2D((2, 2)))\n",
    "model.add(layers.Dropout(0.2))\n",
    "model.add(layers.Flatten())\n",
    "model.add(layers.Dense(512, activation='relu'))\n",
    "model.add(layers.Dropout(0.2))\n",
    "model.add(layers.Dense(73, activation='softmax'))\n",
    "\n",
    "from keras import optimizers\n",
    "\n",
    "model.compile(loss='categorical_crossentropy',\n",
    "              optimizer=optimizers.RMSprop(lr=1e-4),\n",
    "              metrics=['acc'])"
   ]
  },
  {
   "cell_type": "code",
   "execution_count": 32,
   "metadata": {
    "colab": {},
    "colab_type": "code",
    "id": "m-VQKQVT9sce"
   },
   "outputs": [
    {
     "name": "stdout",
     "output_type": "stream",
     "text": [
      "Epoch 1/20\n",
      "354/354 [==============================] - 5s 13ms/step - loss: 4.2763 - acc: 0.0158 - val_loss: 4.2644 - val_acc: 0.0259\n",
      "Epoch 2/20\n",
      "354/354 [==============================] - 4s 11ms/step - loss: 4.2617 - acc: 0.0186 - val_loss: 4.2482 - val_acc: 0.0152\n",
      "Epoch 3/20\n",
      "354/354 [==============================] - 4s 11ms/step - loss: 4.2463 - acc: 0.0181 - val_loss: 4.1977 - val_acc: 0.0679\n",
      "Epoch 4/20\n",
      "354/354 [==============================] - 4s 11ms/step - loss: 4.1406 - acc: 0.0429 - val_loss: 3.8694 - val_acc: 0.1366\n",
      "Epoch 5/20\n",
      "354/354 [==============================] - 4s 11ms/step - loss: 3.7128 - acc: 0.1062 - val_loss: 3.0675 - val_acc: 0.2679\n",
      "Epoch 6/20\n",
      "354/354 [==============================] - 4s 11ms/step - loss: 3.0739 - acc: 0.2129 - val_loss: 2.3401 - val_acc: 0.4295\n",
      "Epoch 7/20\n",
      "354/354 [==============================] - 4s 11ms/step - loss: 2.6080 - acc: 0.3052 - val_loss: 1.7200 - val_acc: 0.6009\n",
      "Epoch 8/20\n",
      "354/354 [==============================] - 4s 11ms/step - loss: 2.1887 - acc: 0.4127 - val_loss: 1.3344 - val_acc: 0.6643\n",
      "Epoch 9/20\n",
      "354/354 [==============================] - 4s 11ms/step - loss: 1.8277 - acc: 0.5038 - val_loss: 1.0841 - val_acc: 0.7563\n",
      "Epoch 10/20\n",
      "354/354 [==============================] - 4s 11ms/step - loss: 1.5407 - acc: 0.5732 - val_loss: 0.8813 - val_acc: 0.7911\n",
      "Epoch 11/20\n",
      "354/354 [==============================] - 4s 11ms/step - loss: 1.3529 - acc: 0.6376 - val_loss: 0.6983 - val_acc: 0.8357\n",
      "Epoch 12/20\n",
      "354/354 [==============================] - 4s 11ms/step - loss: 1.1476 - acc: 0.6812 - val_loss: 0.6670 - val_acc: 0.8277\n",
      "Epoch 13/20\n",
      "354/354 [==============================] - 4s 11ms/step - loss: 1.0319 - acc: 0.7185 - val_loss: 0.5718 - val_acc: 0.8598\n",
      "Epoch 14/20\n",
      "354/354 [==============================] - 4s 11ms/step - loss: 0.8874 - acc: 0.7501 - val_loss: 0.6208 - val_acc: 0.8455\n",
      "Epoch 15/20\n",
      "354/354 [==============================] - 4s 11ms/step - loss: 0.8480 - acc: 0.7699 - val_loss: 0.4642 - val_acc: 0.8859\n",
      "Epoch 16/20\n",
      "354/354 [==============================] - 4s 11ms/step - loss: 0.7484 - acc: 0.7884 - val_loss: 0.4742 - val_acc: 0.8973\n",
      "Epoch 17/20\n",
      "354/354 [==============================] - 4s 11ms/step - loss: 0.7103 - acc: 0.8027 - val_loss: 0.4172 - val_acc: 0.9045\n",
      "Epoch 18/20\n",
      "354/354 [==============================] - 4s 11ms/step - loss: 0.6907 - acc: 0.8192 - val_loss: 0.3906 - val_acc: 0.9054\n",
      "Epoch 19/20\n",
      "354/354 [==============================] - 4s 11ms/step - loss: 0.6145 - acc: 0.8308 - val_loss: 0.3513 - val_acc: 0.9018\n",
      "Epoch 20/20\n",
      "354/354 [==============================] - 4s 11ms/step - loss: 0.5823 - acc: 0.8439 - val_loss: 0.3247 - val_acc: 0.9241\n"
     ]
    }
   ],
   "source": [
    "history = model.fit_generator(\n",
    "      train_generator,\n",
    "      steps_per_epoch=354,\n",
    "      epochs=20,\n",
    "      validation_data=test_generator,\n",
    "      validation_steps=56)"
   ]
  },
  {
   "cell_type": "code",
   "execution_count": null,
   "metadata": {
    "colab": {},
    "colab_type": "code",
    "id": "GR6uSAyM9vQ8"
   },
   "outputs": [],
   "source": [
    "from keras.models import load_model\n",
    "from keras.preprocessing.image import ImageDataGenerator\n",
    "\n",
    "test_loss, test_acc = model.evaluate_generator(test_generator, steps=54)\n",
    "print('test loss:', test_loss)\n",
    "print('test acc:', test_acc)"
   ]
  }
 ],
 "metadata": {
  "accelerator": "GPU",
  "colab": {
   "collapsed_sections": [],
   "name": "hiragana.ipynb",
   "provenance": [],
   "version": "0.3.2"
  },
  "kernelspec": {
   "display_name": "Python 3",
   "language": "python",
   "name": "python3"
  },
  "language_info": {
   "codemirror_mode": {
    "name": "ipython",
    "version": 3
   },
   "file_extension": ".py",
   "mimetype": "text/x-python",
   "name": "python",
   "nbconvert_exporter": "python",
   "pygments_lexer": "ipython3",
   "version": "3.6.6"
  }
 },
 "nbformat": 4,
 "nbformat_minor": 1
}

{
 "cells": [
  {
   "cell_type": "markdown",
   "metadata": {},
   "source": [
    "## ひらがな手書きの文字認識"
   ]
  },
  {
   "cell_type": "markdown",
   "metadata": {
    "colab_type": "text",
    "id": "L7RDLFhz57kP"
   },
   "source": [
    "### データのダウンロード（NDL LABからひらがなのデータ）"
   ]
  },
  {
   "cell_type": "code",
   "execution_count": 5,
   "metadata": {},
   "outputs": [],
   "source": [
    "%matplotlib inline"
   ]
  },
  {
   "cell_type": "code",
   "execution_count": 6,
   "metadata": {},
   "outputs": [
    {
     "name": "stdout",
     "output_type": "stream",
     "text": [
      "/mnt/notebooks/1736464579666/Platform_handson/hiragana_classify\n"
     ]
    }
   ],
   "source": [
    "notebook_id = %env TRAINING_NOTEBOOK_ID\n",
    "%cd '/mnt/notebooks/{notebook_id}/Platform_handson/hiragana_classify'"
   ]
  },
  {
   "cell_type": "code",
   "execution_count": 7,
   "metadata": {
    "colab": {
     "base_uri": "https://localhost:8080/",
     "height": 221
    },
    "colab_type": "code",
    "id": "4XjXtdlA6AEo",
    "outputId": "837bf283-7342-4cf1-b23a-6767cfef0596"
   },
   "outputs": [
    {
     "name": "stdout",
     "output_type": "stream",
     "text": [
      "--2019-04-14 04:56:08--  http://lab.ndl.go.jp/dataset/hiragana73.zip\n",
      "Resolving lab.ndl.go.jp (lab.ndl.go.jp)... 202.32.173.150\n",
      "Connecting to lab.ndl.go.jp (lab.ndl.go.jp)|202.32.173.150|:80... connected.\n",
      "HTTP request sent, awaiting response... 301 Moved Permanently\n",
      "Location: https://lab.ndl.go.jp/dataset/hiragana73.zip [following]\n",
      "--2019-04-14 04:56:08--  https://lab.ndl.go.jp/dataset/hiragana73.zip\n",
      "Connecting to lab.ndl.go.jp (lab.ndl.go.jp)|202.32.173.150|:443... connected.\n",
      "HTTP request sent, awaiting response... 200 OK\n",
      "Length: 233312433 (223M) [application/zip]\n",
      "Saving to: ‘/home/data/hiragana73.zip.1’\n",
      "\n",
      "hiragana73.zip.1    100%[===================>] 222.50M  10.5MB/s    in 22s     \n",
      "\n",
      "2019-04-14 04:56:30 (10.0 MB/s) - ‘/home/data/hiragana73.zip.1’ saved [233312433/233312433]\n",
      "\n"
     ]
    }
   ],
   "source": [
    "# home配下にdataを配置する\n",
    "!wget http://lab.ndl.go.jp/dataset/hiragana73.zip -P /home/data"
   ]
  },
  {
   "cell_type": "code",
   "execution_count": 16,
   "metadata": {},
   "outputs": [
    {
     "name": "stdout",
     "output_type": "stream",
     "text": [
      "  80k 0:00:13 [5.74k/s] [====================================>] 100%            \n"
     ]
    }
   ],
   "source": [
    "n_files = !unzip -l /home/data/hiragana73.zip | grep .png | wc -l\n",
    "!unzip -o /home/data/hiragana73.zip -d /home/data/ | pv -l -s {n_files[0]} > /dev/null"
   ]
  },
  {
   "cell_type": "code",
   "execution_count": 17,
   "metadata": {},
   "outputs": [
    {
     "name": "stdout",
     "output_type": "stream",
     "text": [
      "total 4676\r\n",
      "drwxr-xr-x 75 root root  4096 Sep  8  2016 \u001b[0m\u001b[01;34m.\u001b[0m/\r\n",
      "drwxr-xr-x  3 root root    70 Apr 14 04:56 \u001b[01;34m..\u001b[0m/\r\n",
      "drwxr-xr-x  2 root root 45056 Apr 14 05:06 \u001b[01;34mU3042\u001b[0m/\r\n",
      "drwxr-xr-x  2 root root 45056 Apr 14 05:06 \u001b[01;34mU3044\u001b[0m/\r\n",
      "drwxr-xr-x  2 root root 45056 Apr 14 05:06 \u001b[01;34mU3046\u001b[0m/\r\n",
      "drwxr-xr-x  2 root root 40960 Apr 14 05:06 \u001b[01;34mU3048\u001b[0m/\r\n",
      "drwxr-xr-x  2 root root 49152 Apr 14 05:06 \u001b[01;34mU304A\u001b[0m/\r\n",
      "drwxr-xr-x  2 root root 49152 Apr 14 05:06 \u001b[01;34mU304B\u001b[0m/\r\n",
      "drwxr-xr-x  2 root root 45056 Apr 14 05:06 \u001b[01;34mU304C\u001b[0m/\r\n",
      "drwxr-xr-x  2 root root 45056 Apr 14 05:06 \u001b[01;34mU304D\u001b[0m/\r\n",
      "drwxr-xr-x  2 root root 40960 Apr 14 05:06 \u001b[01;34mU304E\u001b[0m/\r\n",
      "drwxr-xr-x  2 root root 49152 Apr 14 05:06 \u001b[01;34mU304F\u001b[0m/\r\n",
      "drwxr-xr-x  2 root root 40960 Apr 14 05:06 \u001b[01;34mU3050\u001b[0m/\r\n",
      "drwxr-xr-x  2 root root 45056 Apr 14 05:06 \u001b[01;34mU3051\u001b[0m/\r\n",
      "drwxr-xr-x  2 root root 40960 Apr 14 05:06 \u001b[01;34mU3052\u001b[0m/\r\n",
      "drwxr-xr-x  2 root root 45056 Apr 14 05:06 \u001b[01;34mU3053\u001b[0m/\r\n",
      "drwxr-xr-x  2 root root 40960 Apr 14 05:06 \u001b[01;34mU3054\u001b[0m/\r\n",
      "drwxr-xr-x  2 root root 49152 Apr 14 05:06 \u001b[01;34mU3055\u001b[0m/\r\n",
      "drwxr-xr-x  2 root root 40960 Apr 14 05:06 \u001b[01;34mU3056\u001b[0m/\r\n",
      "drwxr-xr-x  2 root root 49152 Apr 14 05:06 \u001b[01;34mU3057\u001b[0m/\r\n",
      "drwxr-xr-x  2 root root 40960 Apr 14 05:06 \u001b[01;34mU3058\u001b[0m/\r\n",
      "drwxr-xr-x  2 root root 49152 Apr 14 05:06 \u001b[01;34mU3059\u001b[0m/\r\n",
      "drwxr-xr-x  2 root root 40960 Apr 14 05:06 \u001b[01;34mU305A\u001b[0m/\r\n",
      "drwxr-xr-x  2 root root 45056 Apr 14 05:06 \u001b[01;34mU305B\u001b[0m/\r\n",
      "drwxr-xr-x  2 root root 45056 Apr 14 05:06 \u001b[01;34mU305C\u001b[0m/\r\n",
      "drwxr-xr-x  2 root root 49152 Apr 14 05:06 \u001b[01;34mU305D\u001b[0m/\r\n",
      "drwxr-xr-x  2 root root 40960 Apr 14 05:06 \u001b[01;34mU305E\u001b[0m/\r\n",
      "drwxr-xr-x  2 root root 49152 Apr 14 05:06 \u001b[01;34mU305F\u001b[0m/\r\n",
      "drwxr-xr-x  2 root root 40960 Apr 14 05:06 \u001b[01;34mU3060\u001b[0m/\r\n",
      "drwxr-xr-x  2 root root 40960 Apr 14 05:06 \u001b[01;34mU3061\u001b[0m/\r\n",
      "drwxr-xr-x  2 root root 40960 Apr 14 05:06 \u001b[01;34mU3062\u001b[0m/\r\n",
      "drwxr-xr-x  2 root root 45056 Apr 14 05:06 \u001b[01;34mU3064\u001b[0m/\r\n",
      "drwxr-xr-x  2 root root 40960 Apr 14 05:06 \u001b[01;34mU3065\u001b[0m/\r\n",
      "drwxr-xr-x  2 root root 49152 Apr 14 05:06 \u001b[01;34mU3066\u001b[0m/\r\n",
      "drwxr-xr-x  2 root root 45056 Apr 14 05:06 \u001b[01;34mU3067\u001b[0m/\r\n",
      "drwxr-xr-x  2 root root 45056 Apr 14 05:06 \u001b[01;34mU3068\u001b[0m/\r\n",
      "drwxr-xr-x  2 root root 45056 Apr 14 05:06 \u001b[01;34mU3069\u001b[0m/\r\n",
      "drwxr-xr-x  2 root root 49152 Apr 14 05:06 \u001b[01;34mU306A\u001b[0m/\r\n",
      "drwxr-xr-x  2 root root 49152 Apr 14 05:06 \u001b[01;34mU306B\u001b[0m/\r\n",
      "drwxr-xr-x  2 root root 40960 Apr 14 05:06 \u001b[01;34mU306C\u001b[0m/\r\n",
      "drwxr-xr-x  2 root root 45056 Apr 14 05:06 \u001b[01;34mU306D\u001b[0m/\r\n",
      "drwxr-xr-x  2 root root 45056 Apr 14 05:06 \u001b[01;34mU306E\u001b[0m/\r\n",
      "drwxr-xr-x  2 root root 49152 Apr 14 05:06 \u001b[01;34mU306F\u001b[0m/\r\n",
      "drwxr-xr-x  2 root root 40960 Apr 14 05:06 \u001b[01;34mU3070\u001b[0m/\r\n",
      "drwxr-xr-x  2 root root 12288 Apr 14 05:06 \u001b[01;34mU3071\u001b[0m/\r\n",
      "drwxr-xr-x  2 root root 40960 Apr 14 05:06 \u001b[01;34mU3072\u001b[0m/\r\n",
      "drwxr-xr-x  2 root root 40960 Apr 14 05:06 \u001b[01;34mU3073\u001b[0m/\r\n",
      "drwxr-xr-x  2 root root  8192 Apr 14 05:06 \u001b[01;34mU3074\u001b[0m/\r\n",
      "drwxr-xr-x  2 root root 49152 Apr 14 05:06 \u001b[01;34mU3075\u001b[0m/\r\n",
      "drwxr-xr-x  2 root root 45056 Apr 14 05:06 \u001b[01;34mU3076\u001b[0m/\r\n",
      "drwxr-xr-x  2 root root  4096 Apr 14 05:06 \u001b[01;34mU3077\u001b[0m/\r\n",
      "drwxr-xr-x  2 root root 40960 Apr 14 05:06 \u001b[01;34mU3078\u001b[0m/\r\n",
      "drwxr-xr-x  2 root root 40960 Apr 14 05:06 \u001b[01;34mU3079\u001b[0m/\r\n",
      "drwxr-xr-x  2 root root 12288 Apr 14 05:06 \u001b[01;34mU307A\u001b[0m/\r\n",
      "drwxr-xr-x  2 root root 45056 Apr 14 05:06 \u001b[01;34mU307B\u001b[0m/\r\n",
      "drwxr-xr-x  2 root root 40960 Apr 14 05:06 \u001b[01;34mU307C\u001b[0m/\r\n",
      "drwxr-xr-x  2 root root 12288 Apr 14 05:06 \u001b[01;34mU307D\u001b[0m/\r\n",
      "drwxr-xr-x  2 root root 49152 Apr 14 05:06 \u001b[01;34mU307E\u001b[0m/\r\n",
      "drwxr-xr-x  2 root root 45056 Apr 14 05:06 \u001b[01;34mU307F\u001b[0m/\r\n",
      "drwxr-xr-x  2 root root 40960 Apr 14 05:06 \u001b[01;34mU3080\u001b[0m/\r\n",
      "drwxr-xr-x  2 root root 49152 Apr 14 05:06 \u001b[01;34mU3081\u001b[0m/\r\n",
      "drwxr-xr-x  2 root root 45056 Apr 14 05:06 \u001b[01;34mU3082\u001b[0m/\r\n",
      "drwxr-xr-x  2 root root 49152 Apr 14 05:06 \u001b[01;34mU3084\u001b[0m/\r\n",
      "drwxr-xr-x  2 root root 49152 Apr 14 05:06 \u001b[01;34mU3086\u001b[0m/\r\n",
      "drwxr-xr-x  2 root root 45056 Apr 14 05:06 \u001b[01;34mU3088\u001b[0m/\r\n",
      "drwxr-xr-x  2 root root 40960 Apr 14 05:06 \u001b[01;34mU3089\u001b[0m/\r\n",
      "drwxr-xr-x  2 root root 49152 Apr 14 05:06 \u001b[01;34mU308A\u001b[0m/\r\n",
      "drwxr-xr-x  2 root root 45056 Apr 14 05:06 \u001b[01;34mU308B\u001b[0m/\r\n",
      "drwxr-xr-x  2 root root 49152 Apr 14 05:06 \u001b[01;34mU308C\u001b[0m/\r\n",
      "drwxr-xr-x  2 root root 40960 Apr 14 05:06 \u001b[01;34mU308D\u001b[0m/\r\n",
      "drwxr-xr-x  2 root root 49152 Apr 14 05:06 \u001b[01;34mU308F\u001b[0m/\r\n",
      "drwxr-xr-x  2 root root 40960 Apr 14 05:06 \u001b[01;34mU3090\u001b[0m/\r\n",
      "drwxr-xr-x  2 root root 40960 Apr 14 05:06 \u001b[01;34mU3091\u001b[0m/\r\n",
      "drwxr-xr-x  2 root root 49152 Apr 14 05:06 \u001b[01;34mU3092\u001b[0m/\r\n",
      "drwxr-xr-x  2 root root 49152 Apr 14 05:06 \u001b[01;34mU3093\u001b[0m/\r\n"
     ]
    }
   ],
   "source": [
    "ls -al /home/data/hiragana73"
   ]
  },
  {
   "cell_type": "code",
   "execution_count": 18,
   "metadata": {
    "colab": {},
    "colab_type": "code",
    "id": "JlQM2dRulJ70"
   },
   "outputs": [],
   "source": [
    "# フォルダの一覧を取得する(hiragana73配下)\n",
    "import os\n",
    "path = \"/home/data/hiragana73/\"\n",
    "folder = os.listdir(path)\n",
    "# フォルダは Unicode 表記の平仮名なので、50音順になるように sort しておく\n",
    "folder.sort()"
   ]
  },
  {
   "cell_type": "markdown",
   "metadata": {},
   "source": [
    "### 前処理"
   ]
  },
  {
   "cell_type": "code",
   "execution_count": 19,
   "metadata": {
    "colab": {},
    "colab_type": "code",
    "id": "_E4V1Y0nkGMl"
   },
   "outputs": [
    {
     "data": {
      "application/vnd.jupyter.widget-view+json": {
       "model_id": "06611f596e224dc78a06c12d2e2c405b",
       "version_major": 2,
       "version_minor": 0
      },
      "text/plain": [
       "HBox(children=(IntProgress(value=0, max=73), HTML(value='')))"
      ]
     },
     "metadata": {},
     "output_type": "display_data"
    },
    {
     "name": "stdout",
     "output_type": "stream",
     "text": [
      "\n"
     ]
    }
   ],
   "source": [
    "import glob\n",
    "import numpy as np\n",
    "from tqdm import tqdm_notebook as tqdm\n",
    "from PIL import Image\n",
    "from sklearn.model_selection import train_test_split\n",
    "\n",
    "image_size = 48\n",
    " \n",
    "X = []\n",
    "Y = []\n",
    "\n",
    "for index, name in tqdm(enumerate(folder), total=len(folder)):\n",
    "    pattern = os.path.join(path, name, '*.png')\n",
    "    for file in glob.glob(pattern):\n",
    "      image = Image.open(file)\n",
    "      image = image.convert(\"RGB\")\n",
    "      #image = image.convert('L')\n",
    "      image = image.resize((image_size, image_size))\n",
    "      data = np.asarray(image)\n",
    "      X.append(data)\n",
    "      Y.append(index)\n",
    " \n",
    "# 学習とテストで 8:2 のデータ割合に分ける\n",
    "X_train, X_test, Y_train, Y_test = train_test_split(\n",
    "    np.array(X), np.array(Y),\n",
    "    train_size=0.8, test_size=0.2)"
   ]
  },
  {
   "cell_type": "code",
   "execution_count": 20,
   "metadata": {
    "colab": {
     "base_uri": "https://localhost:8080/",
     "height": 34
    },
    "colab_type": "code",
    "id": "TYdrudNokGO3",
    "outputId": "731db4bc-93b8-4986-8d08-e146018eeaa5"
   },
   "outputs": [
    {
     "data": {
      "text/plain": [
       "13"
      ]
     },
     "execution_count": 20,
     "metadata": {},
     "output_type": "execute_result"
    }
   ],
   "source": [
    "# ラベルと対象データを確認\n",
    "Y_train[1]"
   ]
  },
  {
   "cell_type": "code",
   "execution_count": 21,
   "metadata": {
    "colab": {
     "base_uri": "https://localhost:8080/",
     "height": 348
    },
    "colab_type": "code",
    "id": "kJ5hAk3PkGRJ",
    "outputId": "1f19dce7-fae1-48ef-8418-dc6857740144",
    "scrolled": true
   },
   "outputs": [
    {
     "data": {
      "image/png": "[encoded data removed]",
      "text/plain": [
       "<Figure size 432x288 with 1 Axes>"
      ]
     },
     "metadata": {
      "needs_background": "light"
     },
     "output_type": "display_data"
    }
   ],
   "source": [
    "import matplotlib.pyplot as plt\n",
    "im_list = np.asarray(X_train[1])\n",
    "plt.imshow(im_list)\n",
    "plt.show()"
   ]
  },
  {
   "cell_type": "code",
   "execution_count": 22,
   "metadata": {
    "colab": {
     "base_uri": "https://localhost:8080/",
     "height": 85
    },
    "colab_type": "code",
    "id": "GtIm26HrkGTT",
    "outputId": "01429081-78e9-4df6-8579-a3ec49b699b0"
   },
   "outputs": [
    {
     "name": "stdout",
     "output_type": "stream",
     "text": [
      "64000\n",
      "64000\n",
      "16000\n",
      "16000\n"
     ]
    }
   ],
   "source": [
    "# trainとtestがデータが分割されていることを確認する\n",
    "print(len(X_train))\n",
    "print(len(Y_train))\n",
    "print(len(X_test))\n",
    "print(len(Y_test))"
   ]
  },
  {
   "cell_type": "code",
   "execution_count": 23,
   "metadata": {
    "colab": {},
    "colab_type": "code",
    "id": "w3tYj4OWkGVf"
   },
   "outputs": [],
   "source": [
    "# 0-255の整数値を0〜1の小数に変換する(正規化)\n",
    "X_train_orig = X_train\n",
    "X_test_orig = X_test\n",
    "X_train = X_train.astype('float32')\n",
    "X_test = X_test.astype('float32')\n",
    "X_train /= 255\n",
    "X_test /= 255"
   ]
  },
  {
   "cell_type": "code",
   "execution_count": 24,
   "metadata": {
    "colab": {},
    "colab_type": "code",
    "id": "QHhIWAunkGXb"
   },
   "outputs": [
    {
     "name": "stderr",
     "output_type": "stream",
     "text": [
      "Using TensorFlow backend.\n"
     ]
    }
   ],
   "source": [
    "# one-hot vector形式に変換する\n",
    "from keras.utils import np_utils\n",
    "Y_train = np_utils.to_categorical(Y_train, 73)\n",
    "Y_test = np_utils.to_categorical(Y_test, 73)"
   ]
  },
  {
   "cell_type": "code",
   "execution_count": 25,
   "metadata": {
    "colab": {},
    "colab_type": "code",
    "id": "E71_NTsxkGZk"
   },
   "outputs": [],
   "source": [
    "# モデルの定義（別資料にて説明）\n",
    "from keras import layers\n",
    "from keras import models\n",
    "\n",
    "model = models.Sequential()\n",
    "model.add(layers.Conv2D(32, (3, 3), activation='relu',input_shape=(48, 48, 3)))\n",
    "model.add(layers.MaxPooling2D((2, 2)))\n",
    "model.add(layers.Dropout(0.2))\n",
    "model.add(layers.Conv2D(64, (3, 3), activation='relu'))\n",
    "model.add(layers.MaxPooling2D((2, 2)))\n",
    "model.add(layers.Dropout(0.2))\n",
    "model.add(layers.Conv2D(128, (3, 3), activation='relu'))\n",
    "model.add(layers.MaxPooling2D((2, 2)))\n",
    "model.add(layers.Dropout(0.2))\n",
    "model.add(layers.Conv2D(128, (3, 3), activation='relu'))\n",
    "model.add(layers.MaxPooling2D((2, 2)))\n",
    "model.add(layers.Dropout(0.2))\n",
    "model.add(layers.Flatten())\n",
    "model.add(layers.Dense(512, activation='relu'))\n",
    "model.add(layers.Dropout(0.2))\n",
    "model.add(layers.Dense(73, activation='softmax'))"
   ]
  },
  {
   "cell_type": "code",
   "execution_count": 26,
   "metadata": {
    "colab": {},
    "colab_type": "code",
    "id": "blZPAa7GwzS_"
   },
   "outputs": [],
   "source": [
    "from keras import optimizers\n",
    "\n",
    "model.compile(loss='categorical_crossentropy',\n",
    "              optimizer=optimizers.RMSprop(lr=1e-4),\n",
    "              metrics=['acc'])"
   ]
  },
  {
   "cell_type": "code",
   "execution_count": 27,
   "metadata": {
    "colab": {
     "base_uri": "https://localhost:8080/",
     "height": 374
    },
    "colab_type": "code",
    "id": "m-z6PB8JkGbs",
    "outputId": "3640534b-5809-4ec7-8a06-b0b7ade38e0b"
   },
   "outputs": [
    {
     "name": "stdout",
     "output_type": "stream",
     "text": [
      "Train on 64000 samples, validate on 16000 samples\n",
      "Epoch 1/20\n",
      "64000/64000 [==============================] - 17s 264us/step - loss: 4.2050 - acc: 0.0303 - val_loss: 3.8648 - val_acc: 0.1114\n",
      "Epoch 2/20\n",
      "64000/64000 [==============================] - 15s 231us/step - loss: 2.5528 - acc: 0.3402 - val_loss: 0.9816 - val_acc: 0.7976\n",
      "Epoch 3/20\n",
      "64000/64000 [==============================] - 15s 231us/step - loss: 0.9706 - acc: 0.7320 - val_loss: 0.3699 - val_acc: 0.9197\n",
      "Epoch 4/20\n",
      "64000/64000 [==============================] - 15s 234us/step - loss: 0.5308 - acc: 0.8513 - val_loss: 0.2163 - val_acc: 0.9503\n",
      "Epoch 5/20\n",
      "64000/64000 [==============================] - 15s 231us/step - loss: 0.3624 - acc: 0.8995 - val_loss: 0.1639 - val_acc: 0.9609\n",
      "Epoch 6/20\n",
      "64000/64000 [==============================] - 15s 231us/step - loss: 0.2740 - acc: 0.9222 - val_loss: 0.1309 - val_acc: 0.9675\n",
      "Epoch 7/20\n",
      "64000/64000 [==============================] - 15s 232us/step - loss: 0.2203 - acc: 0.9370 - val_loss: 0.1099 - val_acc: 0.9722\n",
      "Epoch 8/20\n",
      "64000/64000 [==============================] - 15s 231us/step - loss: 0.1844 - acc: 0.9472 - val_loss: 0.0992 - val_acc: 0.9738\n",
      "Epoch 9/20\n",
      "64000/64000 [==============================] - 15s 232us/step - loss: 0.1603 - acc: 0.9529 - val_loss: 0.0874 - val_acc: 0.9764\n",
      "Epoch 10/20\n",
      "64000/64000 [==============================] - 15s 232us/step - loss: 0.1420 - acc: 0.9588 - val_loss: 0.0788 - val_acc: 0.9777\n",
      "Epoch 11/20\n",
      "64000/64000 [==============================] - 15s 231us/step - loss: 0.1270 - acc: 0.9624 - val_loss: 0.0771 - val_acc: 0.9780\n",
      "Epoch 12/20\n",
      "64000/64000 [==============================] - 15s 233us/step - loss: 0.1186 - acc: 0.9650 - val_loss: 0.0716 - val_acc: 0.9804\n",
      "Epoch 13/20\n",
      "64000/64000 [==============================] - 15s 232us/step - loss: 0.1076 - acc: 0.9674 - val_loss: 0.0670 - val_acc: 0.9804\n",
      "Epoch 14/20\n",
      "64000/64000 [==============================] - 15s 232us/step - loss: 0.1019 - acc: 0.9688 - val_loss: 0.0662 - val_acc: 0.9792\n",
      "Epoch 15/20\n",
      "64000/64000 [==============================] - 15s 232us/step - loss: 0.0970 - acc: 0.9707 - val_loss: 0.0608 - val_acc: 0.9820\n",
      "Epoch 16/20\n",
      "64000/64000 [==============================] - 15s 232us/step - loss: 0.0880 - acc: 0.9729 - val_loss: 0.0595 - val_acc: 0.9823\n",
      "Epoch 17/20\n",
      "64000/64000 [==============================] - 15s 232us/step - loss: 0.0852 - acc: 0.9741 - val_loss: 0.0560 - val_acc: 0.9842\n",
      "Epoch 18/20\n",
      "64000/64000 [==============================] - 15s 232us/step - loss: 0.0784 - acc: 0.9754 - val_loss: 0.0549 - val_acc: 0.9833\n",
      "Epoch 19/20\n",
      "64000/64000 [==============================] - 15s 233us/step - loss: 0.0773 - acc: 0.9757 - val_loss: 0.0547 - val_acc: 0.9848\n",
      "Epoch 20/20\n",
      "64000/64000 [==============================] - 15s 241us/step - loss: 0.0732 - acc: 0.9775 - val_loss: 0.0533 - val_acc: 0.9836\n"
     ]
    }
   ],
   "source": [
    "history = model.fit(X_train, Y_train,\n",
    "                    batch_size=128,\n",
    "                    epochs=20,\n",
    "                    verbose=1,\n",
    "                    validation_data=(X_test, Y_test))"
   ]
  },
  {
   "cell_type": "code",
   "execution_count": 28,
   "metadata": {
    "colab": {},
    "colab_type": "code",
    "id": "QDQmyO2kkGeA"
   },
   "outputs": [],
   "source": [
    "predict = model.predict(X_test)"
   ]
  },
  {
   "cell_type": "code",
   "execution_count": 29,
   "metadata": {
    "colab": {
     "base_uri": "https://localhost:8080/",
     "height": 34
    },
    "colab_type": "code",
    "id": "lwTzCBUKkGkf",
    "outputId": "3c464bfb-e601-46d6-fc4c-e0f5db02ea43"
   },
   "outputs": [
    {
     "data": {
      "text/plain": [
       "16000"
      ]
     },
     "execution_count": 29,
     "metadata": {},
     "output_type": "execute_result"
    }
   ],
   "source": [
    "len(predict)"
   ]
  },
  {
   "cell_type": "code",
   "execution_count": 30,
   "metadata": {
    "colab": {},
    "colab_type": "code",
    "id": "eT6iTnyg8Yx_"
   },
   "outputs": [],
   "source": [
    "# ラベルの設定\n",
    "label = [\"あ\",\"い\",\"う\",\"え\",\"お\",\"か\",\"が\",\"き\",\"ぎ\",\"く\",\"ぐ\",\"け\",\"げ\",\"こ\",\"ご\",\"さ\",\"ざ\",\"し\",\"じ\",\"す\",\"ず\",\"せ\",\"ぜ\",\"そ\",\"ぞ\",\"た\",\"だ\",\"ち\",\"ぢ\",\"つ\",\"づ\",\"て\",\"で\",\"と\",\"ど\",\"な\",\"に\",\"ぬ\",\"ね\",\"の\",\"は\",\"ば\",\"ぱ\",\"ひ\",\"び\",\"ぴ\",\"ふ\",\"ぶ\",\"ぷ\",\"へ\",\"べ\",\"ぺ\",\"ほ\",\"ぼ\",\"ぽ\",\"ま\",\"み\",\"む\",\"め\",\"も\",\"や\",\"ゆ\",\"よ\",\"ら\",\"り\",\"る\",\"れ\",\"ろ\",\"わ\",\"ゐ\",\"ゑ\",\"を\",\"ん\"]"
   ]
  },
  {
   "cell_type": "code",
   "execution_count": 31,
   "metadata": {
    "colab": {
     "base_uri": "https://localhost:8080/",
     "height": 348
    },
    "colab_type": "code",
    "id": "3JG8bQTzkGgX",
    "outputId": "9aa7a01c-74ed-4079-d8e2-5e1300ccce61"
   },
   "outputs": [
    {
     "data": {
      "image/png": "[encoded data removed]",
      "text/plain": [
       "<Figure size 432x288 with 1 Axes>"
      ]
     },
     "metadata": {
      "needs_background": "light"
     },
     "output_type": "display_data"
    }
   ],
   "source": [
    "import matplotlib.pyplot as plt\n",
    "ind = 500\n",
    "im_list = np.asarray(X_test_orig[ind])\n",
    "plt.imshow(im_list)\n",
    "plt.show()"
   ]
  },
  {
   "cell_type": "code",
   "execution_count": 32,
   "metadata": {
    "colab": {
     "base_uri": "https://localhost:8080/",
     "height": 34
    },
    "colab_type": "code",
    "id": "S6zqrK_E6zyA",
    "outputId": "96881e55-52f5-45dd-f65c-5648e2ea0716",
    "scrolled": false
   },
   "outputs": [
    {
     "data": {
      "text/plain": [
       "'ん'"
      ]
     },
     "execution_count": 32,
     "metadata": {},
     "output_type": "execute_result"
    }
   ],
   "source": [
    "label[predict[ind].tolist().index(max(predict[ind]))]"
   ]
  },
  {
   "cell_type": "code",
   "execution_count": 33,
   "metadata": {},
   "outputs": [],
   "source": [
    "#モデルの保存\n",
    "model.save('./model/hiragana_model.h5', include_optimizer=False)"
   ]
  },
  {
   "cell_type": "code",
   "execution_count": 34,
   "metadata": {},
   "outputs": [
    {
     "name": "stdout",
     "output_type": "stream",
     "text": [
      "name: う\n",
      "score: 0.9988631\n"
     ]
    },
    {
     "name": "stderr",
     "output_type": "stream",
     "text": [
      "/usr/local/lib/python3.6/dist-packages/keras/engine/saving.py:292: UserWarning: No training configuration found in save file: the model was *not* compiled. Compile it manually.\n",
      "  warnings.warn('No training configuration found in save file: '\n"
     ]
    }
   ],
   "source": [
    "from keras.models import load_model\n",
    "import numpy as np\n",
    "from keras.preprocessing.image import img_to_array, load_img\n",
    "\n",
    "jpg_name = ''\n",
    "\n",
    "model=load_model('./model/hiragana_model.h5')\n",
    "\n",
    "img_path = ('./sample/test2.png')\n",
    "img = img_to_array(load_img(img_path, target_size=(48,48)))\n",
    "img_nad = img_to_array(img)/255\n",
    "img_nad = img_nad[None, ...]\n",
    "\n",
    "label=[\"あ\",\"い\",\"う\",\"え\",\"お\",\"か\",\"が\",\"き\",\"ぎ\",\"く\",\"ぐ\",\"け\",\"げ\",\"こ\",\"ご\",\"さ\",\"ざ\",\"し\",\"じ\",\"す\",\"ず\",\"せ\",\"ぜ\",\"そ\",\"ぞ\",\"た\",\"だ\",\"ち\",\"ぢ\",\"つ\",\"づ\",\"て\",\"で\",\"と\",\"ど\",\"な\",\"に\",\"ぬ\",\"ね\",\"の\",\"は\",\"ば\",\"ぱ\",\"ひ\",\"び\",\"ぴ\",\"ふ\",\"ぶ\",\"ぷ\",\"へ\",\"べ\",\"ぺ\",\"ほ\",\"ぼ\",\"ぽ\",\"ま\",\"み\",\"む\",\"め\",\"も\",\"や\",\"ゆ\",\"よ\",\"ら\",\"り\",\"る\",\"れ\",\"ろ\",\"わ\",\"ゐ\",\"ゑ\",\"を\",\"ん\"]\n",
    "pred = model.predict(img_nad, batch_size=1, verbose=0)\n",
    "score = np.max(pred)\n",
    "pred_label = label[np.argmax(pred[0])]\n",
    "print('name:',pred_label)\n",
    "print('score:',score)"
   ]
  },
  {
   "cell_type": "code",
   "execution_count": 35,
   "metadata": {},
   "outputs": [],
   "source": [
    "# HTTPサーバに組みこむ際のサンプルコード\n",
    "from keras.models import load_model\n",
    "import numpy as np\n",
    "from PIL import Image\n",
    "from keras.preprocessing.image import img_to_array\n",
    "from keras.applications.imagenet_utils import preprocess_input\n",
    "\n",
    "model=load_model('./model/hiragana_model.h5')\n",
    "\n",
    "def process_image(img):\n",
    "    img = Image.fromarray(img)\n",
    "    img = img.resize((48, 48)).convert('RGB')\n",
    "    \n",
    "    x = img_to_array(img)\n",
    "    x = np.expand_dims(x, axis=0)\n",
    "    x = preprocess_input(x, mode='tf')\n",
    "\n",
    "    label=[\"あ\",\"い\",\"う\",\"え\",\"お\",\"か\",\"が\",\"き\",\"ぎ\",\"く\",\"ぐ\",\"け\",\"げ\",\"こ\",\"ご\",\"さ\",\"ざ\",\"し\",\"じ\",\"す\",\"ず\",\"せ\",\"ぜ\",\"そ\",\"ぞ\",\"た\",\"だ\",\"ち\",\"ぢ\",\"つ\",\"づ\",\"て\",\"で\",\"と\",\"ど\",\"な\",\"に\",\"ぬ\",\"ね\",\"の\",\"は\",\"ば\",\"ぱ\",\"ひ\",\"び\",\"ぴ\",\"ふ\",\"ぶ\",\"ぷ\",\"へ\",\"べ\",\"ぺ\",\"ほ\",\"ぼ\",\"ぽ\",\"ま\",\"み\",\"む\",\"め\",\"も\",\"や\",\"ゆ\",\"よ\",\"ら\",\"り\",\"る\",\"れ\",\"ろ\",\"わ\",\"ゐ\",\"ゑ\",\"を\",\"ん\"]\n",
    "    pred = model.predict(x,verbose=0)[0]\n",
    "    print(pred)\n",
    "    result_with_labels = [{\"label\": label[i], \"probability\": float(score)} for i, score in enumerate(pred)]\n",
    "    result = {\"result\":sorted(result_with_labels, key=lambda x: x['probability'], reverse=True)[:5]}\n",
    "\n",
    "    return result\n",
    "\n",
    "def handler(iter, context):\n",
    "    for img in iter:\n",
    "        yield process_image(img)"
   ]
  },
  {
   "cell_type": "code",
   "execution_count": 36,
   "metadata": {
    "scrolled": true
   },
   "outputs": [
    {
     "name": "stdout",
     "output_type": "stream",
     "text": [
      "[7.4382829e-06 2.8569837e-11 4.7673679e-05 7.3069924e-01 8.5597785e-06\n",
      " 2.2180767e-07 1.2219082e-09 1.8823082e-05 4.2051920e-06 2.1858150e-04\n",
      " 1.3728683e-07 1.1203432e-09 4.3593389e-11 3.0722229e-05 3.5691909e-07\n",
      " 4.5003698e-04 3.5336645e-06 1.6762047e-05 2.0647948e-07 7.6740334e-06\n",
      " 2.0776845e-08 6.1004295e-07 4.8975570e-09 1.0654498e-04 5.3555766e-08\n",
      " 2.4528947e-06 7.4200813e-08 2.8671752e-04 3.3469129e-07 2.6842636e-06\n",
      " 2.1956936e-09 1.1892011e-03 1.0810955e-06 1.1992943e-03 1.4048549e-06\n",
      " 1.7566131e-04 3.1679126e-06 3.0692033e-07 1.9626395e-06 1.9293050e-07\n",
      " 1.9598490e-04 1.1064555e-04 9.7789075e-07 1.4660564e-05 8.8232906e-07\n",
      " 6.3681399e-10 1.7039153e-01 8.8709538e-05 1.5602785e-05 1.2139368e-07\n",
      " 5.4283728e-06 9.4308810e-08 3.8946844e-05 2.4232189e-03 3.0767413e-05\n",
      " 3.9551057e-02 7.4005348e-04 2.4283182e-08 3.6018080e-09 3.6809098e-03\n",
      " 2.8598503e-08 1.5380637e-08 9.1132283e-04 6.4593600e-03 2.2761892e-06\n",
      " 2.8332315e-02 1.8883629e-06 1.5912419e-05 1.7960707e-08 1.0182603e-06\n",
      " 9.5987245e-03 2.0915265e-03 8.1000320e-04]\n"
     ]
    },
    {
     "data": {
      "text/plain": [
       "{'result': [{'label': 'え', 'probability': 0.7306992411613464},\n",
       "  {'label': 'ふ', 'probability': 0.1703915297985077},\n",
       "  {'label': 'ま', 'probability': 0.039551056921482086},\n",
       "  {'label': 'る', 'probability': 0.028332315385341644},\n",
       "  {'label': 'ゑ', 'probability': 0.00959872454404831}]}"
      ]
     },
     "execution_count": 36,
     "metadata": {},
     "output_type": "execute_result"
    }
   ],
   "source": [
    "#img = Image.open('./test.png')\n",
    "img = Image.open('./sample/test4.png')\n",
    "img = np.asarray(img)\n",
    "process_image(img)"
   ]
  },
  {
   "cell_type": "markdown",
   "metadata": {},
   "source": [
    "この後、modelフォルダに存在するh5ファイルとmain.pyを圧縮し\n",
    "ABEJA Platform上にアップロードすることで、HTTPサーバとして活用可能"
   ]
  },
  {
   "cell_type": "markdown",
   "metadata": {
    "colab_type": "text",
    "id": "Tz87rb_I81sc"
   },
   "source": [
    "## Imagegeneratorを使う場合(参考程度に記載)"
   ]
  },
  {
   "cell_type": "code",
   "execution_count": 37,
   "metadata": {
    "colab": {},
    "colab_type": "code",
    "id": "oh0OEX3M8753"
   },
   "outputs": [],
   "source": [
    "from keras.preprocessing.image import ImageDataGenerator"
   ]
  },
  {
   "cell_type": "code",
   "execution_count": 38,
   "metadata": {
    "colab": {},
    "colab_type": "code",
    "id": "rHiTW3YV8-t6"
   },
   "outputs": [],
   "source": [
    "datagen = ImageDataGenerator(rescale=1./255,\n",
    "    #shear_range=0.1,\n",
    "    #zoom_range=0.2,\n",
    "    horizontal_flip=True,\n",
    "    validation_split=0.2) # set test split"
   ]
  },
  {
   "cell_type": "code",
   "execution_count": 39,
   "metadata": {
    "colab": {},
    "colab_type": "code",
    "id": "pd1e3eBB8-wh"
   },
   "outputs": [
    {
     "name": "stdout",
     "output_type": "stream",
     "text": [
      "Found 80000 images belonging to 73 classes.\n"
     ]
    }
   ],
   "source": [
    "dir = '/home/data/hiragana73'\n",
    "train_generator = datagen.flow_from_directory(\n",
    "        dir,     # directory\n",
    "        target_size=(48, 48),     # input shape (resized to 150x150)\n",
    "        batch_size=20,\n",
    "        class_mode='categorical')    # categorical labels"
   ]
  },
  {
   "cell_type": "code",
   "execution_count": 40,
   "metadata": {
    "colab": {},
    "colab_type": "code",
    "id": "NBsxeDpW8-y4"
   },
   "outputs": [
    {
     "name": "stdout",
     "output_type": "stream",
     "text": [
      "Found 15973 images belonging to 73 classes.\n"
     ]
    }
   ],
   "source": [
    "test_generator = datagen.flow_from_directory(\n",
    "    dir, # same directory as training data\n",
    "    target_size=(48, 48),\n",
    "    batch_size=20,\n",
    "    class_mode='categorical',\n",
    "    subset='validation') # set as validation data"
   ]
  },
  {
   "cell_type": "code",
   "execution_count": 41,
   "metadata": {
    "colab": {},
    "colab_type": "code",
    "id": "gnyjI_ZE9ngC"
   },
   "outputs": [],
   "source": [
    "from keras import layers\n",
    "from keras import models\n",
    "\n",
    "model = models.Sequential()\n",
    "model.add(layers.Conv2D(32, (3, 3), activation='relu',input_shape=(48, 48, 3)))\n",
    "model.add(layers.MaxPooling2D((2, 2)))\n",
    "model.add(layers.Dropout(0.2))\n",
    "model.add(layers.Conv2D(64, (3, 3), activation='relu'))\n",
    "model.add(layers.MaxPooling2D((2, 2)))\n",
    "model.add(layers.Dropout(0.2))\n",
    "model.add(layers.Conv2D(128, (3, 3), activation='relu'))\n",
    "model.add(layers.MaxPooling2D((2, 2)))\n",
    "model.add(layers.Dropout(0.2))\n",
    "model.add(layers.Conv2D(128, (3, 3), activation='relu'))\n",
    "model.add(layers.MaxPooling2D((2, 2)))\n",
    "model.add(layers.Dropout(0.2))\n",
    "model.add(layers.Flatten())\n",
    "model.add(layers.Dense(512, activation='relu'))\n",
    "model.add(layers.Dropout(0.2))\n",
    "model.add(layers.Dense(73, activation='softmax'))\n",
    "\n",
    "from keras import optimizers\n",
    "\n",
    "model.compile(loss='categorical_crossentropy',\n",
    "              optimizer=optimizers.RMSprop(lr=1e-4),\n",
    "              metrics=['acc'])"
   ]
  },
  {
   "cell_type": "code",
   "execution_count": 42,
   "metadata": {
    "colab": {},
    "colab_type": "code",
    "id": "m-VQKQVT9sce"
   },
   "outputs": [
    {
     "name": "stdout",
     "output_type": "stream",
     "text": [
      "Epoch 1/20\n",
      "354/354 [==============================] - 4s 13ms/step - loss: 4.2793 - acc: 0.0171 - val_loss: 4.2686 - val_acc: 0.0134\n",
      "Epoch 2/20\n",
      "354/354 [==============================] - 4s 11ms/step - loss: 4.2639 - acc: 0.0175 - val_loss: 4.2525 - val_acc: 0.0205\n",
      "Epoch 3/20\n",
      "354/354 [==============================] - 4s 11ms/step - loss: 4.2471 - acc: 0.0189 - val_loss: 4.2048 - val_acc: 0.0589\n",
      "Epoch 4/20\n",
      "354/354 [==============================] - 4s 11ms/step - loss: 4.1633 - acc: 0.0390 - val_loss: 3.9425 - val_acc: 0.0982\n",
      "Epoch 5/20\n",
      "354/354 [==============================] - 4s 11ms/step - loss: 3.7972 - acc: 0.0883 - val_loss: 3.2161 - val_acc: 0.2188\n",
      "Epoch 6/20\n",
      "354/354 [==============================] - 4s 11ms/step - loss: 3.2666 - acc: 0.1770 - val_loss: 2.4748 - val_acc: 0.4196\n",
      "Epoch 7/20\n",
      "354/354 [==============================] - 4s 11ms/step - loss: 2.6793 - acc: 0.2992 - val_loss: 1.6870 - val_acc: 0.5955\n",
      "Epoch 8/20\n",
      "354/354 [==============================] - 4s 11ms/step - loss: 2.1974 - acc: 0.4031 - val_loss: 1.3526 - val_acc: 0.6723\n",
      "Epoch 9/20\n",
      "354/354 [==============================] - 4s 11ms/step - loss: 1.8198 - acc: 0.4936 - val_loss: 0.9423 - val_acc: 0.7634\n",
      "Epoch 10/20\n",
      "354/354 [==============================] - 4s 11ms/step - loss: 1.5293 - acc: 0.5811 - val_loss: 0.8494 - val_acc: 0.7821\n",
      "Epoch 11/20\n",
      "354/354 [==============================] - 4s 11ms/step - loss: 1.2908 - acc: 0.6492 - val_loss: 0.6613 - val_acc: 0.8286\n",
      "Epoch 12/20\n",
      "354/354 [==============================] - 4s 11ms/step - loss: 1.1055 - acc: 0.6945 - val_loss: 0.6432 - val_acc: 0.8259\n",
      "Epoch 13/20\n",
      "354/354 [==============================] - 4s 11ms/step - loss: 1.0330 - acc: 0.7205 - val_loss: 0.5572 - val_acc: 0.8563\n",
      "Epoch 14/20\n",
      "354/354 [==============================] - 4s 11ms/step - loss: 0.8982 - acc: 0.7528 - val_loss: 0.5127 - val_acc: 0.8643\n",
      "Epoch 15/20\n",
      "354/354 [==============================] - 4s 11ms/step - loss: 0.8120 - acc: 0.7688 - val_loss: 0.5068 - val_acc: 0.8760\n",
      "Epoch 16/20\n",
      "354/354 [==============================] - 4s 11ms/step - loss: 0.7672 - acc: 0.7863 - val_loss: 0.4481 - val_acc: 0.8902\n",
      "Epoch 17/20\n",
      "354/354 [==============================] - 4s 11ms/step - loss: 0.7212 - acc: 0.8025 - val_loss: 0.3413 - val_acc: 0.9054\n",
      "Epoch 18/20\n",
      "354/354 [==============================] - 4s 11ms/step - loss: 0.6413 - acc: 0.8295 - val_loss: 0.3456 - val_acc: 0.9143\n",
      "Epoch 19/20\n",
      "354/354 [==============================] - 4s 11ms/step - loss: 0.6203 - acc: 0.8328 - val_loss: 0.3662 - val_acc: 0.9080\n",
      "Epoch 20/20\n",
      "354/354 [==============================] - 4s 11ms/step - loss: 0.5693 - acc: 0.8438 - val_loss: 0.3923 - val_acc: 0.9250\n"
     ]
    }
   ],
   "source": [
    "history = model.fit_generator(\n",
    "      train_generator,\n",
    "      steps_per_epoch=354,\n",
    "      epochs=20,\n",
    "      validation_data=test_generator,\n",
    "      validation_steps=56)"
   ]
  },
  {
   "cell_type": "code",
   "execution_count": 43,
   "metadata": {
    "colab": {},
    "colab_type": "code",
    "id": "GR6uSAyM9vQ8"
   },
   "outputs": [
    {
     "name": "stdout",
     "output_type": "stream",
     "text": [
      "test loss: 0.2694622940832266\n",
      "test acc: 0.9342592535195527\n"
     ]
    }
   ],
   "source": [
    "from keras.models import load_model\n",
    "from keras.preprocessing.image import ImageDataGenerator\n",
    "\n",
    "test_loss, test_acc = model.evaluate_generator(test_generator, steps=54)\n",
    "print('test loss:', test_loss)\n",
    "print('test acc:', test_acc)"
   ]
  }
 ],
 "metadata": {
  "accelerator": "GPU",
  "colab": {
   "collapsed_sections": [],
   "name": "hiragana.ipynb",
   "provenance": [],
   "version": "0.3.2"
  },
  "kernelspec": {
   "display_name": "Python 3",
   "language": "python",
   "name": "python3"
  },
  "language_info": {
   "codemirror_mode": {
    "name": "ipython",
    "version": 3
   },
   "file_extension": ".py",
   "mimetype": "text/x-python",
   "name": "python",
   "nbconvert_exporter": "python",
   "pygments_lexer": "ipython3",
   "version": "3.6.6"
  }
 },
 "nbformat": 4,
 "nbformat_minor": 1
}

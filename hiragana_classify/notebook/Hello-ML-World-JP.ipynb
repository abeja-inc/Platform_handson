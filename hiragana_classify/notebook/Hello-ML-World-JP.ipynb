{
 "cells": [
  {
   "cell_type": "markdown",
   "metadata": {},
   "source": [
    "## 導入 -The Hello World of Deep Learning with Neural Networks\n",
    "\n",
    "Translated and modified the colab project:  \n",
    "https://colab.research.google.com/github/lmoroney/mlday-tokyo/blob/master/Lab1-Hello-ML-World.ipynb"
   ]
  },
  {
   "cell_type": "markdown",
   "metadata": {},
   "source": [
    "### ライブラリのインポート"
   ]
  },
  {
   "cell_type": "code",
   "execution_count": null,
   "metadata": {},
   "outputs": [],
   "source": [
    "import tensorflow as tf\n",
    "import numpy as np\n",
    "from tensorflow import keras\n",
    "import matplotlib.pyplot as plt\n",
    "%matplotlib inline"
   ]
  },
  {
   "cell_type": "markdown",
   "metadata": {},
   "source": [
    "### データの用意"
   ]
  },
  {
   "cell_type": "code",
   "execution_count": null,
   "metadata": {},
   "outputs": [],
   "source": [
    "xs = np.array([-1.0, 0.0, 1.0, 2.0, 3.0, 4.0], dtype=float)\n",
    "ys = np.array([-2.0, 1.0, 4.0, 7.0, 10.0, 13.0], dtype=float)\n",
    "plt.scatter(xs, ys)\n",
    "plt.xlim(-3, 11)\n",
    "plt.ylim(-5, 33)\n",
    "plt.grid(which='major',color='gray',linestyle='-')\n",
    "plt.show()"
   ]
  },
  {
   "cell_type": "markdown",
   "metadata": {},
   "source": [
    "### モデルの構築\n",
    "最も簡単なニューラルネットワークのモデルを構築します。それは1つの層を持ち、その層は1つのニューロンを持ち、そのニューロンへの入力は1つの値です。\n"
   ]
  },
  {
   "cell_type": "code",
   "execution_count": null,
   "metadata": {},
   "outputs": [],
   "source": [
    "model = tf.keras.Sequential([keras.layers.Dense(units=1,\n",
    "                                                input_shape=[1],\n",
    "                                                kernel_initializer='glorot_uniform',\n",
    "                                                bias_initializer='zeros')])\n",
    "model.summary()"
   ]
  },
  {
   "cell_type": "markdown",
   "metadata": {},
   "source": [
    "ニューラルネットワークを実行する際には、2つの関数、損失関数とオプティマイザ関数を指定する必要があります。\n",
    "データに「y = 3x + 1」の」関係があることがわかりますが、コンピュータがそれを「学習」する際、まず「y = 10 x + 10」等の推測を行います。損失関数は、推測された回答に対して既知の回答をつき合わせ、推測がどの程度、正確だったかを測定します。\n",
    "次に、損失関数の推測結果に基づいて、オプティマイザ関数を用いて、損失関数を最小限に抑えるようにパラメータを調整します。その結果、「y = 5x + 5」のような別の関数を思いつくかもしれません。それは、正しい結果により近く（すなわち、損失はより低く）なります。"
   ]
  },
  {
   "cell_type": "code",
   "execution_count": null,
   "metadata": {},
   "outputs": [],
   "source": [
    "model.compile(optimizer='sgd', loss='mean_squared_error')"
   ]
  },
  {
   "cell_type": "markdown",
   "metadata": {},
   "source": [
    "### モデルの学習"
   ]
  },
  {
   "cell_type": "code",
   "execution_count": null,
   "metadata": {},
   "outputs": [],
   "source": [
    "model.fit(xs, ys, epochs=20)"
   ]
  },
  {
   "cell_type": "markdown",
   "metadata": {},
   "source": [
    "### モデルの推論"
   ]
  },
  {
   "cell_type": "code",
   "execution_count": null,
   "metadata": {},
   "outputs": [],
   "source": [
    "x = 10.0\n",
    "y = model.predict([x])\n",
    "print('The answer is ' + str(float(y)) + '.')"
   ]
  },
  {
   "cell_type": "markdown",
   "metadata": {},
   "source": [
    "答えが、31ではないことに驚いたかもしれません。それはなぜでしょう。\n",
    "機械学習は確率を扱います。\n",
    "モデルの学習に用いたデータから、xとyの間に「y = 3x + 1」であるという非常に高い確率があると計算しましたが、100％そうであるとは言えません。\n",
    "その結果、x = 10の時のyは31に非常に近くなりますが、必ずしも31とは限りません。"
   ]
  }
 ],
 "metadata": {
  "kernelspec": {
   "display_name": "Python 3",
   "language": "python",
   "name": "python3"
  },
  "language_info": {
   "codemirror_mode": {
    "name": "ipython",
    "version": 3
   },
   "file_extension": ".py",
   "mimetype": "text/x-python",
   "name": "python",
   "nbconvert_exporter": "python",
   "pygments_lexer": "ipython3",
   "version": "3.7.2"
  }
 },
 "nbformat": 4,
 "nbformat_minor": 2
}

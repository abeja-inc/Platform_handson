{
 "cells": [
  {
   "cell_type": "code",
   "execution_count": null,
   "metadata": {},
   "outputs": [],
   "source": [
    "import cv2\n",
    "import requests\n",
    "import json\n",
    "\n",
    "%matplotlib inline\n",
    "from matplotlib import pyplot as plt\n",
    "import numpy as np\n",
    "\n",
    "\n",
    "image_path = 'image/test1.jpg'\n",
    "endpoint_url = 'XXX'\n",
    "user_id = 'user-XXXXXXXXXXXXX'\n",
    "personal_access_token = 'XXX'\n",
    "\n",
    "data = open(image_path, 'rb').read()\n",
    "headers = {'Content-Type': 'image/png'}\n",
    "auth = (user_id, personal_access_token)\n",
    "\n",
    "print('Sending image to {}'.format(endpoint_url))\n",
    "\n",
    "res = requests.post(endpoint_url,\n",
    "                    data=data,\n",
    "                    headers=headers,\n",
    "                    auth=auth)\n",
    "ret = json.loads(res.content.decode('utf-8'))\n",
    "print(ret)"
   ]
  },
  {
   "cell_type": "code",
   "execution_count": null,
   "metadata": {},
   "outputs": [],
   "source": [
    "# get bbox with highest score\n",
    "xmin = int(ret['boxes'][0][0])\n",
    "xmax = int(ret['boxes'][0][2])\n",
    "ymin = int(ret['boxes'][0][1])\n",
    "ymax = int(ret['boxes'][0][3])\n",
    "\n",
    "# show image with bounding box\n",
    "image = cv2.imread(image_path)\n",
    "cv2.rectangle(image, (xmin, ymin), (xmax, ymax), (255, 255, 0), 2)\n",
    "image = cv2.cvtColor(image, cv2.COLOR_BGR2RGB)\n",
    "plt.imshow(image)\n",
    "plt.show()"
   ]
  },
  {
   "cell_type": "code",
   "execution_count": null,
   "metadata": {},
   "outputs": [],
   "source": [
    "# blur image\n",
    "image = cv2.imread(image_path)\n",
    "blurred_image = image.copy()\n",
    "blurred_image[ymin:ymax, xmin:xmax] = cv2.blur(blurred_image[ymin:ymax, xmin:xmax] ,(23,23))\n",
    "image = cv2.cvtColor(blurred_image, cv2.COLOR_BGR2RGB)\n",
    "plt.imshow(image)\n",
    "plt.show()"
   ]
  },
  {
   "cell_type": "code",
   "execution_count": null,
   "metadata": {},
   "outputs": [],
   "source": []
  }
 ],
 "metadata": {
  "kernelspec": {
   "display_name": "Python 3",
   "language": "python",
   "name": "python3"
  },
  "language_info": {
   "codemirror_mode": {
    "name": "ipython",
    "version": 3
   },
   "file_extension": ".py",
   "mimetype": "text/x-python",
   "name": "python",
   "nbconvert_exporter": "python",
   "pygments_lexer": "ipython3",
   "version": "3.7.7"
  }
 },
 "nbformat": 4,
 "nbformat_minor": 4
}
